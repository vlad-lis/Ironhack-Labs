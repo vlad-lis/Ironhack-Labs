{
 "cells": [
  {
   "cell_type": "markdown",
   "id": "ccf65fbb",
   "metadata": {},
   "source": [
    "# Lab - Customer analysis case study"
   ]
  },
  {
   "cell_type": "markdown",
   "id": "8ea8d394",
   "metadata": {},
   "source": [
    "## Day 1"
   ]
  },
  {
   "cell_type": "code",
   "execution_count": 2,
   "id": "44f42ead",
   "metadata": {},
   "outputs": [],
   "source": [
    "import pandas as pd\n",
    "import numpy as np\n",
    "import statistics as stats\n",
    "import math"
   ]
  },
  {
   "cell_type": "markdown",
   "id": "086389e2",
   "metadata": {},
   "source": [
    "**Aggregate the data into one Data Frame using Pandas. Pay attention that files may have different names for the same column. therefore, make sure that you unify the columns names before concating them.**"
   ]
  },
  {
   "cell_type": "code",
   "execution_count": 3,
   "id": "bdd94f20",
   "metadata": {},
   "outputs": [],
   "source": [
    "df1 = pd.read_csv('Data/file1.csv')\n",
    "df2 = pd.read_csv('Data/file2.csv')\n",
    "df3 = pd.read_csv('Data/file3.csv')"
   ]
  },
  {
   "cell_type": "code",
   "execution_count": 4,
   "id": "8ccde6c5",
   "metadata": {},
   "outputs": [],
   "source": [
    "df1.rename(columns={'GENDER': 'Gender', 'ST': 'State'}, inplace=True)\n",
    "df2.rename(columns={'GENDER': 'Gender', 'ST': 'State'}, inplace=True)\n",
    "\n",
    "df = pd.concat([df1, df2, df3], axis=0)"
   ]
  },
  {
   "cell_type": "markdown",
   "id": "eab36b6d",
   "metadata": {},
   "source": [
    "**Standardizing header names**"
   ]
  },
  {
   "cell_type": "code",
   "execution_count": 5,
   "id": "edb7c9cc",
   "metadata": {},
   "outputs": [],
   "source": [
    "def lower_case_columns(df):\n",
    "    df.columns = [i.lower() for i in df.columns]\n",
    "    \n",
    "    return df\n",
    "\n",
    "#or this:\n",
    "#df.rename(str.lower, axis=1)"
   ]
  },
  {
   "cell_type": "code",
   "execution_count": 6,
   "id": "23172b7e",
   "metadata": {
    "scrolled": true
   },
   "outputs": [
    {
     "data": {
      "text/html": [
       "<div>\n",
       "<style scoped>\n",
       "    .dataframe tbody tr th:only-of-type {\n",
       "        vertical-align: middle;\n",
       "    }\n",
       "\n",
       "    .dataframe tbody tr th {\n",
       "        vertical-align: top;\n",
       "    }\n",
       "\n",
       "    .dataframe thead th {\n",
       "        text-align: right;\n",
       "    }\n",
       "</style>\n",
       "<table border=\"1\" class=\"dataframe\">\n",
       "  <thead>\n",
       "    <tr style=\"text-align: right;\">\n",
       "      <th></th>\n",
       "      <th>customer</th>\n",
       "      <th>state</th>\n",
       "      <th>gender</th>\n",
       "      <th>education</th>\n",
       "      <th>customer lifetime value</th>\n",
       "      <th>income</th>\n",
       "      <th>monthly premium auto</th>\n",
       "      <th>number of open complaints</th>\n",
       "      <th>policy type</th>\n",
       "      <th>vehicle class</th>\n",
       "      <th>total claim amount</th>\n",
       "    </tr>\n",
       "  </thead>\n",
       "  <tbody>\n",
       "    <tr>\n",
       "      <th>0</th>\n",
       "      <td>RB50392</td>\n",
       "      <td>Washington</td>\n",
       "      <td>NaN</td>\n",
       "      <td>Master</td>\n",
       "      <td>NaN</td>\n",
       "      <td>0.0</td>\n",
       "      <td>1000.0</td>\n",
       "      <td>1/0/00</td>\n",
       "      <td>Personal Auto</td>\n",
       "      <td>Four-Door Car</td>\n",
       "      <td>2.704934</td>\n",
       "    </tr>\n",
       "    <tr>\n",
       "      <th>1</th>\n",
       "      <td>QZ44356</td>\n",
       "      <td>Arizona</td>\n",
       "      <td>F</td>\n",
       "      <td>Bachelor</td>\n",
       "      <td>697953.59%</td>\n",
       "      <td>0.0</td>\n",
       "      <td>94.0</td>\n",
       "      <td>1/0/00</td>\n",
       "      <td>Personal Auto</td>\n",
       "      <td>Four-Door Car</td>\n",
       "      <td>1131.464935</td>\n",
       "    </tr>\n",
       "    <tr>\n",
       "      <th>2</th>\n",
       "      <td>AI49188</td>\n",
       "      <td>Nevada</td>\n",
       "      <td>F</td>\n",
       "      <td>Bachelor</td>\n",
       "      <td>1288743.17%</td>\n",
       "      <td>48767.0</td>\n",
       "      <td>108.0</td>\n",
       "      <td>1/0/00</td>\n",
       "      <td>Personal Auto</td>\n",
       "      <td>Two-Door Car</td>\n",
       "      <td>566.472247</td>\n",
       "    </tr>\n",
       "    <tr>\n",
       "      <th>3</th>\n",
       "      <td>WW63253</td>\n",
       "      <td>California</td>\n",
       "      <td>M</td>\n",
       "      <td>Bachelor</td>\n",
       "      <td>764586.18%</td>\n",
       "      <td>0.0</td>\n",
       "      <td>106.0</td>\n",
       "      <td>1/0/00</td>\n",
       "      <td>Corporate Auto</td>\n",
       "      <td>SUV</td>\n",
       "      <td>529.881344</td>\n",
       "    </tr>\n",
       "    <tr>\n",
       "      <th>4</th>\n",
       "      <td>GA49547</td>\n",
       "      <td>Washington</td>\n",
       "      <td>M</td>\n",
       "      <td>High School or Below</td>\n",
       "      <td>536307.65%</td>\n",
       "      <td>36357.0</td>\n",
       "      <td>68.0</td>\n",
       "      <td>1/0/00</td>\n",
       "      <td>Personal Auto</td>\n",
       "      <td>Four-Door Car</td>\n",
       "      <td>17.269323</td>\n",
       "    </tr>\n",
       "    <tr>\n",
       "      <th>...</th>\n",
       "      <td>...</td>\n",
       "      <td>...</td>\n",
       "      <td>...</td>\n",
       "      <td>...</td>\n",
       "      <td>...</td>\n",
       "      <td>...</td>\n",
       "      <td>...</td>\n",
       "      <td>...</td>\n",
       "      <td>...</td>\n",
       "      <td>...</td>\n",
       "      <td>...</td>\n",
       "    </tr>\n",
       "    <tr>\n",
       "      <th>7065</th>\n",
       "      <td>LA72316</td>\n",
       "      <td>California</td>\n",
       "      <td>M</td>\n",
       "      <td>Bachelor</td>\n",
       "      <td>23405.98798</td>\n",
       "      <td>71941.0</td>\n",
       "      <td>73.0</td>\n",
       "      <td>0</td>\n",
       "      <td>Personal Auto</td>\n",
       "      <td>Four-Door Car</td>\n",
       "      <td>198.234764</td>\n",
       "    </tr>\n",
       "    <tr>\n",
       "      <th>7066</th>\n",
       "      <td>PK87824</td>\n",
       "      <td>California</td>\n",
       "      <td>F</td>\n",
       "      <td>College</td>\n",
       "      <td>3096.511217</td>\n",
       "      <td>21604.0</td>\n",
       "      <td>79.0</td>\n",
       "      <td>0</td>\n",
       "      <td>Corporate Auto</td>\n",
       "      <td>Four-Door Car</td>\n",
       "      <td>379.200000</td>\n",
       "    </tr>\n",
       "    <tr>\n",
       "      <th>7067</th>\n",
       "      <td>TD14365</td>\n",
       "      <td>California</td>\n",
       "      <td>M</td>\n",
       "      <td>Bachelor</td>\n",
       "      <td>8163.890428</td>\n",
       "      <td>0.0</td>\n",
       "      <td>85.0</td>\n",
       "      <td>3</td>\n",
       "      <td>Corporate Auto</td>\n",
       "      <td>Four-Door Car</td>\n",
       "      <td>790.784983</td>\n",
       "    </tr>\n",
       "    <tr>\n",
       "      <th>7068</th>\n",
       "      <td>UP19263</td>\n",
       "      <td>California</td>\n",
       "      <td>M</td>\n",
       "      <td>College</td>\n",
       "      <td>7524.442436</td>\n",
       "      <td>21941.0</td>\n",
       "      <td>96.0</td>\n",
       "      <td>0</td>\n",
       "      <td>Personal Auto</td>\n",
       "      <td>Four-Door Car</td>\n",
       "      <td>691.200000</td>\n",
       "    </tr>\n",
       "    <tr>\n",
       "      <th>7069</th>\n",
       "      <td>Y167826</td>\n",
       "      <td>California</td>\n",
       "      <td>M</td>\n",
       "      <td>College</td>\n",
       "      <td>2611.836866</td>\n",
       "      <td>0.0</td>\n",
       "      <td>77.0</td>\n",
       "      <td>0</td>\n",
       "      <td>Corporate Auto</td>\n",
       "      <td>Two-Door Car</td>\n",
       "      <td>369.600000</td>\n",
       "    </tr>\n",
       "  </tbody>\n",
       "</table>\n",
       "<p>12074 rows × 11 columns</p>\n",
       "</div>"
      ],
      "text/plain": [
       "     customer       state gender             education  \\\n",
       "0     RB50392  Washington    NaN                Master   \n",
       "1     QZ44356     Arizona      F              Bachelor   \n",
       "2     AI49188      Nevada      F              Bachelor   \n",
       "3     WW63253  California      M              Bachelor   \n",
       "4     GA49547  Washington      M  High School or Below   \n",
       "...       ...         ...    ...                   ...   \n",
       "7065  LA72316  California      M              Bachelor   \n",
       "7066  PK87824  California      F               College   \n",
       "7067  TD14365  California      M              Bachelor   \n",
       "7068  UP19263  California      M               College   \n",
       "7069  Y167826  California      M               College   \n",
       "\n",
       "     customer lifetime value   income  monthly premium auto  \\\n",
       "0                        NaN      0.0                1000.0   \n",
       "1                 697953.59%      0.0                  94.0   \n",
       "2                1288743.17%  48767.0                 108.0   \n",
       "3                 764586.18%      0.0                 106.0   \n",
       "4                 536307.65%  36357.0                  68.0   \n",
       "...                      ...      ...                   ...   \n",
       "7065             23405.98798  71941.0                  73.0   \n",
       "7066             3096.511217  21604.0                  79.0   \n",
       "7067             8163.890428      0.0                  85.0   \n",
       "7068             7524.442436  21941.0                  96.0   \n",
       "7069             2611.836866      0.0                  77.0   \n",
       "\n",
       "     number of open complaints     policy type  vehicle class  \\\n",
       "0                       1/0/00   Personal Auto  Four-Door Car   \n",
       "1                       1/0/00   Personal Auto  Four-Door Car   \n",
       "2                       1/0/00   Personal Auto   Two-Door Car   \n",
       "3                       1/0/00  Corporate Auto            SUV   \n",
       "4                       1/0/00   Personal Auto  Four-Door Car   \n",
       "...                        ...             ...            ...   \n",
       "7065                         0   Personal Auto  Four-Door Car   \n",
       "7066                         0  Corporate Auto  Four-Door Car   \n",
       "7067                         3  Corporate Auto  Four-Door Car   \n",
       "7068                         0   Personal Auto  Four-Door Car   \n",
       "7069                         0  Corporate Auto   Two-Door Car   \n",
       "\n",
       "      total claim amount  \n",
       "0               2.704934  \n",
       "1            1131.464935  \n",
       "2             566.472247  \n",
       "3             529.881344  \n",
       "4              17.269323  \n",
       "...                  ...  \n",
       "7065          198.234764  \n",
       "7066          379.200000  \n",
       "7067          790.784983  \n",
       "7068          691.200000  \n",
       "7069          369.600000  \n",
       "\n",
       "[12074 rows x 11 columns]"
      ]
     },
     "execution_count": 6,
     "metadata": {},
     "output_type": "execute_result"
    }
   ],
   "source": [
    "lower_case_columns(df)"
   ]
  },
  {
   "cell_type": "markdown",
   "id": "e6f660a8",
   "metadata": {},
   "source": [
    "**Removing duplicates**"
   ]
  },
  {
   "cell_type": "code",
   "execution_count": 7,
   "id": "5c5d0df1",
   "metadata": {},
   "outputs": [
    {
     "data": {
      "text/plain": [
       "(2939, 2943)"
      ]
     },
     "execution_count": 7,
     "metadata": {},
     "output_type": "execute_result"
    }
   ],
   "source": [
    "len(df[df.duplicated()]), len(df[df.duplicated(keep=False)])"
   ]
  },
  {
   "cell_type": "code",
   "execution_count": 8,
   "id": "fc1a019f",
   "metadata": {},
   "outputs": [
    {
     "data": {
      "text/html": [
       "<div>\n",
       "<style scoped>\n",
       "    .dataframe tbody tr th:only-of-type {\n",
       "        vertical-align: middle;\n",
       "    }\n",
       "\n",
       "    .dataframe tbody tr th {\n",
       "        vertical-align: top;\n",
       "    }\n",
       "\n",
       "    .dataframe thead th {\n",
       "        text-align: right;\n",
       "    }\n",
       "</style>\n",
       "<table border=\"1\" class=\"dataframe\">\n",
       "  <thead>\n",
       "    <tr style=\"text-align: right;\">\n",
       "      <th></th>\n",
       "      <th>customer</th>\n",
       "      <th>state</th>\n",
       "      <th>gender</th>\n",
       "      <th>education</th>\n",
       "      <th>customer lifetime value</th>\n",
       "      <th>income</th>\n",
       "      <th>monthly premium auto</th>\n",
       "      <th>number of open complaints</th>\n",
       "      <th>policy type</th>\n",
       "      <th>vehicle class</th>\n",
       "      <th>total claim amount</th>\n",
       "    </tr>\n",
       "  </thead>\n",
       "  <tbody>\n",
       "    <tr>\n",
       "      <th>0</th>\n",
       "      <td>RB50392</td>\n",
       "      <td>Washington</td>\n",
       "      <td>NaN</td>\n",
       "      <td>Master</td>\n",
       "      <td>NaN</td>\n",
       "      <td>0.0</td>\n",
       "      <td>1000.0</td>\n",
       "      <td>1/0/00</td>\n",
       "      <td>Personal Auto</td>\n",
       "      <td>Four-Door Car</td>\n",
       "      <td>2.704934</td>\n",
       "    </tr>\n",
       "    <tr>\n",
       "      <th>1</th>\n",
       "      <td>QZ44356</td>\n",
       "      <td>Arizona</td>\n",
       "      <td>F</td>\n",
       "      <td>Bachelor</td>\n",
       "      <td>697953.59%</td>\n",
       "      <td>0.0</td>\n",
       "      <td>94.0</td>\n",
       "      <td>1/0/00</td>\n",
       "      <td>Personal Auto</td>\n",
       "      <td>Four-Door Car</td>\n",
       "      <td>1131.464935</td>\n",
       "    </tr>\n",
       "    <tr>\n",
       "      <th>2</th>\n",
       "      <td>AI49188</td>\n",
       "      <td>Nevada</td>\n",
       "      <td>F</td>\n",
       "      <td>Bachelor</td>\n",
       "      <td>1288743.17%</td>\n",
       "      <td>48767.0</td>\n",
       "      <td>108.0</td>\n",
       "      <td>1/0/00</td>\n",
       "      <td>Personal Auto</td>\n",
       "      <td>Two-Door Car</td>\n",
       "      <td>566.472247</td>\n",
       "    </tr>\n",
       "    <tr>\n",
       "      <th>3</th>\n",
       "      <td>WW63253</td>\n",
       "      <td>California</td>\n",
       "      <td>M</td>\n",
       "      <td>Bachelor</td>\n",
       "      <td>764586.18%</td>\n",
       "      <td>0.0</td>\n",
       "      <td>106.0</td>\n",
       "      <td>1/0/00</td>\n",
       "      <td>Corporate Auto</td>\n",
       "      <td>SUV</td>\n",
       "      <td>529.881344</td>\n",
       "    </tr>\n",
       "    <tr>\n",
       "      <th>4</th>\n",
       "      <td>GA49547</td>\n",
       "      <td>Washington</td>\n",
       "      <td>M</td>\n",
       "      <td>High School or Below</td>\n",
       "      <td>536307.65%</td>\n",
       "      <td>36357.0</td>\n",
       "      <td>68.0</td>\n",
       "      <td>1/0/00</td>\n",
       "      <td>Personal Auto</td>\n",
       "      <td>Four-Door Car</td>\n",
       "      <td>17.269323</td>\n",
       "    </tr>\n",
       "    <tr>\n",
       "      <th>...</th>\n",
       "      <td>...</td>\n",
       "      <td>...</td>\n",
       "      <td>...</td>\n",
       "      <td>...</td>\n",
       "      <td>...</td>\n",
       "      <td>...</td>\n",
       "      <td>...</td>\n",
       "      <td>...</td>\n",
       "      <td>...</td>\n",
       "      <td>...</td>\n",
       "      <td>...</td>\n",
       "    </tr>\n",
       "    <tr>\n",
       "      <th>9130</th>\n",
       "      <td>LA72316</td>\n",
       "      <td>California</td>\n",
       "      <td>M</td>\n",
       "      <td>Bachelor</td>\n",
       "      <td>23405.98798</td>\n",
       "      <td>71941.0</td>\n",
       "      <td>73.0</td>\n",
       "      <td>0</td>\n",
       "      <td>Personal Auto</td>\n",
       "      <td>Four-Door Car</td>\n",
       "      <td>198.234764</td>\n",
       "    </tr>\n",
       "    <tr>\n",
       "      <th>9131</th>\n",
       "      <td>PK87824</td>\n",
       "      <td>California</td>\n",
       "      <td>F</td>\n",
       "      <td>College</td>\n",
       "      <td>3096.511217</td>\n",
       "      <td>21604.0</td>\n",
       "      <td>79.0</td>\n",
       "      <td>0</td>\n",
       "      <td>Corporate Auto</td>\n",
       "      <td>Four-Door Car</td>\n",
       "      <td>379.200000</td>\n",
       "    </tr>\n",
       "    <tr>\n",
       "      <th>9132</th>\n",
       "      <td>TD14365</td>\n",
       "      <td>California</td>\n",
       "      <td>M</td>\n",
       "      <td>Bachelor</td>\n",
       "      <td>8163.890428</td>\n",
       "      <td>0.0</td>\n",
       "      <td>85.0</td>\n",
       "      <td>3</td>\n",
       "      <td>Corporate Auto</td>\n",
       "      <td>Four-Door Car</td>\n",
       "      <td>790.784983</td>\n",
       "    </tr>\n",
       "    <tr>\n",
       "      <th>9133</th>\n",
       "      <td>UP19263</td>\n",
       "      <td>California</td>\n",
       "      <td>M</td>\n",
       "      <td>College</td>\n",
       "      <td>7524.442436</td>\n",
       "      <td>21941.0</td>\n",
       "      <td>96.0</td>\n",
       "      <td>0</td>\n",
       "      <td>Personal Auto</td>\n",
       "      <td>Four-Door Car</td>\n",
       "      <td>691.200000</td>\n",
       "    </tr>\n",
       "    <tr>\n",
       "      <th>9134</th>\n",
       "      <td>Y167826</td>\n",
       "      <td>California</td>\n",
       "      <td>M</td>\n",
       "      <td>College</td>\n",
       "      <td>2611.836866</td>\n",
       "      <td>0.0</td>\n",
       "      <td>77.0</td>\n",
       "      <td>0</td>\n",
       "      <td>Corporate Auto</td>\n",
       "      <td>Two-Door Car</td>\n",
       "      <td>369.600000</td>\n",
       "    </tr>\n",
       "  </tbody>\n",
       "</table>\n",
       "<p>9135 rows × 11 columns</p>\n",
       "</div>"
      ],
      "text/plain": [
       "     customer       state gender             education  \\\n",
       "0     RB50392  Washington    NaN                Master   \n",
       "1     QZ44356     Arizona      F              Bachelor   \n",
       "2     AI49188      Nevada      F              Bachelor   \n",
       "3     WW63253  California      M              Bachelor   \n",
       "4     GA49547  Washington      M  High School or Below   \n",
       "...       ...         ...    ...                   ...   \n",
       "9130  LA72316  California      M              Bachelor   \n",
       "9131  PK87824  California      F               College   \n",
       "9132  TD14365  California      M              Bachelor   \n",
       "9133  UP19263  California      M               College   \n",
       "9134  Y167826  California      M               College   \n",
       "\n",
       "     customer lifetime value   income  monthly premium auto  \\\n",
       "0                        NaN      0.0                1000.0   \n",
       "1                 697953.59%      0.0                  94.0   \n",
       "2                1288743.17%  48767.0                 108.0   \n",
       "3                 764586.18%      0.0                 106.0   \n",
       "4                 536307.65%  36357.0                  68.0   \n",
       "...                      ...      ...                   ...   \n",
       "9130             23405.98798  71941.0                  73.0   \n",
       "9131             3096.511217  21604.0                  79.0   \n",
       "9132             8163.890428      0.0                  85.0   \n",
       "9133             7524.442436  21941.0                  96.0   \n",
       "9134             2611.836866      0.0                  77.0   \n",
       "\n",
       "     number of open complaints     policy type  vehicle class  \\\n",
       "0                       1/0/00   Personal Auto  Four-Door Car   \n",
       "1                       1/0/00   Personal Auto  Four-Door Car   \n",
       "2                       1/0/00   Personal Auto   Two-Door Car   \n",
       "3                       1/0/00  Corporate Auto            SUV   \n",
       "4                       1/0/00   Personal Auto  Four-Door Car   \n",
       "...                        ...             ...            ...   \n",
       "9130                         0   Personal Auto  Four-Door Car   \n",
       "9131                         0  Corporate Auto  Four-Door Car   \n",
       "9132                         3  Corporate Auto  Four-Door Car   \n",
       "9133                         0   Personal Auto  Four-Door Car   \n",
       "9134                         0  Corporate Auto   Two-Door Car   \n",
       "\n",
       "      total claim amount  \n",
       "0               2.704934  \n",
       "1            1131.464935  \n",
       "2             566.472247  \n",
       "3             529.881344  \n",
       "4              17.269323  \n",
       "...                  ...  \n",
       "9130          198.234764  \n",
       "9131          379.200000  \n",
       "9132          790.784983  \n",
       "9133          691.200000  \n",
       "9134          369.600000  \n",
       "\n",
       "[9135 rows x 11 columns]"
      ]
     },
     "execution_count": 8,
     "metadata": {},
     "output_type": "execute_result"
    }
   ],
   "source": [
    "df.drop_duplicates(inplace=True)\n",
    "df.reset_index(drop=True)"
   ]
  },
  {
   "cell_type": "markdown",
   "id": "288a8c1f",
   "metadata": {},
   "source": [
    "**Deleting and rearranging columns – delete the column customer as it is only a unique identifier for each row of data**"
   ]
  },
  {
   "cell_type": "code",
   "execution_count": 9,
   "id": "998a6d82",
   "metadata": {},
   "outputs": [],
   "source": [
    "df.drop(columns=['customer'], inplace=True)"
   ]
  },
  {
   "cell_type": "markdown",
   "id": "b3777d1e",
   "metadata": {},
   "source": [
    "**Working with data types – Check the data types of all the columns and fix the incorrect ones (for ex. customer lifetime value and number of open complaints ). Hint: remove the percentage from the customer lifetime value and truncate it to an integer value.**"
   ]
  },
  {
   "cell_type": "code",
   "execution_count": 10,
   "id": "0764c03e",
   "metadata": {},
   "outputs": [],
   "source": [
    "def remove_percentage(x):\n",
    "    if isinstance(x, str):\n",
    "        return x.replace('%', '')\n",
    "    return x\n",
    "\n",
    "df['customer lifetime value'] = df['customer lifetime value'].apply(remove_percentage)"
   ]
  },
  {
   "cell_type": "code",
   "execution_count": 11,
   "id": "45d3b7d9",
   "metadata": {},
   "outputs": [
    {
     "data": {
      "text/plain": [
       "<class 'float'>    7078\n",
       "<class 'str'>      2057\n",
       "Name: customer lifetime value, dtype: int64"
      ]
     },
     "execution_count": 11,
     "metadata": {},
     "output_type": "execute_result"
    }
   ],
   "source": [
    "df['customer lifetime value'].apply(type).value_counts()"
   ]
  },
  {
   "cell_type": "code",
   "execution_count": 12,
   "id": "eb314c6f",
   "metadata": {},
   "outputs": [],
   "source": [
    "df['customer lifetime value'] =  pd.to_numeric(df['customer lifetime value'], errors='coerce')\n",
    "df['customer lifetime value'] =  df['customer lifetime value'].apply(lambda x: math.trunc(x) if np.isnan(x) != True else 0)\n"
   ]
  },
  {
   "cell_type": "markdown",
   "id": "95e9b275",
   "metadata": {},
   "source": [
    "**clean the number of open complaints and extract the middle number which is changing between records.**"
   ]
  },
  {
   "cell_type": "code",
   "execution_count": 13,
   "id": "e6d0e59a",
   "metadata": {},
   "outputs": [
    {
     "data": {
      "text/plain": [
       "array(['1/0/00', '1/2/00', '1/1/00', '1/3/00', '1/5/00', '1/4/00', nan, 0,\n",
       "       2, 3, 1, 5, 4], dtype=object)"
      ]
     },
     "execution_count": 13,
     "metadata": {},
     "output_type": "execute_result"
    }
   ],
   "source": [
    "df['number of open complaints'].unique()"
   ]
  },
  {
   "cell_type": "code",
   "execution_count": 14,
   "id": "2284e3a9",
   "metadata": {},
   "outputs": [
    {
     "data": {
      "text/plain": [
       "<class 'int'>      7070\n",
       "<class 'str'>      2064\n",
       "<class 'float'>       1\n",
       "Name: number of open complaints, dtype: int64"
      ]
     },
     "execution_count": 14,
     "metadata": {},
     "output_type": "execute_result"
    }
   ],
   "source": [
    "df['number of open complaints'].apply(type).value_counts()"
   ]
  },
  {
   "cell_type": "code",
   "execution_count": 15,
   "id": "4317b049",
   "metadata": {},
   "outputs": [],
   "source": [
    "def clean_complaints(x):\n",
    "    if isinstance(x, str):\n",
    "        return x.replace('/', '')[1]\n",
    "    return x\n",
    "\n",
    "df['number of open complaints'] = df['number of open complaints'].apply(clean_complaints)\n"
   ]
  },
  {
   "cell_type": "code",
   "execution_count": 16,
   "id": "c1d3ec84",
   "metadata": {},
   "outputs": [],
   "source": [
    "df['number of open complaints'] =  pd.to_numeric(df['number of open complaints'], errors='coerce')\n",
    "df['number of open complaints'] =  df['number of open complaints'].apply(lambda x: 0 if np.isnan(x) == True else int(x))\n"
   ]
  },
  {
   "cell_type": "markdown",
   "id": "4ee061ef",
   "metadata": {},
   "source": [
    "**Filtering data and Correcting typos – Filter the data in state and gender column to standardize the texts in those columns**"
   ]
  },
  {
   "cell_type": "code",
   "execution_count": 17,
   "id": "90a8d6c5",
   "metadata": {},
   "outputs": [],
   "source": [
    "def clean_state(state):\n",
    "    if state == 'Cali':\n",
    "        return 'California'\n",
    "    elif state == 'AZ':\n",
    "        return 'Arizona'\n",
    "    elif state == 'WA':\n",
    "        return 'Washington'\n",
    "    else:\n",
    "        return state\n",
    "\n",
    "def clean_gender(gender):\n",
    "    if gender in ['F', 'Femal', 'female', 'Female']:\n",
    "        return 'Female'\n",
    "    elif gender in ['M', 'Male']:\n",
    "        return 'Male'\n",
    "    else:\n",
    "        return gender\n",
    "\n",
    "df['state'] = list(map(clean_state, df['state']))\n",
    "df['gender'] = list(map(clean_gender, df['gender']))"
   ]
  },
  {
   "cell_type": "markdown",
   "id": "5e2e5009",
   "metadata": {},
   "source": [
    "## Day 2"
   ]
  },
  {
   "cell_type": "markdown",
   "id": "f3ef28bc",
   "metadata": {},
   "source": [
    "**Replacing null values – Replace missing values with means of the column (for numerical columns). Pay attention that the Income feature for instance has 0s which is equivalent to null values. (We assume here that there is no such income with 0 as it refers to missing values) Hint: numpy.nan is considered of float64 data type.**"
   ]
  },
  {
   "cell_type": "code",
   "execution_count": 18,
   "id": "cb80429c",
   "metadata": {},
   "outputs": [],
   "source": [
    "nonnan_values = {'state': 'Unspecified',\n",
    "                'gender': 'Unspecified',\n",
    "                'education': 'Unspecified',\n",
    "                'income': round(np.nanmean(df['income'])),\n",
    "                'monthly premium auto': round(np.nanmean(df['monthly premium auto'])),\n",
    "                'policy type': 'Unspecified',\n",
    "                'vehicle class': 'Unspecified',\n",
    "                'total claim amount': round(np.nanmean(df['total claim amount']))}\n",
    "\n",
    "df.fillna(value=nonnan_values, inplace=True)"
   ]
  },
  {
   "cell_type": "code",
   "execution_count": 19,
   "id": "d46690f0",
   "metadata": {},
   "outputs": [],
   "source": [
    "df['income'] =  df['income'].apply(lambda x: math.trunc(x))\n",
    "df['monthly premium auto'] =  df['monthly premium auto'].apply(lambda x: math.trunc(x))\n",
    "df['total claim amount'] =  df['total claim amount'].apply(lambda x: math.trunc(x))\n"
   ]
  },
  {
   "cell_type": "markdown",
   "id": "1b469b19",
   "metadata": {},
   "source": [
    "**Bucketing the data - Write a function to replace column \"State\" to different zones. California as West Region, Oregon as North West, and Washington as East, and Arizona and Nevada as Central**"
   ]
  },
  {
   "cell_type": "code",
   "execution_count": 20,
   "id": "580d5ffb",
   "metadata": {},
   "outputs": [],
   "source": [
    "def state_to_zone(state):\n",
    "    if state == 'California':\n",
    "        return 'West'\n",
    "    elif state == 'Oregon':\n",
    "        return 'North West'\n",
    "    elif state == 'Washington':\n",
    "        return 'East'\n",
    "    elif state == 'Arizona' or state == 'Nevada':\n",
    "        return 'Central'\n",
    "    else:\n",
    "        return state\n",
    "\n",
    "df['state'] = list(map(state_to_zone, df['state']))"
   ]
  },
  {
   "cell_type": "code",
   "execution_count": 21,
   "id": "a4e21cf4",
   "metadata": {},
   "outputs": [],
   "source": [
    "df.rename(columns={'state': 'region'}, inplace=True)"
   ]
  },
  {
   "cell_type": "markdown",
   "id": "4a888392",
   "metadata": {},
   "source": [
    "**(Optional) In the column Vehicle Class, merge the two categories Luxury SUV and Luxury Car into one category named Luxury Vehicle**"
   ]
  },
  {
   "cell_type": "code",
   "execution_count": 22,
   "id": "80e2ef98",
   "metadata": {},
   "outputs": [
    {
     "data": {
      "text/plain": [
       "array(['Four-Door Car', 'Two-Door Car', 'SUV', 'Luxury Vehicle',\n",
       "       'Sports Car', 'Unspecified'], dtype=object)"
      ]
     },
     "execution_count": 22,
     "metadata": {},
     "output_type": "execute_result"
    }
   ],
   "source": [
    "def clean_vehicle_class(vehicle):\n",
    "    if vehicle == 'Luxury SUV' or vehicle == 'Luxury Car':\n",
    "        return 'Luxury Vehicle'\n",
    "    return vehicle\n",
    "\n",
    "df['vehicle class'] = list(map(clean_vehicle_class, df['vehicle class']))\n",
    "df['vehicle class'].unique()"
   ]
  },
  {
   "cell_type": "markdown",
   "id": "aff4ecfe",
   "metadata": {},
   "source": [
    "**(Optional) Removing outliers using 1.5*IQR technique for all numerical columns.**"
   ]
  },
  {
   "cell_type": "code",
   "execution_count": 23,
   "id": "9dba8a40",
   "metadata": {},
   "outputs": [],
   "source": [
    "median_lifetime = stats.median(df['customer lifetime value'])\n",
    "lifetime_q1 = stats.quantiles(df['customer lifetime value'])[0]\n",
    "lifetime_q3 = stats.quantiles(df['customer lifetime value'])[2]\n",
    "lifetime_iqr = lifetime_q3 - lifetime_q1\n",
    "lifetime_lf = lifetime_q1 - 1.5*lifetime_iqr #lower fence\n",
    "lifetime_uf = lifetime_q3 + 1.5*lifetime_iqr #upper fence\n",
    "\n",
    "def remove_outliers_lifetime(x):\n",
    "    if x < lifetime_lf or x > lifetime_uf:\n",
    "        return median_lifetime\n",
    "    return x\n",
    "\n",
    "df['customer lifetime value'] = list(map(remove_outliers_lifetime, df['customer lifetime value']))"
   ]
  },
  {
   "cell_type": "code",
   "execution_count": 24,
   "id": "39f038e6",
   "metadata": {},
   "outputs": [],
   "source": [
    "median_income = stats.median(df['income'])\n",
    "income_q1 = stats.quantiles(df['income'])[0]\n",
    "income_q3 = stats.quantiles(df['income'])[2]\n",
    "income_iqr = income_q3 - income_q1\n",
    "income_lf = income_q1 - 1.5*income_iqr #lower fence\n",
    "income_uf = income_q3 + 1.5*income_iqr #upper fence\n",
    "\n",
    "def remove_outliers_income(x):\n",
    "    if x < income_lf or x > income_uf:\n",
    "        return median_income\n",
    "    return x\n",
    "\n",
    "df['income'] = list(map(remove_outliers_income, df['income']))"
   ]
  },
  {
   "cell_type": "code",
   "execution_count": 25,
   "id": "b904bc28",
   "metadata": {},
   "outputs": [],
   "source": [
    "median_premium = stats.median(df['monthly premium auto'])\n",
    "premium_q1 = stats.quantiles(df['monthly premium auto'])[0]\n",
    "premium_q3 = stats.quantiles(df['monthly premium auto'])[2]\n",
    "premium_iqr = premium_q3 - premium_q1\n",
    "premium_lf = premium_q1 - 1.5*premium_iqr #lower fence\n",
    "premium_uf = premium_q3 + 1.5*premium_iqr #upper fence\n",
    "\n",
    "def remove_outliers_premium(x):\n",
    "    if x < premium_lf or x > premium_uf:\n",
    "        return median_premium\n",
    "    return x\n",
    "\n",
    "df['monthly premium auto'] = list(map(remove_outliers_premium, df['monthly premium auto']))"
   ]
  },
  {
   "cell_type": "code",
   "execution_count": 26,
   "id": "6216d5eb",
   "metadata": {},
   "outputs": [],
   "source": [
    "#Q1-Q3 = 0 \n",
    "\n",
    "# median_complaints = stats.median(df['number of open complaints'])\n",
    "# complaints_q1 = stats.quantiles(df['number of open complaints'])[0]\n",
    "# complaints_q3 = stats.quantiles(df['number of open complaints'])[2]\n",
    "# complaints_iqr = complaints_q3 - complaints_q1\n",
    "# complaints_lf = complaints_q1 - 1.5*complaints_iqr #lower fence\n",
    "# complaints_uf = complaints_q3 + 1.5*complaints_iqr #upper fence\n",
    "\n",
    "# def remove_outliers_complaints(x):\n",
    "#     if x < complaints_lf or x > complaints_uf:\n",
    "#         return median_complaints\n",
    "#     return x\n",
    "\n",
    "# df['number of open complaints'] = list(map(remove_outliers_complaints, df['number of open complaints']))"
   ]
  },
  {
   "cell_type": "code",
   "execution_count": 27,
   "id": "d3143c6e",
   "metadata": {},
   "outputs": [],
   "source": [
    "median_claim = stats.median(df['total claim amount'])\n",
    "claim_q1 = stats.quantiles(df['total claim amount'])[0]\n",
    "claim_q3 = stats.quantiles(df['total claim amount'])[2]\n",
    "claim_iqr = claim_q3 - claim_q1\n",
    "claim_lf = claim_q1 - 1.5*claim_iqr #lower fence\n",
    "claim_uf = claim_q3 + 1.5*claim_iqr #upper fence\n",
    "\n",
    "def remove_outliers_claim(x):\n",
    "    if x < claim_lf or x > claim_uf:\n",
    "        return median_claim\n",
    "    return x\n",
    "\n",
    "df['total claim amount'] = list(map(remove_outliers_claim, df['total claim amount']))"
   ]
  },
  {
   "cell_type": "markdown",
   "id": "da71617d",
   "metadata": {},
   "source": [
    "**(Optional) Standardizing the data – Use string functions to standardize the text data (lower case)**"
   ]
  },
  {
   "cell_type": "code",
   "execution_count": 28,
   "id": "202d9e31",
   "metadata": {},
   "outputs": [],
   "source": [
    "df['region'] = df['region'].str.lower()\n",
    "df['gender'] = df['gender'].str.lower()\n",
    "df['education'] = df['education'].str.lower()\n",
    "df['policy type'] = df['policy type'].str.lower()\n",
    "df['vehicle class'] = df['vehicle class'].str.lower()"
   ]
  }
 ],
 "metadata": {
  "kernelspec": {
   "display_name": "Python 3 (ipykernel)",
   "language": "python",
   "name": "python3"
  },
  "language_info": {
   "codemirror_mode": {
    "name": "ipython",
    "version": 3
   },
   "file_extension": ".py",
   "mimetype": "text/x-python",
   "name": "python",
   "nbconvert_exporter": "python",
   "pygments_lexer": "ipython3",
   "version": "3.9.13"
  }
 },
 "nbformat": 4,
 "nbformat_minor": 5
}
