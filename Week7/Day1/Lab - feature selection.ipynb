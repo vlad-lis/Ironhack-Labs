{
 "cells": [
  {
   "cell_type": "markdown",
   "id": "de00a862",
   "metadata": {},
   "source": [
    "# Lab - feature selection"
   ]
  },
  {
   "cell_type": "code",
   "execution_count": 1,
   "id": "2badf1ee",
   "metadata": {},
   "outputs": [],
   "source": [
    "import pandas as pd\n",
    "import numpy as np\n",
    "import statistics as stats\n",
    "import seaborn as sns\n",
    "import matplotlib.pyplot as plt\n",
    "import math\n",
    "from sklearn.preprocessing import PowerTransformer, StandardScaler, minmax_scale, OneHotEncoder\n",
    "%matplotlib inline\n",
    "\n",
    "from scipy.stats import iqr\n",
    "from sklearn.compose import ColumnTransformer\n",
    "from sklearn.linear_model import LinearRegression\n",
    "from sklearn.model_selection import train_test_split\n",
    "import statsmodels.api as sm\n",
    "\n",
    "from sklearn.metrics import r2_score\n",
    "from sklearn.metrics import mean_squared_error as mse\n",
    "from sklearn.metrics import mean_absolute_error as mae"
   ]
  },
  {
   "cell_type": "code",
   "execution_count": 2,
   "id": "e38b9e8c",
   "metadata": {},
   "outputs": [],
   "source": [
    "df = pd.read_csv('Data_Marketing_Customer_Analysis_Round3.csv')"
   ]
  },
  {
   "cell_type": "markdown",
   "id": "6b00c2ba",
   "metadata": {},
   "source": [
    "* **removing useless columns**"
   ]
  },
  {
   "cell_type": "code",
   "execution_count": 3,
   "id": "3597cb89",
   "metadata": {},
   "outputs": [],
   "source": [
    "df.drop(['effective_to_date', 'month'], axis=1, inplace=True)"
   ]
  },
  {
   "cell_type": "markdown",
   "id": "77cb3ec5",
   "metadata": {},
   "source": [
    "* **remove outliers function**"
   ]
  },
  {
   "cell_type": "code",
   "execution_count": 4,
   "id": "ef94771a",
   "metadata": {},
   "outputs": [],
   "source": [
    "def remove_outliers(df):\n",
    "    for c in df.columns:\n",
    "            pct_75 = np.percentile(df[c], 75)\n",
    "            pct_25 = np.percentile(df[c], 25)\n",
    "            upper_bound = pct_75 + 1.5*iqr(df[c])\n",
    "            lower_bound = pct_25 - 1.5*iqr(df[c])\n",
    "            condition = (df[c] < upper_bound) & (df[c] > lower_bound)\n",
    "            df[c] = df[c][condition]\n",
    "    return df"
   ]
  },
  {
   "cell_type": "markdown",
   "id": "834bb79c",
   "metadata": {},
   "source": [
    "* **filling nas**"
   ]
  },
  {
   "cell_type": "code",
   "execution_count": 5,
   "id": "d35c472d",
   "metadata": {},
   "outputs": [
    {
     "data": {
      "text/plain": [
       "False"
      ]
     },
     "execution_count": 5,
     "metadata": {},
     "output_type": "execute_result"
    }
   ],
   "source": [
    "df.isnull().values.any()"
   ]
  },
  {
   "cell_type": "markdown",
   "id": "63c35a5b",
   "metadata": {},
   "source": [
    "* **X,y split**"
   ]
  },
  {
   "cell_type": "code",
   "execution_count": 6,
   "id": "44893096",
   "metadata": {},
   "outputs": [],
   "source": [
    "X = df.drop('total_claim_amount', axis=1)\n",
    "y = df[['total_claim_amount']]"
   ]
  },
  {
   "cell_type": "markdown",
   "id": "baccf84d",
   "metadata": {},
   "source": [
    "* **train test split**"
   ]
  },
  {
   "cell_type": "code",
   "execution_count": 7,
   "id": "8bb5b139",
   "metadata": {},
   "outputs": [],
   "source": [
    "tt_ratio = 0.3\n",
    "rand_seed = 40\n",
    "\n",
    "X_train, X_test, y_train, y_test = train_test_split(X, y, \n",
    "                                                    test_size=tt_ratio, \n",
    "                                                    random_state=rand_seed)"
   ]
  },
  {
   "cell_type": "markdown",
   "id": "ef73710d",
   "metadata": {},
   "source": [
    "* **standardizing the data**"
   ]
  },
  {
   "cell_type": "code",
   "execution_count": 8,
   "id": "e53c99a3",
   "metadata": {},
   "outputs": [],
   "source": [
    "#split into numeric and categorical\n",
    "numeric = df.select_dtypes(include=[np.number])\n",
    "categorical = df.select_dtypes(include=[object])\n",
    "\n",
    "#get numeric and cat columns' names\n",
    "numeric_columns_X = list(numeric.drop('total_claim_amount', axis=1).columns)\n",
    "categorical_columns_X = list(categorical.columns)\n"
   ]
  },
  {
   "cell_type": "code",
   "execution_count": 9,
   "id": "cf6f4482",
   "metadata": {},
   "outputs": [
    {
     "name": "stdout",
     "output_type": "stream",
     "text": [
      "[ColumnTransformer] ............ (1 of 2) Processing pt, total=   0.0s\n",
      "[ColumnTransformer] ............ (2 of 2) Processing dm, total=   0.0s\n"
     ]
    }
   ],
   "source": [
    "#creating a transformer\n",
    "pt = PowerTransformer()\n",
    "ct = ColumnTransformer([('pt', pt, numeric_columns_X),\n",
    "                        ('dm', OneHotEncoder(drop='first'), categorical_columns_X)],\n",
    "                       remainder='drop', verbose_feature_names_out=True, verbose=True).fit(X_train)"
   ]
  },
  {
   "cell_type": "code",
   "execution_count": 10,
   "id": "bedf94fc",
   "metadata": {},
   "outputs": [],
   "source": [
    "#applying transformer\n",
    "X_train_ct = pd.DataFrame(ct.transform(X_train), columns=ct.get_feature_names_out())\n",
    "X_test_ct = pd.DataFrame(ct.transform(X_test), columns=ct.get_feature_names_out())"
   ]
  },
  {
   "cell_type": "markdown",
   "id": "035f4e86",
   "metadata": {},
   "source": [
    "* **creating a model**"
   ]
  },
  {
   "cell_type": "code",
   "execution_count": 11,
   "id": "14da41ca",
   "metadata": {},
   "outputs": [],
   "source": [
    "#adding a constant\n",
    "X_train_ct_const = sm.add_constant(X_train_ct.to_numpy())\n",
    "X_test_ct_const = sm.add_constant(X_test_ct)"
   ]
  },
  {
   "cell_type": "code",
   "execution_count": 12,
   "id": "39624818",
   "metadata": {
    "scrolled": true
   },
   "outputs": [
    {
     "name": "stdout",
     "output_type": "stream",
     "text": [
      "                            OLS Regression Results                            \n",
      "==============================================================================\n",
      "Dep. Variable:     total_claim_amount   R-squared:                       0.739\n",
      "Model:                            OLS   Adj. R-squared:                  0.738\n",
      "Method:                 Least Squares   F-statistic:                     449.0\n",
      "Date:                Mon, 20 Feb 2023   Prob (F-statistic):               0.00\n",
      "Time:                        16:53:40   Log-Likelihood:                -48108.\n",
      "No. Observations:                7482   AIC:                         9.631e+04\n",
      "Df Residuals:                    7434   BIC:                         9.664e+04\n",
      "Df Model:                          47                                         \n",
      "Covariance Type:            nonrobust                                         \n",
      "==============================================================================\n",
      "                 coef    std err          t      P>|t|      [0.025      0.975]\n",
      "------------------------------------------------------------------------------\n",
      "const         55.4892     15.806      3.511      0.000      24.504      86.474\n",
      "x1             6.4861      2.374      2.732      0.006       1.832      11.140\n",
      "x2            -7.6382      2.065     -3.700      0.000     -11.685      -3.591\n",
      "x3            82.4259      4.378     18.827      0.000      73.844      91.008\n",
      "x4             4.3412      1.747      2.484      0.013       0.916       7.766\n",
      "x5             0.2804      1.762      0.159      0.874      -3.174       3.735\n",
      "x6            -3.3983      1.757     -1.934      0.053      -6.842       0.045\n",
      "x7            -1.6834      2.094     -0.804      0.422      -5.789       2.422\n",
      "x8            15.7581      6.770      2.328      0.020       2.487      29.029\n",
      "x9             4.1153      4.618      0.891      0.373      -4.938      13.169\n",
      "x10            7.7172      4.411      1.749      0.080      -0.930      16.365\n",
      "x11          -20.8625      5.683     -3.671      0.000     -32.002      -9.723\n",
      "x12           15.6804      5.547      2.827      0.005       4.807      26.554\n",
      "x13          115.5875      9.059     12.759      0.000      97.829     133.346\n",
      "x14           -6.6416      4.539     -1.463      0.143     -15.538       2.255\n",
      "x15          -14.7433      9.675     -1.524      0.128     -33.709       4.222\n",
      "x16            4.0882      4.596      0.890      0.374      -4.921      13.097\n",
      "x17          -11.5999      6.935     -1.673      0.094     -25.194       1.994\n",
      "x18           -4.0499      9.331     -0.434      0.664     -22.341      14.241\n",
      "x19            5.8457     11.759      0.497      0.619     -17.206      28.897\n",
      "x20          -17.7179     13.582     -1.304      0.192     -44.343       8.907\n",
      "x21           82.5081      9.798      8.421      0.000      63.302     101.714\n",
      "x22           15.3577      3.521      4.362      0.000       8.456      22.260\n",
      "x23          380.0940      5.081     74.810      0.000     370.134     390.054\n",
      "x24          220.2869      5.757     38.265      0.000     209.002     231.572\n",
      "x25           -7.5750      5.149     -1.471      0.141     -17.669       2.519\n",
      "x26           64.5668      5.926     10.895      0.000      52.950      76.184\n",
      "x27            9.5883      6.792      1.412      0.158      -3.726      22.902\n",
      "x28           15.0762      9.616      1.568      0.117      -3.775      33.927\n",
      "x29           11.5705     11.172      1.036      0.300     -10.329      33.470\n",
      "x30           12.7714     10.195      1.253      0.210      -7.213      32.756\n",
      "x31            7.3331      4.320      1.698      0.090      -1.135      15.801\n",
      "x32            0.8243      3.770      0.219      0.827      -6.567       8.215\n",
      "x33            1.4309      3.411      0.420      0.675      -5.255       8.117\n",
      "x34           33.5758     16.400      2.047      0.041       1.428      65.724\n",
      "x35           -9.6816     11.815     -0.819      0.413     -32.842      13.478\n",
      "x36           -8.8180     12.006     -0.734      0.463     -32.352      14.716\n",
      "x37            9.7299      4.414      2.205      0.028       1.078      18.382\n",
      "x38            7.5427      5.256      1.435      0.151      -2.761      17.847\n",
      "x39            2.4960      6.183      0.404      0.686      -9.625      14.617\n",
      "x40           -4.3922      4.415     -0.995      0.320     -13.046       4.262\n",
      "x41            0.7584      4.899      0.155      0.877      -8.845      10.362\n",
      "x42            4.5362      5.402      0.840      0.401      -6.053      15.126\n",
      "x43          461.0105     16.111     28.615      0.000     429.429     492.592\n",
      "x44          457.1913     15.728     29.068      0.000     426.360     488.023\n",
      "x45           64.1840     10.094      6.359      0.000      44.398      83.970\n",
      "x46           69.7204      7.775      8.967      0.000      54.479      84.962\n",
      "x47           -1.4659      4.610     -0.318      0.751     -10.503       7.571\n",
      "x48           -6.3022      5.850     -1.077      0.281     -17.770       5.165\n",
      "x49            0.1815      6.794      0.027      0.979     -13.138      13.501\n",
      "==============================================================================\n",
      "Omnibus:                     3799.078   Durbin-Watson:                   2.003\n",
      "Prob(Omnibus):                  0.000   Jarque-Bera (JB):            65572.690\n",
      "Skew:                           2.023   Prob(JB):                         0.00\n",
      "Kurtosis:                      16.927   Cond. No.                     1.14e+16\n",
      "==============================================================================\n",
      "\n",
      "Notes:\n",
      "[1] Standard Errors assume that the covariance matrix of the errors is correctly specified.\n",
      "[2] The smallest eigenvalue is 2.76e-28. This might indicate that there are\n",
      "strong multicollinearity problems or that the design matrix is singular.\n"
     ]
    }
   ],
   "source": [
    "#model\n",
    "model = sm.OLS(y_train, X_train_ct_const).fit()\n",
    "\n",
    "print_model = model.summary()\n",
    "print(print_model)"
   ]
  },
  {
   "cell_type": "markdown",
   "id": "6d676717",
   "metadata": {},
   "source": [
    "* **evaluation**"
   ]
  },
  {
   "cell_type": "code",
   "execution_count": 13,
   "id": "1790fb56",
   "metadata": {},
   "outputs": [],
   "source": [
    "#model prediction values\n",
    "y_pred_test = pd.DataFrame(model.predict(X_test_ct_const), columns=['claim_amount']) \n",
    "y_pred_train = pd.DataFrame(model.predict(X_train_ct_const), columns=['claim_amount'])"
   ]
  },
  {
   "cell_type": "code",
   "execution_count": 14,
   "id": "d1fa735f",
   "metadata": {},
   "outputs": [
    {
     "name": "stdout",
     "output_type": "stream",
     "text": [
      "21161.05836268643\n",
      "99.56643410548158\n",
      "22513.476259874635\n"
     ]
    }
   ],
   "source": [
    "#MSE, MAE\n",
    "print(mse(y_test,y_pred_test))\n",
    "print(mae(y_test,y_pred_test))\n",
    "print(mse(y_train,y_pred_train))"
   ]
  },
  {
   "cell_type": "code",
   "execution_count": 15,
   "id": "ecfdf1ca",
   "metadata": {},
   "outputs": [
    {
     "name": "stdout",
     "output_type": "stream",
     "text": [
      "145.46841018821382\n"
     ]
    }
   ],
   "source": [
    "#RMSE\n",
    "print(math.sqrt(mse(y_test,y_pred_test)))"
   ]
  },
  {
   "cell_type": "code",
   "execution_count": 16,
   "id": "dbb3c9bf",
   "metadata": {},
   "outputs": [
    {
     "data": {
      "text/plain": [
       "0.7469018733957821"
      ]
     },
     "execution_count": 16,
     "metadata": {},
     "output_type": "execute_result"
    }
   ],
   "source": [
    "#R2\n",
    "R2=r2_score(y_test, y_pred_test)\n",
    "R2"
   ]
  },
  {
   "cell_type": "code",
   "execution_count": 17,
   "id": "fd06c12f",
   "metadata": {},
   "outputs": [
    {
     "data": {
      "text/plain": [
       "0.745233094539051"
      ]
     },
     "execution_count": 17,
     "metadata": {},
     "output_type": "execute_result"
    }
   ],
   "source": [
    "#adjusted R2\n",
    "model = LinearRegression()    # model\n",
    "model.fit(X_train_ct, y_train)   # model train\n",
    "\n",
    "\n",
    "R2_test = model.score(X_test_ct, y_test)\n",
    "R2_train = model.score(X_train_ct, y_train)\n",
    "\n",
    "Adj_R2 = 1 - (1-R2) * (len(y_test)-1) / (len(y_test) - X_test.shape[1]-1)\n",
    "Adj_R2"
   ]
  },
  {
   "cell_type": "code",
   "execution_count": 18,
   "id": "deeb9d52",
   "metadata": {
    "scrolled": true
   },
   "outputs": [
    {
     "data": {
      "text/html": [
       "<div>\n",
       "<style scoped>\n",
       "    .dataframe tbody tr th:only-of-type {\n",
       "        vertical-align: middle;\n",
       "    }\n",
       "\n",
       "    .dataframe tbody tr th {\n",
       "        vertical-align: top;\n",
       "    }\n",
       "\n",
       "    .dataframe thead th {\n",
       "        text-align: right;\n",
       "    }\n",
       "</style>\n",
       "<table border=\"1\" class=\"dataframe\">\n",
       "  <thead>\n",
       "    <tr style=\"text-align: right;\">\n",
       "      <th></th>\n",
       "      <th>Attribute</th>\n",
       "      <th>Importance</th>\n",
       "    </tr>\n",
       "  </thead>\n",
       "  <tbody>\n",
       "    <tr>\n",
       "      <th>26</th>\n",
       "      <td>dm__policy_type_personal auto</td>\n",
       "      <td>1.689856e+14</td>\n",
       "    </tr>\n",
       "    <tr>\n",
       "      <th>31</th>\n",
       "      <td>dm__policy_personal l2</td>\n",
       "      <td>1.689856e+14</td>\n",
       "    </tr>\n",
       "    <tr>\n",
       "      <th>32</th>\n",
       "      <td>dm__policy_personal l3</td>\n",
       "      <td>1.689856e+14</td>\n",
       "    </tr>\n",
       "    <tr>\n",
       "      <th>30</th>\n",
       "      <td>dm__policy_personal l1</td>\n",
       "      <td>1.689856e+14</td>\n",
       "    </tr>\n",
       "    <tr>\n",
       "      <th>27</th>\n",
       "      <td>dm__policy_type_special auto</td>\n",
       "      <td>1.072167e+13</td>\n",
       "    </tr>\n",
       "    <tr>\n",
       "      <th>34</th>\n",
       "      <td>dm__policy_special l2</td>\n",
       "      <td>1.072167e+13</td>\n",
       "    </tr>\n",
       "    <tr>\n",
       "      <th>35</th>\n",
       "      <td>dm__policy_special l3</td>\n",
       "      <td>1.072167e+13</td>\n",
       "    </tr>\n",
       "    <tr>\n",
       "      <th>33</th>\n",
       "      <td>dm__policy_special l1</td>\n",
       "      <td>1.072167e+13</td>\n",
       "    </tr>\n",
       "    <tr>\n",
       "      <th>42</th>\n",
       "      <td>dm__vehicle_class_luxury car</td>\n",
       "      <td>4.609929e+02</td>\n",
       "    </tr>\n",
       "    <tr>\n",
       "      <th>43</th>\n",
       "      <td>dm__vehicle_class_luxury suv</td>\n",
       "      <td>4.570996e+02</td>\n",
       "    </tr>\n",
       "    <tr>\n",
       "      <th>22</th>\n",
       "      <td>dm__location_code_suburban</td>\n",
       "      <td>3.801108e+02</td>\n",
       "    </tr>\n",
       "    <tr>\n",
       "      <th>23</th>\n",
       "      <td>dm__location_code_urban</td>\n",
       "      <td>2.202497e+02</td>\n",
       "    </tr>\n",
       "    <tr>\n",
       "      <th>12</th>\n",
       "      <td>dm__coverage_premium</td>\n",
       "      <td>1.155797e+02</td>\n",
       "    </tr>\n",
       "    <tr>\n",
       "      <th>20</th>\n",
       "      <td>dm__employment_status_unemployed</td>\n",
       "      <td>8.257493e+01</td>\n",
       "    </tr>\n",
       "    <tr>\n",
       "      <th>2</th>\n",
       "      <td>pt__monthly_premium_auto</td>\n",
       "      <td>8.239880e+01</td>\n",
       "    </tr>\n",
       "    <tr>\n",
       "      <th>45</th>\n",
       "      <td>dm__vehicle_class_suv</td>\n",
       "      <td>6.978636e+01</td>\n",
       "    </tr>\n",
       "    <tr>\n",
       "      <th>25</th>\n",
       "      <td>dm__marital_status_single</td>\n",
       "      <td>6.457394e+01</td>\n",
       "    </tr>\n",
       "    <tr>\n",
       "      <th>44</th>\n",
       "      <td>dm__vehicle_class_sports car</td>\n",
       "      <td>6.414000e+01</td>\n",
       "    </tr>\n",
       "    <tr>\n",
       "      <th>10</th>\n",
       "      <td>dm__response_yes</td>\n",
       "      <td>2.082000e+01</td>\n",
       "    </tr>\n",
       "    <tr>\n",
       "      <th>19</th>\n",
       "      <td>dm__employment_status_retired</td>\n",
       "      <td>1.780929e+01</td>\n",
       "    </tr>\n",
       "    <tr>\n",
       "      <th>11</th>\n",
       "      <td>dm__coverage_extended</td>\n",
       "      <td>1.574632e+01</td>\n",
       "    </tr>\n",
       "    <tr>\n",
       "      <th>7</th>\n",
       "      <td>dm__region_east</td>\n",
       "      <td>1.571322e+01</td>\n",
       "    </tr>\n",
       "    <tr>\n",
       "      <th>21</th>\n",
       "      <td>dm__gender_m</td>\n",
       "      <td>1.532659e+01</td>\n",
       "    </tr>\n",
       "    <tr>\n",
       "      <th>14</th>\n",
       "      <td>dm__education_doctor</td>\n",
       "      <td>1.491491e+01</td>\n",
       "    </tr>\n",
       "    <tr>\n",
       "      <th>29</th>\n",
       "      <td>dm__policy_corporate l3</td>\n",
       "      <td>1.277909e+01</td>\n",
       "    </tr>\n",
       "    <tr>\n",
       "      <th>28</th>\n",
       "      <td>dm__policy_corporate l2</td>\n",
       "      <td>1.165744e+01</td>\n",
       "    </tr>\n",
       "    <tr>\n",
       "      <th>16</th>\n",
       "      <td>dm__education_master</td>\n",
       "      <td>1.151733e+01</td>\n",
       "    </tr>\n",
       "    <tr>\n",
       "      <th>36</th>\n",
       "      <td>dm__renew_offer_type_offer2</td>\n",
       "      <td>9.682325e+00</td>\n",
       "    </tr>\n",
       "    <tr>\n",
       "      <th>9</th>\n",
       "      <td>dm__region_west region</td>\n",
       "      <td>7.722557e+00</td>\n",
       "    </tr>\n",
       "    <tr>\n",
       "      <th>1</th>\n",
       "      <td>pt__income</td>\n",
       "      <td>7.661342e+00</td>\n",
       "    </tr>\n",
       "    <tr>\n",
       "      <th>24</th>\n",
       "      <td>dm__marital_status_married</td>\n",
       "      <td>7.566592e+00</td>\n",
       "    </tr>\n",
       "    <tr>\n",
       "      <th>37</th>\n",
       "      <td>dm__renew_offer_type_offer3</td>\n",
       "      <td>7.518756e+00</td>\n",
       "    </tr>\n",
       "    <tr>\n",
       "      <th>13</th>\n",
       "      <td>dm__education_college</td>\n",
       "      <td>6.603104e+00</td>\n",
       "    </tr>\n",
       "    <tr>\n",
       "      <th>0</th>\n",
       "      <td>pt__customer_lifetime_value</td>\n",
       "      <td>6.491321e+00</td>\n",
       "    </tr>\n",
       "    <tr>\n",
       "      <th>47</th>\n",
       "      <td>dm__vehicle_size_medsize</td>\n",
       "      <td>6.281288e+00</td>\n",
       "    </tr>\n",
       "    <tr>\n",
       "      <th>18</th>\n",
       "      <td>dm__employment_status_medical leave</td>\n",
       "      <td>5.907328e+00</td>\n",
       "    </tr>\n",
       "    <tr>\n",
       "      <th>41</th>\n",
       "      <td>dm__sales_channel_web</td>\n",
       "      <td>4.542884e+00</td>\n",
       "    </tr>\n",
       "    <tr>\n",
       "      <th>3</th>\n",
       "      <td>pt__months_since_last_claim</td>\n",
       "      <td>4.335434e+00</td>\n",
       "    </tr>\n",
       "    <tr>\n",
       "      <th>39</th>\n",
       "      <td>dm__sales_channel_branch</td>\n",
       "      <td>4.320579e+00</td>\n",
       "    </tr>\n",
       "    <tr>\n",
       "      <th>8</th>\n",
       "      <td>dm__region_north west</td>\n",
       "      <td>4.136332e+00</td>\n",
       "    </tr>\n",
       "    <tr>\n",
       "      <th>15</th>\n",
       "      <td>dm__education_high school or below</td>\n",
       "      <td>4.129835e+00</td>\n",
       "    </tr>\n",
       "    <tr>\n",
       "      <th>17</th>\n",
       "      <td>dm__employment_status_employed</td>\n",
       "      <td>3.963532e+00</td>\n",
       "    </tr>\n",
       "    <tr>\n",
       "      <th>5</th>\n",
       "      <td>pt__number_of_open_complaints</td>\n",
       "      <td>3.401898e+00</td>\n",
       "    </tr>\n",
       "    <tr>\n",
       "      <th>38</th>\n",
       "      <td>dm__renew_offer_type_offer4</td>\n",
       "      <td>2.438806e+00</td>\n",
       "    </tr>\n",
       "    <tr>\n",
       "      <th>6</th>\n",
       "      <td>pt__number_of_policies</td>\n",
       "      <td>1.688512e+00</td>\n",
       "    </tr>\n",
       "    <tr>\n",
       "      <th>46</th>\n",
       "      <td>dm__vehicle_class_two-door car</td>\n",
       "      <td>1.446637e+00</td>\n",
       "    </tr>\n",
       "    <tr>\n",
       "      <th>40</th>\n",
       "      <td>dm__sales_channel_call center</td>\n",
       "      <td>7.683053e-01</td>\n",
       "    </tr>\n",
       "    <tr>\n",
       "      <th>4</th>\n",
       "      <td>pt__months_since_policy_inception</td>\n",
       "      <td>2.957756e-01</td>\n",
       "    </tr>\n",
       "    <tr>\n",
       "      <th>48</th>\n",
       "      <td>dm__vehicle_size_small</td>\n",
       "      <td>1.715571e-01</td>\n",
       "    </tr>\n",
       "  </tbody>\n",
       "</table>\n",
       "</div>"
      ],
      "text/plain": [
       "                              Attribute    Importance\n",
       "26        dm__policy_type_personal auto  1.689856e+14\n",
       "31               dm__policy_personal l2  1.689856e+14\n",
       "32               dm__policy_personal l3  1.689856e+14\n",
       "30               dm__policy_personal l1  1.689856e+14\n",
       "27         dm__policy_type_special auto  1.072167e+13\n",
       "34                dm__policy_special l2  1.072167e+13\n",
       "35                dm__policy_special l3  1.072167e+13\n",
       "33                dm__policy_special l1  1.072167e+13\n",
       "42         dm__vehicle_class_luxury car  4.609929e+02\n",
       "43         dm__vehicle_class_luxury suv  4.570996e+02\n",
       "22           dm__location_code_suburban  3.801108e+02\n",
       "23              dm__location_code_urban  2.202497e+02\n",
       "12                 dm__coverage_premium  1.155797e+02\n",
       "20     dm__employment_status_unemployed  8.257493e+01\n",
       "2              pt__monthly_premium_auto  8.239880e+01\n",
       "45                dm__vehicle_class_suv  6.978636e+01\n",
       "25            dm__marital_status_single  6.457394e+01\n",
       "44         dm__vehicle_class_sports car  6.414000e+01\n",
       "10                     dm__response_yes  2.082000e+01\n",
       "19        dm__employment_status_retired  1.780929e+01\n",
       "11                dm__coverage_extended  1.574632e+01\n",
       "7                       dm__region_east  1.571322e+01\n",
       "21                         dm__gender_m  1.532659e+01\n",
       "14                 dm__education_doctor  1.491491e+01\n",
       "29              dm__policy_corporate l3  1.277909e+01\n",
       "28              dm__policy_corporate l2  1.165744e+01\n",
       "16                 dm__education_master  1.151733e+01\n",
       "36          dm__renew_offer_type_offer2  9.682325e+00\n",
       "9                dm__region_west region  7.722557e+00\n",
       "1                            pt__income  7.661342e+00\n",
       "24           dm__marital_status_married  7.566592e+00\n",
       "37          dm__renew_offer_type_offer3  7.518756e+00\n",
       "13                dm__education_college  6.603104e+00\n",
       "0           pt__customer_lifetime_value  6.491321e+00\n",
       "47             dm__vehicle_size_medsize  6.281288e+00\n",
       "18  dm__employment_status_medical leave  5.907328e+00\n",
       "41                dm__sales_channel_web  4.542884e+00\n",
       "3           pt__months_since_last_claim  4.335434e+00\n",
       "39             dm__sales_channel_branch  4.320579e+00\n",
       "8                 dm__region_north west  4.136332e+00\n",
       "15   dm__education_high school or below  4.129835e+00\n",
       "17       dm__employment_status_employed  3.963532e+00\n",
       "5         pt__number_of_open_complaints  3.401898e+00\n",
       "38          dm__renew_offer_type_offer4  2.438806e+00\n",
       "6                pt__number_of_policies  1.688512e+00\n",
       "46       dm__vehicle_class_two-door car  1.446637e+00\n",
       "40        dm__sales_channel_call center  7.683053e-01\n",
       "4     pt__months_since_policy_inception  2.957756e-01\n",
       "48               dm__vehicle_size_small  1.715571e-01"
      ]
     },
     "execution_count": 18,
     "metadata": {},
     "output_type": "execute_result"
    }
   ],
   "source": [
    "#features importances\n",
    "features_importances = pd.DataFrame(data={'Attribute': X_train_ct.columns,\n",
    "                                          'Importance': abs(model.coef_.reshape(len(X_train_ct.columns),))})\n",
    "\n",
    "features_importances = features_importances.sort_values(by='Importance', ascending=False)\n",
    "features_importances"
   ]
  },
  {
   "cell_type": "markdown",
   "id": "fd9d977b",
   "metadata": {},
   "source": [
    "## Week 7 Day 1 - Feature selection"
   ]
  },
  {
   "cell_type": "code",
   "execution_count": 19,
   "id": "bbe29a11",
   "metadata": {},
   "outputs": [],
   "source": [
    "from sklearn.linear_model import Lasso, Ridge "
   ]
  },
  {
   "cell_type": "markdown",
   "id": "2bb16868",
   "metadata": {},
   "source": [
    "#### OLS"
   ]
  },
  {
   "cell_type": "code",
   "execution_count": 20,
   "id": "fafb4d9c",
   "metadata": {},
   "outputs": [
    {
     "name": "stdout",
     "output_type": "stream",
     "text": [
      "0.7394800796926333\n",
      "0.7468957919551384\n"
     ]
    }
   ],
   "source": [
    "model = LinearRegression()\n",
    "model.fit(X_train_ct, y_train)\n",
    "print(model.score(X_train_ct, y_train))\n",
    "print(model.score(X_test_ct, y_test))"
   ]
  },
  {
   "cell_type": "markdown",
   "id": "dfd5dcc4",
   "metadata": {},
   "source": [
    "#### Lasso"
   ]
  },
  {
   "cell_type": "code",
   "execution_count": 21,
   "id": "db41f172",
   "metadata": {
    "scrolled": true
   },
   "outputs": [
    {
     "name": "stdout",
     "output_type": "stream",
     "text": [
      "0.7394360186946489\n",
      "0.7471403938699099\n"
     ]
    }
   ],
   "source": [
    "model=Lasso(alpha=0.05)\n",
    "model.fit(X_train_ct, y_train)\n",
    "print(model.score(X_train_ct, y_train))\n",
    "print(model.score(X_test_ct, y_test))"
   ]
  },
  {
   "cell_type": "markdown",
   "id": "bfbd793e",
   "metadata": {},
   "source": [
    "#### Ridge"
   ]
  },
  {
   "cell_type": "code",
   "execution_count": 22,
   "id": "ec5a7575",
   "metadata": {},
   "outputs": [
    {
     "name": "stdout",
     "output_type": "stream",
     "text": [
      "0.6254605227552439\n",
      "0.6238933715251345\n"
     ]
    }
   ],
   "source": [
    "model=Ridge(alpha=1000)\n",
    "model.fit(X_train_ct, y_train)\n",
    "print(model.score(X_train_ct, y_train))\n",
    "print(model.score(X_test_ct, y_test))"
   ]
  },
  {
   "cell_type": "markdown",
   "id": "333a671f",
   "metadata": {},
   "source": [
    "#### RFE"
   ]
  },
  {
   "cell_type": "code",
   "execution_count": 29,
   "id": "01e9ef2b",
   "metadata": {},
   "outputs": [
    {
     "name": "stdout",
     "output_type": "stream",
     "text": [
      "Fitting estimator with 49 features.\n",
      "Fitting estimator with 48 features.\n",
      "Fitting estimator with 47 features.\n",
      "Fitting estimator with 46 features.\n",
      "Fitting estimator with 45 features.\n",
      "Fitting estimator with 44 features.\n",
      "Fitting estimator with 43 features.\n",
      "Fitting estimator with 42 features.\n",
      "Fitting estimator with 41 features.\n",
      "Fitting estimator with 40 features.\n",
      "Fitting estimator with 39 features.\n",
      "Fitting estimator with 38 features.\n",
      "Fitting estimator with 37 features.\n",
      "Fitting estimator with 36 features.\n",
      "Fitting estimator with 35 features.\n",
      "Fitting estimator with 34 features.\n",
      "Fitting estimator with 33 features.\n",
      "Fitting estimator with 32 features.\n",
      "Fitting estimator with 31 features.\n",
      "Fitting estimator with 30 features.\n",
      "Fitting estimator with 29 features.\n",
      "Fitting estimator with 28 features.\n",
      "Fitting estimator with 27 features.\n",
      "Fitting estimator with 26 features.\n",
      "Fitting estimator with 25 features.\n",
      "Fitting estimator with 24 features.\n",
      "Fitting estimator with 23 features.\n",
      "Fitting estimator with 22 features.\n",
      "Fitting estimator with 21 features.\n",
      "Fitting estimator with 20 features.\n",
      "Fitting estimator with 19 features.\n",
      "Fitting estimator with 18 features.\n",
      "Fitting estimator with 17 features.\n",
      "Fitting estimator with 16 features.\n",
      "Fitting estimator with 15 features.\n",
      "Fitting estimator with 14 features.\n",
      "Fitting estimator with 13 features.\n",
      "Fitting estimator with 12 features.\n",
      "Fitting estimator with 11 features.\n",
      "Fitting estimator with 10 features.\n",
      "Fitting estimator with 9 features.\n",
      "Final selected features: \n"
     ]
    },
    {
     "data": {
      "text/html": [
       "<div>\n",
       "<style scoped>\n",
       "    .dataframe tbody tr th:only-of-type {\n",
       "        vertical-align: middle;\n",
       "    }\n",
       "\n",
       "    .dataframe tbody tr th {\n",
       "        vertical-align: top;\n",
       "    }\n",
       "\n",
       "    .dataframe thead th {\n",
       "        text-align: right;\n",
       "    }\n",
       "</style>\n",
       "<table border=\"1\" class=\"dataframe\">\n",
       "  <thead>\n",
       "    <tr style=\"text-align: right;\">\n",
       "      <th></th>\n",
       "      <th>pt__monthly_premium_auto</th>\n",
       "      <th>dm__coverage_premium</th>\n",
       "      <th>dm__employment_status_unemployed</th>\n",
       "      <th>dm__location_code_suburban</th>\n",
       "      <th>dm__location_code_urban</th>\n",
       "      <th>dm__marital_status_single</th>\n",
       "      <th>dm__vehicle_class_luxury car</th>\n",
       "      <th>dm__vehicle_class_luxury suv</th>\n",
       "    </tr>\n",
       "  </thead>\n",
       "  <tbody>\n",
       "    <tr>\n",
       "      <th>0</th>\n",
       "      <td>1.028939</td>\n",
       "      <td>1.0</td>\n",
       "      <td>0.0</td>\n",
       "      <td>1.0</td>\n",
       "      <td>0.0</td>\n",
       "      <td>0.0</td>\n",
       "      <td>0.0</td>\n",
       "      <td>0.0</td>\n",
       "    </tr>\n",
       "    <tr>\n",
       "      <th>1</th>\n",
       "      <td>0.871857</td>\n",
       "      <td>1.0</td>\n",
       "      <td>0.0</td>\n",
       "      <td>1.0</td>\n",
       "      <td>0.0</td>\n",
       "      <td>1.0</td>\n",
       "      <td>0.0</td>\n",
       "      <td>0.0</td>\n",
       "    </tr>\n",
       "    <tr>\n",
       "      <th>2</th>\n",
       "      <td>2.105524</td>\n",
       "      <td>0.0</td>\n",
       "      <td>0.0</td>\n",
       "      <td>1.0</td>\n",
       "      <td>0.0</td>\n",
       "      <td>0.0</td>\n",
       "      <td>0.0</td>\n",
       "      <td>1.0</td>\n",
       "    </tr>\n",
       "    <tr>\n",
       "      <th>3</th>\n",
       "      <td>0.743503</td>\n",
       "      <td>0.0</td>\n",
       "      <td>0.0</td>\n",
       "      <td>1.0</td>\n",
       "      <td>0.0</td>\n",
       "      <td>1.0</td>\n",
       "      <td>0.0</td>\n",
       "      <td>0.0</td>\n",
       "    </tr>\n",
       "    <tr>\n",
       "      <th>4</th>\n",
       "      <td>-0.701676</td>\n",
       "      <td>0.0</td>\n",
       "      <td>1.0</td>\n",
       "      <td>1.0</td>\n",
       "      <td>0.0</td>\n",
       "      <td>0.0</td>\n",
       "      <td>0.0</td>\n",
       "      <td>0.0</td>\n",
       "    </tr>\n",
       "    <tr>\n",
       "      <th>...</th>\n",
       "      <td>...</td>\n",
       "      <td>...</td>\n",
       "      <td>...</td>\n",
       "      <td>...</td>\n",
       "      <td>...</td>\n",
       "      <td>...</td>\n",
       "      <td>...</td>\n",
       "      <td>...</td>\n",
       "    </tr>\n",
       "    <tr>\n",
       "      <th>7477</th>\n",
       "      <td>0.715980</td>\n",
       "      <td>0.0</td>\n",
       "      <td>0.0</td>\n",
       "      <td>1.0</td>\n",
       "      <td>0.0</td>\n",
       "      <td>0.0</td>\n",
       "      <td>0.0</td>\n",
       "      <td>0.0</td>\n",
       "    </tr>\n",
       "    <tr>\n",
       "      <th>7478</th>\n",
       "      <td>-1.081895</td>\n",
       "      <td>0.0</td>\n",
       "      <td>0.0</td>\n",
       "      <td>1.0</td>\n",
       "      <td>0.0</td>\n",
       "      <td>0.0</td>\n",
       "      <td>0.0</td>\n",
       "      <td>0.0</td>\n",
       "    </tr>\n",
       "    <tr>\n",
       "      <th>7479</th>\n",
       "      <td>-1.345973</td>\n",
       "      <td>0.0</td>\n",
       "      <td>0.0</td>\n",
       "      <td>0.0</td>\n",
       "      <td>0.0</td>\n",
       "      <td>0.0</td>\n",
       "      <td>0.0</td>\n",
       "      <td>0.0</td>\n",
       "    </tr>\n",
       "    <tr>\n",
       "      <th>7480</th>\n",
       "      <td>-1.539842</td>\n",
       "      <td>0.0</td>\n",
       "      <td>0.0</td>\n",
       "      <td>0.0</td>\n",
       "      <td>1.0</td>\n",
       "      <td>0.0</td>\n",
       "      <td>0.0</td>\n",
       "      <td>0.0</td>\n",
       "    </tr>\n",
       "    <tr>\n",
       "      <th>7481</th>\n",
       "      <td>-1.000269</td>\n",
       "      <td>0.0</td>\n",
       "      <td>1.0</td>\n",
       "      <td>1.0</td>\n",
       "      <td>0.0</td>\n",
       "      <td>0.0</td>\n",
       "      <td>0.0</td>\n",
       "      <td>0.0</td>\n",
       "    </tr>\n",
       "  </tbody>\n",
       "</table>\n",
       "<p>7482 rows × 8 columns</p>\n",
       "</div>"
      ],
      "text/plain": [
       "      pt__monthly_premium_auto  dm__coverage_premium  \\\n",
       "0                     1.028939                   1.0   \n",
       "1                     0.871857                   1.0   \n",
       "2                     2.105524                   0.0   \n",
       "3                     0.743503                   0.0   \n",
       "4                    -0.701676                   0.0   \n",
       "...                        ...                   ...   \n",
       "7477                  0.715980                   0.0   \n",
       "7478                 -1.081895                   0.0   \n",
       "7479                 -1.345973                   0.0   \n",
       "7480                 -1.539842                   0.0   \n",
       "7481                 -1.000269                   0.0   \n",
       "\n",
       "      dm__employment_status_unemployed  dm__location_code_suburban  \\\n",
       "0                                  0.0                         1.0   \n",
       "1                                  0.0                         1.0   \n",
       "2                                  0.0                         1.0   \n",
       "3                                  0.0                         1.0   \n",
       "4                                  1.0                         1.0   \n",
       "...                                ...                         ...   \n",
       "7477                               0.0                         1.0   \n",
       "7478                               0.0                         1.0   \n",
       "7479                               0.0                         0.0   \n",
       "7480                               0.0                         0.0   \n",
       "7481                               1.0                         1.0   \n",
       "\n",
       "      dm__location_code_urban  dm__marital_status_single  \\\n",
       "0                         0.0                        0.0   \n",
       "1                         0.0                        1.0   \n",
       "2                         0.0                        0.0   \n",
       "3                         0.0                        1.0   \n",
       "4                         0.0                        0.0   \n",
       "...                       ...                        ...   \n",
       "7477                      0.0                        0.0   \n",
       "7478                      0.0                        0.0   \n",
       "7479                      0.0                        0.0   \n",
       "7480                      1.0                        0.0   \n",
       "7481                      0.0                        0.0   \n",
       "\n",
       "      dm__vehicle_class_luxury car  dm__vehicle_class_luxury suv  \n",
       "0                              0.0                           0.0  \n",
       "1                              0.0                           0.0  \n",
       "2                              0.0                           1.0  \n",
       "3                              0.0                           0.0  \n",
       "4                              0.0                           0.0  \n",
       "...                            ...                           ...  \n",
       "7477                           0.0                           0.0  \n",
       "7478                           0.0                           0.0  \n",
       "7479                           0.0                           0.0  \n",
       "7480                           0.0                           0.0  \n",
       "7481                           0.0                           0.0  \n",
       "\n",
       "[7482 rows x 8 columns]"
      ]
     },
     "execution_count": 29,
     "metadata": {},
     "output_type": "execute_result"
    }
   ],
   "source": [
    "from sklearn.feature_selection import RFE\n",
    "\n",
    "lm = LinearRegression()\n",
    "\n",
    "selector = RFE(lm, n_features_to_select=8, step=1, verbose=1)\n",
    "selector.fit(X_train_ct, y_train)\n",
    "\n",
    "kept_features = selector.get_support(indices = True) #returns an array of integers corresponding to nonremoved features\n",
    "kept_features = list(X_train_ct.iloc[:,kept_features].columns)\n",
    "\n",
    "X_train = selector.transform(X_train_ct)\n",
    "X_test  = selector.transform(X_test_ct)\n",
    "\n",
    "X_train = pd.DataFrame(X_train, columns=kept_features)\n",
    "X_test  = pd.DataFrame(X_test, columns=kept_features)\n",
    "\n",
    "print(\"Final selected features: \")\n",
    "X_train\n"
   ]
  }
 ],
 "metadata": {
  "kernelspec": {
   "display_name": "Python 3 (ipykernel)",
   "language": "python",
   "name": "python3"
  },
  "language_info": {
   "codemirror_mode": {
    "name": "ipython",
    "version": 3
   },
   "file_extension": ".py",
   "mimetype": "text/x-python",
   "name": "python",
   "nbconvert_exporter": "python",
   "pygments_lexer": "ipython3",
   "version": "3.9.13"
  }
 },
 "nbformat": 4,
 "nbformat_minor": 5
}
