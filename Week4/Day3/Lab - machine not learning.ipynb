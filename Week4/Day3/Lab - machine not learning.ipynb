{
 "cells": [
  {
   "cell_type": "markdown",
   "id": "de00a862",
   "metadata": {},
   "source": [
    "# Lab - machine uprising"
   ]
  },
  {
   "cell_type": "code",
   "execution_count": 1,
   "id": "2badf1ee",
   "metadata": {},
   "outputs": [],
   "source": [
    "import pandas as pd\n",
    "import numpy as np\n",
    "import statistics as stats\n",
    "import seaborn as sns\n",
    "import matplotlib.pyplot as plt\n",
    "from sklearn.preprocessing import PowerTransformer, StandardScaler, minmax_scale, OneHotEncoder\n",
    "%matplotlib inline\n",
    "\n",
    "from scipy.stats import iqr\n",
    "from sklearn.compose import ColumnTransformer\n",
    "from sklearn.linear_model import LinearRegression\n",
    "from sklearn.model_selection import train_test_split\n",
    "import statsmodels.api as sm\n",
    "\n",
    "from sklearn.metrics import r2_score\n",
    "from sklearn.metrics import mean_squared_error as mse\n",
    "from sklearn.metrics import mean_absolute_error as mae"
   ]
  },
  {
   "cell_type": "code",
   "execution_count": 2,
   "id": "e38b9e8c",
   "metadata": {},
   "outputs": [],
   "source": [
    "df = pd.read_csv('Data_Marketing_Customer_Analysis_Round3.csv')"
   ]
  },
  {
   "cell_type": "markdown",
   "id": "6b00c2ba",
   "metadata": {},
   "source": [
    "* **removing useless columns**"
   ]
  },
  {
   "cell_type": "code",
   "execution_count": 3,
   "id": "3597cb89",
   "metadata": {},
   "outputs": [],
   "source": [
    "df.drop(['effective_to_date', 'month'], axis=1, inplace=True)"
   ]
  },
  {
   "cell_type": "markdown",
   "id": "77cb3ec5",
   "metadata": {},
   "source": [
    "* **remove outliers function**"
   ]
  },
  {
   "cell_type": "code",
   "execution_count": 4,
   "id": "ef94771a",
   "metadata": {},
   "outputs": [],
   "source": [
    "def remove_outliers(df):\n",
    "    for c in df.columns:\n",
    "            pct_75 = np.percentile(df[c], 75)\n",
    "            pct_25 = np.percentile(df[c], 25)\n",
    "            upper_bound = pct_75 + 1.5*iqr(df[c])\n",
    "            lower_bound = pct_25 - 1.5*iqr(df[c])\n",
    "            condition = (df[c] < upper_bound) & (df[c] > lower_bound)\n",
    "            df[c] = df[c][condition]\n",
    "    return df"
   ]
  },
  {
   "cell_type": "markdown",
   "id": "834bb79c",
   "metadata": {},
   "source": [
    "* **filling nas**"
   ]
  },
  {
   "cell_type": "code",
   "execution_count": 5,
   "id": "d35c472d",
   "metadata": {},
   "outputs": [
    {
     "data": {
      "text/plain": [
       "False"
      ]
     },
     "execution_count": 5,
     "metadata": {},
     "output_type": "execute_result"
    }
   ],
   "source": [
    "df.isnull().values.any()"
   ]
  },
  {
   "cell_type": "markdown",
   "id": "63c35a5b",
   "metadata": {},
   "source": [
    "* **X,y split**"
   ]
  },
  {
   "cell_type": "code",
   "execution_count": 6,
   "id": "44893096",
   "metadata": {},
   "outputs": [],
   "source": [
    "X = df.drop('total_claim_amount', axis=1)\n",
    "y = df[['total_claim_amount']]"
   ]
  },
  {
   "cell_type": "markdown",
   "id": "baccf84d",
   "metadata": {},
   "source": [
    "* **train test split**"
   ]
  },
  {
   "cell_type": "code",
   "execution_count": 7,
   "id": "8bb5b139",
   "metadata": {},
   "outputs": [],
   "source": [
    "tt_ratio = 0.3\n",
    "rand_seed = 34\n",
    "\n",
    "X_train, X_test, y_train, y_test = train_test_split(X, y, \n",
    "                                                    test_size=tt_ratio, \n",
    "                                                    random_state=rand_seed)"
   ]
  },
  {
   "cell_type": "markdown",
   "id": "ef73710d",
   "metadata": {},
   "source": [
    "* **standardizing the data**"
   ]
  },
  {
   "cell_type": "code",
   "execution_count": 8,
   "id": "e53c99a3",
   "metadata": {},
   "outputs": [],
   "source": [
    "#split into numeric and categorical\n",
    "numeric = df.select_dtypes(include=[np.number])\n",
    "categorical = df.select_dtypes(include=[object])\n",
    "\n",
    "#get numeric and cat columns' names\n",
    "numeric_columns_X = list(numeric.drop('total_claim_amount', axis=1).columns)\n",
    "categorical_columns_X = list(categorical.columns)\n"
   ]
  },
  {
   "cell_type": "code",
   "execution_count": 9,
   "id": "cf6f4482",
   "metadata": {},
   "outputs": [
    {
     "name": "stdout",
     "output_type": "stream",
     "text": [
      "[ColumnTransformer] ............ (1 of 2) Processing pt, total=   0.0s\n",
      "[ColumnTransformer] ............ (2 of 2) Processing dm, total=   0.0s\n"
     ]
    }
   ],
   "source": [
    "#creating a transformer\n",
    "pt = PowerTransformer()\n",
    "ct = ColumnTransformer([('pt', pt, numeric_columns_X),\n",
    "                        ('dm', OneHotEncoder(drop='first'), categorical_columns_X)],\n",
    "                       remainder='drop', verbose_feature_names_out=True, verbose=True).fit(X_train)"
   ]
  },
  {
   "cell_type": "code",
   "execution_count": 10,
   "id": "bedf94fc",
   "metadata": {},
   "outputs": [],
   "source": [
    "#applying transformer\n",
    "X_train_ct = pd.DataFrame(ct.transform(X_train), columns=ct.get_feature_names_out())\n",
    "X_test_ct = pd.DataFrame(ct.transform(X_test), columns=ct.get_feature_names_out())"
   ]
  },
  {
   "cell_type": "markdown",
   "id": "035f4e86",
   "metadata": {},
   "source": [
    "* **creating a model**"
   ]
  },
  {
   "cell_type": "code",
   "execution_count": 11,
   "id": "39624818",
   "metadata": {
    "scrolled": false
   },
   "outputs": [
    {
     "name": "stdout",
     "output_type": "stream",
     "text": [
      "                            OLS Regression Results                            \n",
      "==============================================================================\n",
      "Dep. Variable:     total_claim_amount   R-squared:                       0.744\n",
      "Model:                            OLS   Adj. R-squared:                  0.742\n",
      "Method:                 Least Squares   F-statistic:                     459.6\n",
      "Date:                Wed, 01 Feb 2023   Prob (F-statistic):               0.00\n",
      "Time:                        17:03:42   Log-Likelihood:                -47976.\n",
      "No. Observations:                7482   AIC:                         9.605e+04\n",
      "Df Residuals:                    7434   BIC:                         9.638e+04\n",
      "Df Model:                          47                                         \n",
      "Covariance Type:            nonrobust                                         \n",
      "==============================================================================\n",
      "                 coef    std err          t      P>|t|      [0.025      0.975]\n",
      "------------------------------------------------------------------------------\n",
      "const         73.4122     15.425      4.759      0.000      43.176     103.649\n",
      "x1             6.9503      2.334      2.978      0.003       2.375      11.526\n",
      "x2            -6.3628      2.035     -3.126      0.002     -10.353      -2.373\n",
      "x3            87.1341      4.298     20.271      0.000      78.708      95.560\n",
      "x4             3.9450      1.718      2.296      0.022       0.577       7.313\n",
      "x5             0.6484      1.731      0.375      0.708      -2.744       4.041\n",
      "x6            -2.8264      1.724     -1.639      0.101      -6.206       0.553\n",
      "x7            -2.9541      2.059     -1.435      0.151      -6.990       1.081\n",
      "x8             7.1635      6.569      1.090      0.276      -5.714      20.041\n",
      "x9             1.5360      4.552      0.337      0.736      -7.388      10.460\n",
      "x10            2.8740      4.361      0.659      0.510      -5.676      11.424\n",
      "x11          -20.7222      5.547     -3.736      0.000     -31.596      -9.848\n",
      "x12           12.6659      5.439      2.329      0.020       2.004      23.328\n",
      "x13           94.6780      8.886     10.655      0.000      77.259     112.097\n",
      "x14           -9.0781      4.444     -2.043      0.041     -17.790      -0.366\n",
      "x15          -17.7767      9.787     -1.816      0.069     -36.961       1.408\n",
      "x16            5.2318      4.513      1.159      0.246      -3.616      14.079\n",
      "x17          -14.9860      6.893     -2.174      0.030     -28.498      -1.474\n",
      "x18           -3.8475      9.028     -0.426      0.670     -21.544      13.849\n",
      "x19           17.1338     11.423      1.500      0.134      -5.258      39.526\n",
      "x20          -13.3754     13.110     -1.020      0.308     -39.074      12.324\n",
      "x21           82.8649      9.542      8.684      0.000      64.160     101.570\n",
      "x22           16.8151      3.461      4.858      0.000      10.031      23.600\n",
      "x23          380.4939      4.969     76.575      0.000     370.754     390.234\n",
      "x24          219.7912      5.664     38.808      0.000     208.689     230.893\n",
      "x25           -4.0748      5.078     -0.803      0.422     -14.028       5.879\n",
      "x26           63.5324      5.826     10.905      0.000      52.112      74.953\n",
      "x27           -1.6998      6.722     -0.253      0.800     -14.877      11.478\n",
      "x28           10.2903      9.383      1.097      0.273      -8.103      28.684\n",
      "x29          -10.0165     11.016     -0.909      0.363     -31.610      11.577\n",
      "x30           -0.7859     10.119     -0.078      0.938     -20.622      19.050\n",
      "x31            4.7666      4.245      1.123      0.261      -3.554      13.087\n",
      "x32           -4.0815      3.705     -1.102      0.271     -11.344       3.181\n",
      "x33           -2.3849      3.356     -0.711      0.477      -8.964       4.195\n",
      "x34           27.8989     15.378      1.814      0.070      -2.245      58.043\n",
      "x35          -15.7807     11.549     -1.366      0.172     -38.421       6.859\n",
      "x36           -1.8279     11.963     -0.153      0.879     -25.279      21.623\n",
      "x37           15.9602      4.342      3.676      0.000       7.449      24.471\n",
      "x38            6.3741      5.133      1.242      0.214      -3.689      16.437\n",
      "x39            9.6291      6.066      1.587      0.112      -2.261      21.519\n",
      "x40           -3.9056      4.298     -0.909      0.364     -12.331       4.520\n",
      "x41           -2.0705      4.864     -0.426      0.670     -11.605       7.464\n",
      "x42           -4.2630      5.290     -0.806      0.420     -14.633       6.107\n",
      "x43          463.6585     15.722     29.492      0.000     432.840     494.477\n",
      "x44          417.9375     15.604     26.784      0.000     387.349     448.526\n",
      "x45           62.4031     10.014      6.232      0.000      42.773      82.033\n",
      "x46           63.4585      7.596      8.355      0.000      48.569      78.348\n",
      "x47           -4.3783      4.498     -0.973      0.330     -13.196       4.439\n",
      "x48           -2.4953      5.703     -0.438      0.662     -13.674       8.683\n",
      "x49            1.4799      6.658      0.222      0.824     -11.572      14.532\n",
      "==============================================================================\n",
      "Omnibus:                     3810.730   Durbin-Watson:                   2.008\n",
      "Prob(Omnibus):                  0.000   Jarque-Bera (JB):            66449.035\n",
      "Skew:                           2.028   Prob(JB):                         0.00\n",
      "Kurtosis:                      17.025   Cond. No.                     1.14e+16\n",
      "==============================================================================\n",
      "\n",
      "Notes:\n",
      "[1] Standard Errors assume that the covariance matrix of the errors is correctly specified.\n",
      "[2] The smallest eigenvalue is 2.78e-28. This might indicate that there are\n",
      "strong multicollinearity problems or that the design matrix is singular.\n"
     ]
    }
   ],
   "source": [
    "#adding a constant\n",
    "X_train_ct_const = sm.add_constant(X_train_ct.to_numpy())\n",
    "X_test_ct_const = sm.add_constant(X_test_ct)\n",
    "\n",
    "#model\n",
    "model = sm.OLS(y_train, X_train_ct_const).fit()\n",
    "\n",
    "print_model = model.summary()\n",
    "print(print_model)"
   ]
  },
  {
   "cell_type": "markdown",
   "id": "6d676717",
   "metadata": {},
   "source": [
    "* **evaluation**"
   ]
  },
  {
   "cell_type": "code",
   "execution_count": 12,
   "id": "1790fb56",
   "metadata": {},
   "outputs": [],
   "source": [
    "#model prediction values\n",
    "y_pred_test = pd.DataFrame(model.predict(X_test_ct_const), columns=['claim_amount']) \n",
    "y_pred_train = pd.DataFrame(model.predict(X_train_ct_const), columns=['claim_amount'])"
   ]
  },
  {
   "cell_type": "code",
   "execution_count": 13,
   "id": "d1fa735f",
   "metadata": {},
   "outputs": [
    {
     "name": "stdout",
     "output_type": "stream",
     "text": [
      "22917.184070194886\n",
      "102.09328435477033\n",
      "21728.63184990571\n"
     ]
    }
   ],
   "source": [
    "#MSE, RMSE, MAE\n",
    "print(mse(y_test,y_pred_test))\n",
    "print(mae(y_test,y_pred_test))\n",
    "print(mse(y_train,y_pred_train))"
   ]
  },
  {
   "cell_type": "code",
   "execution_count": 14,
   "id": "dbb3c9bf",
   "metadata": {},
   "outputs": [
    {
     "data": {
      "text/plain": [
       "0.7372070555211103"
      ]
     },
     "execution_count": 14,
     "metadata": {},
     "output_type": "execute_result"
    }
   ],
   "source": [
    "#R2\n",
    "R2=r2_score(y_test, y_pred_test)\n",
    "R2"
   ]
  },
  {
   "cell_type": "code",
   "execution_count": 15,
   "id": "fd06c12f",
   "metadata": {},
   "outputs": [
    {
     "data": {
      "text/plain": [
       "0.7354743547882825"
      ]
     },
     "execution_count": 15,
     "metadata": {},
     "output_type": "execute_result"
    }
   ],
   "source": [
    "#adjusted R2\n",
    "model=LinearRegression()    # model\n",
    "model.fit(X_train_ct, y_train)   # model train\n",
    "\n",
    "\n",
    "R2_test = model.score(X_test_ct, y_test)\n",
    "R2_train = model.score(X_train_ct, y_train)\n",
    "\n",
    "Adj_R2 = 1 - (1-R2) * (len(y_test)-1) / (len(y_test) - X_test.shape[1]-1)\n",
    "Adj_R2"
   ]
  },
  {
   "cell_type": "code",
   "execution_count": 17,
   "id": "deeb9d52",
   "metadata": {},
   "outputs": [
    {
     "data": {
      "text/html": [
       "<div>\n",
       "<style scoped>\n",
       "    .dataframe tbody tr th:only-of-type {\n",
       "        vertical-align: middle;\n",
       "    }\n",
       "\n",
       "    .dataframe tbody tr th {\n",
       "        vertical-align: top;\n",
       "    }\n",
       "\n",
       "    .dataframe thead th {\n",
       "        text-align: right;\n",
       "    }\n",
       "</style>\n",
       "<table border=\"1\" class=\"dataframe\">\n",
       "  <thead>\n",
       "    <tr style=\"text-align: right;\">\n",
       "      <th></th>\n",
       "      <th>Attribute</th>\n",
       "      <th>Importance</th>\n",
       "    </tr>\n",
       "  </thead>\n",
       "  <tbody>\n",
       "    <tr>\n",
       "      <th>34</th>\n",
       "      <td>dm__policy_special l2</td>\n",
       "      <td>4.053831e+13</td>\n",
       "    </tr>\n",
       "    <tr>\n",
       "      <th>27</th>\n",
       "      <td>dm__policy_type_special auto</td>\n",
       "      <td>4.053831e+13</td>\n",
       "    </tr>\n",
       "    <tr>\n",
       "      <th>35</th>\n",
       "      <td>dm__policy_special l3</td>\n",
       "      <td>4.053831e+13</td>\n",
       "    </tr>\n",
       "    <tr>\n",
       "      <th>33</th>\n",
       "      <td>dm__policy_special l1</td>\n",
       "      <td>4.053831e+13</td>\n",
       "    </tr>\n",
       "    <tr>\n",
       "      <th>30</th>\n",
       "      <td>dm__policy_personal l1</td>\n",
       "      <td>1.275840e+12</td>\n",
       "    </tr>\n",
       "    <tr>\n",
       "      <th>26</th>\n",
       "      <td>dm__policy_type_personal auto</td>\n",
       "      <td>1.275840e+12</td>\n",
       "    </tr>\n",
       "    <tr>\n",
       "      <th>32</th>\n",
       "      <td>dm__policy_personal l3</td>\n",
       "      <td>1.275840e+12</td>\n",
       "    </tr>\n",
       "    <tr>\n",
       "      <th>31</th>\n",
       "      <td>dm__policy_personal l2</td>\n",
       "      <td>1.275840e+12</td>\n",
       "    </tr>\n",
       "    <tr>\n",
       "      <th>42</th>\n",
       "      <td>dm__vehicle_class_luxury car</td>\n",
       "      <td>4.636840e+02</td>\n",
       "    </tr>\n",
       "    <tr>\n",
       "      <th>43</th>\n",
       "      <td>dm__vehicle_class_luxury suv</td>\n",
       "      <td>4.179406e+02</td>\n",
       "    </tr>\n",
       "    <tr>\n",
       "      <th>22</th>\n",
       "      <td>dm__location_code_suburban</td>\n",
       "      <td>3.805174e+02</td>\n",
       "    </tr>\n",
       "    <tr>\n",
       "      <th>23</th>\n",
       "      <td>dm__location_code_urban</td>\n",
       "      <td>2.198229e+02</td>\n",
       "    </tr>\n",
       "    <tr>\n",
       "      <th>12</th>\n",
       "      <td>dm__coverage_premium</td>\n",
       "      <td>9.468110e+01</td>\n",
       "    </tr>\n",
       "    <tr>\n",
       "      <th>2</th>\n",
       "      <td>pt__monthly_premium_auto</td>\n",
       "      <td>8.713136e+01</td>\n",
       "    </tr>\n",
       "    <tr>\n",
       "      <th>20</th>\n",
       "      <td>dm__employment_status_unemployed</td>\n",
       "      <td>8.286943e+01</td>\n",
       "    </tr>\n",
       "    <tr>\n",
       "      <th>25</th>\n",
       "      <td>dm__marital_status_single</td>\n",
       "      <td>6.353925e+01</td>\n",
       "    </tr>\n",
       "    <tr>\n",
       "      <th>45</th>\n",
       "      <td>dm__vehicle_class_suv</td>\n",
       "      <td>6.346249e+01</td>\n",
       "    </tr>\n",
       "    <tr>\n",
       "      <th>44</th>\n",
       "      <td>dm__vehicle_class_sports car</td>\n",
       "      <td>6.241353e+01</td>\n",
       "    </tr>\n",
       "    <tr>\n",
       "      <th>10</th>\n",
       "      <td>dm__response_yes</td>\n",
       "      <td>2.071531e+01</td>\n",
       "    </tr>\n",
       "    <tr>\n",
       "      <th>14</th>\n",
       "      <td>dm__education_doctor</td>\n",
       "      <td>1.775731e+01</td>\n",
       "    </tr>\n",
       "    <tr>\n",
       "      <th>18</th>\n",
       "      <td>dm__employment_status_medical leave</td>\n",
       "      <td>1.712879e+01</td>\n",
       "    </tr>\n",
       "    <tr>\n",
       "      <th>21</th>\n",
       "      <td>dm__gender_m</td>\n",
       "      <td>1.681469e+01</td>\n",
       "    </tr>\n",
       "    <tr>\n",
       "      <th>36</th>\n",
       "      <td>dm__renew_offer_type_offer2</td>\n",
       "      <td>1.596173e+01</td>\n",
       "    </tr>\n",
       "    <tr>\n",
       "      <th>16</th>\n",
       "      <td>dm__education_master</td>\n",
       "      <td>1.498036e+01</td>\n",
       "    </tr>\n",
       "    <tr>\n",
       "      <th>19</th>\n",
       "      <td>dm__employment_status_retired</td>\n",
       "      <td>1.335609e+01</td>\n",
       "    </tr>\n",
       "    <tr>\n",
       "      <th>11</th>\n",
       "      <td>dm__coverage_extended</td>\n",
       "      <td>1.266811e+01</td>\n",
       "    </tr>\n",
       "    <tr>\n",
       "      <th>28</th>\n",
       "      <td>dm__policy_corporate l2</td>\n",
       "      <td>1.000855e+01</td>\n",
       "    </tr>\n",
       "    <tr>\n",
       "      <th>38</th>\n",
       "      <td>dm__renew_offer_type_offer4</td>\n",
       "      <td>9.628621e+00</td>\n",
       "    </tr>\n",
       "    <tr>\n",
       "      <th>13</th>\n",
       "      <td>dm__education_college</td>\n",
       "      <td>9.077775e+00</td>\n",
       "    </tr>\n",
       "    <tr>\n",
       "      <th>7</th>\n",
       "      <td>dm__region_east</td>\n",
       "      <td>7.165804e+00</td>\n",
       "    </tr>\n",
       "    <tr>\n",
       "      <th>0</th>\n",
       "      <td>pt__customer_lifetime_value</td>\n",
       "      <td>6.949878e+00</td>\n",
       "    </tr>\n",
       "    <tr>\n",
       "      <th>37</th>\n",
       "      <td>dm__renew_offer_type_offer3</td>\n",
       "      <td>6.382682e+00</td>\n",
       "    </tr>\n",
       "    <tr>\n",
       "      <th>1</th>\n",
       "      <td>pt__income</td>\n",
       "      <td>6.362256e+00</td>\n",
       "    </tr>\n",
       "    <tr>\n",
       "      <th>15</th>\n",
       "      <td>dm__education_high school or below</td>\n",
       "      <td>5.234586e+00</td>\n",
       "    </tr>\n",
       "    <tr>\n",
       "      <th>46</th>\n",
       "      <td>dm__vehicle_class_two-door car</td>\n",
       "      <td>4.375366e+00</td>\n",
       "    </tr>\n",
       "    <tr>\n",
       "      <th>41</th>\n",
       "      <td>dm__sales_channel_web</td>\n",
       "      <td>4.268782e+00</td>\n",
       "    </tr>\n",
       "    <tr>\n",
       "      <th>24</th>\n",
       "      <td>dm__marital_status_married</td>\n",
       "      <td>4.066950e+00</td>\n",
       "    </tr>\n",
       "    <tr>\n",
       "      <th>3</th>\n",
       "      <td>pt__months_since_last_claim</td>\n",
       "      <td>3.943547e+00</td>\n",
       "    </tr>\n",
       "    <tr>\n",
       "      <th>39</th>\n",
       "      <td>dm__sales_channel_branch</td>\n",
       "      <td>3.905927e+00</td>\n",
       "    </tr>\n",
       "    <tr>\n",
       "      <th>17</th>\n",
       "      <td>dm__employment_status_employed</td>\n",
       "      <td>3.837537e+00</td>\n",
       "    </tr>\n",
       "    <tr>\n",
       "      <th>6</th>\n",
       "      <td>pt__number_of_policies</td>\n",
       "      <td>2.954070e+00</td>\n",
       "    </tr>\n",
       "    <tr>\n",
       "      <th>9</th>\n",
       "      <td>dm__region_west region</td>\n",
       "      <td>2.881732e+00</td>\n",
       "    </tr>\n",
       "    <tr>\n",
       "      <th>5</th>\n",
       "      <td>pt__number_of_open_complaints</td>\n",
       "      <td>2.824870e+00</td>\n",
       "    </tr>\n",
       "    <tr>\n",
       "      <th>47</th>\n",
       "      <td>dm__vehicle_size_medsize</td>\n",
       "      <td>2.492075e+00</td>\n",
       "    </tr>\n",
       "    <tr>\n",
       "      <th>40</th>\n",
       "      <td>dm__sales_channel_call center</td>\n",
       "      <td>2.067474e+00</td>\n",
       "    </tr>\n",
       "    <tr>\n",
       "      <th>8</th>\n",
       "      <td>dm__region_north west</td>\n",
       "      <td>1.546127e+00</td>\n",
       "    </tr>\n",
       "    <tr>\n",
       "      <th>48</th>\n",
       "      <td>dm__vehicle_size_small</td>\n",
       "      <td>1.481399e+00</td>\n",
       "    </tr>\n",
       "    <tr>\n",
       "      <th>29</th>\n",
       "      <td>dm__policy_corporate l3</td>\n",
       "      <td>7.648429e-01</td>\n",
       "    </tr>\n",
       "    <tr>\n",
       "      <th>4</th>\n",
       "      <td>pt__months_since_policy_inception</td>\n",
       "      <td>6.513759e-01</td>\n",
       "    </tr>\n",
       "  </tbody>\n",
       "</table>\n",
       "</div>"
      ],
      "text/plain": [
       "                              Attribute    Importance\n",
       "34                dm__policy_special l2  4.053831e+13\n",
       "27         dm__policy_type_special auto  4.053831e+13\n",
       "35                dm__policy_special l3  4.053831e+13\n",
       "33                dm__policy_special l1  4.053831e+13\n",
       "30               dm__policy_personal l1  1.275840e+12\n",
       "26        dm__policy_type_personal auto  1.275840e+12\n",
       "32               dm__policy_personal l3  1.275840e+12\n",
       "31               dm__policy_personal l2  1.275840e+12\n",
       "42         dm__vehicle_class_luxury car  4.636840e+02\n",
       "43         dm__vehicle_class_luxury suv  4.179406e+02\n",
       "22           dm__location_code_suburban  3.805174e+02\n",
       "23              dm__location_code_urban  2.198229e+02\n",
       "12                 dm__coverage_premium  9.468110e+01\n",
       "2              pt__monthly_premium_auto  8.713136e+01\n",
       "20     dm__employment_status_unemployed  8.286943e+01\n",
       "25            dm__marital_status_single  6.353925e+01\n",
       "45                dm__vehicle_class_suv  6.346249e+01\n",
       "44         dm__vehicle_class_sports car  6.241353e+01\n",
       "10                     dm__response_yes  2.071531e+01\n",
       "14                 dm__education_doctor  1.775731e+01\n",
       "18  dm__employment_status_medical leave  1.712879e+01\n",
       "21                         dm__gender_m  1.681469e+01\n",
       "36          dm__renew_offer_type_offer2  1.596173e+01\n",
       "16                 dm__education_master  1.498036e+01\n",
       "19        dm__employment_status_retired  1.335609e+01\n",
       "11                dm__coverage_extended  1.266811e+01\n",
       "28              dm__policy_corporate l2  1.000855e+01\n",
       "38          dm__renew_offer_type_offer4  9.628621e+00\n",
       "13                dm__education_college  9.077775e+00\n",
       "7                       dm__region_east  7.165804e+00\n",
       "0           pt__customer_lifetime_value  6.949878e+00\n",
       "37          dm__renew_offer_type_offer3  6.382682e+00\n",
       "1                            pt__income  6.362256e+00\n",
       "15   dm__education_high school or below  5.234586e+00\n",
       "46       dm__vehicle_class_two-door car  4.375366e+00\n",
       "41                dm__sales_channel_web  4.268782e+00\n",
       "24           dm__marital_status_married  4.066950e+00\n",
       "3           pt__months_since_last_claim  3.943547e+00\n",
       "39             dm__sales_channel_branch  3.905927e+00\n",
       "17       dm__employment_status_employed  3.837537e+00\n",
       "6                pt__number_of_policies  2.954070e+00\n",
       "9                dm__region_west region  2.881732e+00\n",
       "5         pt__number_of_open_complaints  2.824870e+00\n",
       "47             dm__vehicle_size_medsize  2.492075e+00\n",
       "40        dm__sales_channel_call center  2.067474e+00\n",
       "8                 dm__region_north west  1.546127e+00\n",
       "48               dm__vehicle_size_small  1.481399e+00\n",
       "29              dm__policy_corporate l3  7.648429e-01\n",
       "4     pt__months_since_policy_inception  6.513759e-01"
      ]
     },
     "execution_count": 17,
     "metadata": {},
     "output_type": "execute_result"
    }
   ],
   "source": [
    "#features importances\n",
    "features_importances = pd.DataFrame(data={'Attribute': X_train_ct.columns,\n",
    "                                          'Importance': abs(model.coef_.reshape(len(X_train_ct.columns),))})\n",
    "\n",
    "features_importances = features_importances.sort_values(by='Importance', ascending=False)\n",
    "features_importances"
   ]
  }
 ],
 "metadata": {
  "kernelspec": {
   "display_name": "Python 3 (ipykernel)",
   "language": "python",
   "name": "python3"
  },
  "language_info": {
   "codemirror_mode": {
    "name": "ipython",
    "version": 3
   },
   "file_extension": ".py",
   "mimetype": "text/x-python",
   "name": "python",
   "nbconvert_exporter": "python",
   "pygments_lexer": "ipython3",
   "version": "3.9.13"
  }
 },
 "nbformat": 4,
 "nbformat_minor": 5
}
