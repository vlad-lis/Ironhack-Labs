{
 "cells": [
  {
   "cell_type": "markdown",
   "id": "e0f439dc",
   "metadata": {},
   "source": [
    "# Lab - Data Transformation"
   ]
  },
  {
   "cell_type": "code",
   "execution_count": 67,
   "id": "5eee5feb",
   "metadata": {},
   "outputs": [],
   "source": [
    "import pandas as pd\n",
    "import numpy as np\n",
    "import statistics as stats\n",
    "import seaborn as sns\n",
    "import matplotlib.pyplot as plt\n",
    "from sklearn.preprocessing import PowerTransformer, StandardScaler, minmax_scale\n",
    "%matplotlib inline"
   ]
  },
  {
   "cell_type": "code",
   "execution_count": 68,
   "id": "ec7aa550",
   "metadata": {},
   "outputs": [],
   "source": [
    "df = pd.read_csv('Data_Marketing_Customer_Analysis_Round3.csv')"
   ]
  },
  {
   "cell_type": "code",
   "execution_count": 69,
   "id": "b5dd1660",
   "metadata": {},
   "outputs": [],
   "source": [
    "numeric = df.select_dtypes(include=[np.number])\n",
    "categorical = df.select_dtypes(include=[object])"
   ]
  },
  {
   "cell_type": "markdown",
   "id": "3d0848ff",
   "metadata": {},
   "source": [
    "* ### Check if there are highly correlated features and drop them if there are any."
   ]
  },
  {
   "cell_type": "code",
   "execution_count": 70,
   "id": "5c239023",
   "metadata": {},
   "outputs": [],
   "source": [
    "#no correlation >= 0.9"
   ]
  },
  {
   "cell_type": "markdown",
   "id": "97859d4a",
   "metadata": {},
   "source": [
    "* ### One Hot/Label Encoding of the categorical variables in the categoricals data frame that you created in Activity 3. "
   ]
  },
  {
   "cell_type": "code",
   "execution_count": 71,
   "id": "ae9b9c38",
   "metadata": {},
   "outputs": [],
   "source": [
    "categorical.drop(columns=['effective_to_date', 'month'], inplace=True)\n",
    "categorical['response'] = pd.get_dummies(categorical['response'], drop_first=True)\n",
    "categorical['region'].replace({'central': 1, \n",
    "                               'west region': 2, \n",
    "                               'east': 3, \n",
    "                               'north west': 4}, inplace=True)\n",
    "categorical['coverage'].replace({'basic': 1, \n",
    "                                 'extended': 2, \n",
    "                                 'premium': 3}, inplace=True)\n",
    "categorical['education'].replace({'high school or below': 0, \n",
    "                                  'college': 1, \n",
    "                                  'bachelor': 1,\n",
    "                                  'master': 2,\n",
    "                                  'doctor': 3}, inplace=True)\n",
    "categorical['employment_status'].replace({'unemployed': 0, \n",
    "                                          'medical leave': 0, \n",
    "                                          'disabled': 0,\n",
    "                                          'retired': 0,\n",
    "                                          'employed': 1}, inplace=True)\n",
    "categorical['gender'].replace({'m': 0, \n",
    "                               'f': 1}, inplace=True)\n",
    "categorical['marital_status'].replace({'single': 0, \n",
    "                                       'divorced': 1, \n",
    "                                       'married': 1}, inplace=True)"
   ]
  },
  {
   "cell_type": "code",
   "execution_count": 72,
   "id": "09c702e7",
   "metadata": {},
   "outputs": [
    {
     "data": {
      "text/html": [
       "<div>\n",
       "<style scoped>\n",
       "    .dataframe tbody tr th:only-of-type {\n",
       "        vertical-align: middle;\n",
       "    }\n",
       "\n",
       "    .dataframe tbody tr th {\n",
       "        vertical-align: top;\n",
       "    }\n",
       "\n",
       "    .dataframe thead th {\n",
       "        text-align: right;\n",
       "    }\n",
       "</style>\n",
       "<table border=\"1\" class=\"dataframe\">\n",
       "  <thead>\n",
       "    <tr style=\"text-align: right;\">\n",
       "      <th></th>\n",
       "      <th>region</th>\n",
       "      <th>response</th>\n",
       "      <th>coverage</th>\n",
       "      <th>education</th>\n",
       "      <th>employment_status</th>\n",
       "      <th>gender</th>\n",
       "      <th>location_code</th>\n",
       "      <th>marital_status</th>\n",
       "      <th>policy_type</th>\n",
       "      <th>policy</th>\n",
       "      <th>renew_offer_type</th>\n",
       "      <th>sales_channel</th>\n",
       "      <th>vehicle_class</th>\n",
       "      <th>vehicle_size</th>\n",
       "    </tr>\n",
       "  </thead>\n",
       "  <tbody>\n",
       "    <tr>\n",
       "      <th>0</th>\n",
       "      <td>1</td>\n",
       "      <td>0</td>\n",
       "      <td>1</td>\n",
       "      <td>1</td>\n",
       "      <td>1</td>\n",
       "      <td>0</td>\n",
       "      <td>suburban</td>\n",
       "      <td>married</td>\n",
       "      <td>corporate auto</td>\n",
       "      <td>corporate l3</td>\n",
       "      <td>offer3</td>\n",
       "      <td>agent</td>\n",
       "      <td>four-door car</td>\n",
       "      <td>medsize</td>\n",
       "    </tr>\n",
       "    <tr>\n",
       "      <th>1</th>\n",
       "      <td>2</td>\n",
       "      <td>0</td>\n",
       "      <td>1</td>\n",
       "      <td>1</td>\n",
       "      <td>0</td>\n",
       "      <td>1</td>\n",
       "      <td>suburban</td>\n",
       "      <td>single</td>\n",
       "      <td>personal auto</td>\n",
       "      <td>personal l3</td>\n",
       "      <td>offer4</td>\n",
       "      <td>call center</td>\n",
       "      <td>four-door car</td>\n",
       "      <td>medsize</td>\n",
       "    </tr>\n",
       "    <tr>\n",
       "      <th>2</th>\n",
       "      <td>3</td>\n",
       "      <td>0</td>\n",
       "      <td>1</td>\n",
       "      <td>1</td>\n",
       "      <td>1</td>\n",
       "      <td>0</td>\n",
       "      <td>suburban</td>\n",
       "      <td>single</td>\n",
       "      <td>personal auto</td>\n",
       "      <td>personal l3</td>\n",
       "      <td>offer3</td>\n",
       "      <td>call center</td>\n",
       "      <td>suv</td>\n",
       "      <td>medsize</td>\n",
       "    </tr>\n",
       "    <tr>\n",
       "      <th>3</th>\n",
       "      <td>4</td>\n",
       "      <td>1</td>\n",
       "      <td>2</td>\n",
       "      <td>1</td>\n",
       "      <td>1</td>\n",
       "      <td>0</td>\n",
       "      <td>suburban</td>\n",
       "      <td>single</td>\n",
       "      <td>corporate auto</td>\n",
       "      <td>corporate l3</td>\n",
       "      <td>offer2</td>\n",
       "      <td>branch</td>\n",
       "      <td>four-door car</td>\n",
       "      <td>medsize</td>\n",
       "    </tr>\n",
       "    <tr>\n",
       "      <th>4</th>\n",
       "      <td>4</td>\n",
       "      <td>0</td>\n",
       "      <td>3</td>\n",
       "      <td>1</td>\n",
       "      <td>0</td>\n",
       "      <td>1</td>\n",
       "      <td>suburban</td>\n",
       "      <td>married</td>\n",
       "      <td>personal auto</td>\n",
       "      <td>personal l2</td>\n",
       "      <td>offer1</td>\n",
       "      <td>branch</td>\n",
       "      <td>four-door car</td>\n",
       "      <td>medsize</td>\n",
       "    </tr>\n",
       "    <tr>\n",
       "      <th>...</th>\n",
       "      <td>...</td>\n",
       "      <td>...</td>\n",
       "      <td>...</td>\n",
       "      <td>...</td>\n",
       "      <td>...</td>\n",
       "      <td>...</td>\n",
       "      <td>...</td>\n",
       "      <td>...</td>\n",
       "      <td>...</td>\n",
       "      <td>...</td>\n",
       "      <td>...</td>\n",
       "      <td>...</td>\n",
       "      <td>...</td>\n",
       "      <td>...</td>\n",
       "    </tr>\n",
       "    <tr>\n",
       "      <th>10684</th>\n",
       "      <td>1</td>\n",
       "      <td>0</td>\n",
       "      <td>3</td>\n",
       "      <td>1</td>\n",
       "      <td>0</td>\n",
       "      <td>1</td>\n",
       "      <td>suburban</td>\n",
       "      <td>married</td>\n",
       "      <td>personal auto</td>\n",
       "      <td>personal l1</td>\n",
       "      <td>offer3</td>\n",
       "      <td>web</td>\n",
       "      <td>luxury car</td>\n",
       "      <td>medsize</td>\n",
       "    </tr>\n",
       "    <tr>\n",
       "      <th>10685</th>\n",
       "      <td>4</td>\n",
       "      <td>0</td>\n",
       "      <td>1</td>\n",
       "      <td>1</td>\n",
       "      <td>1</td>\n",
       "      <td>1</td>\n",
       "      <td>urban</td>\n",
       "      <td>married</td>\n",
       "      <td>personal auto</td>\n",
       "      <td>personal l3</td>\n",
       "      <td>offer2</td>\n",
       "      <td>branch</td>\n",
       "      <td>four-door car</td>\n",
       "      <td>medsize</td>\n",
       "    </tr>\n",
       "    <tr>\n",
       "      <th>10686</th>\n",
       "      <td>1</td>\n",
       "      <td>0</td>\n",
       "      <td>2</td>\n",
       "      <td>1</td>\n",
       "      <td>1</td>\n",
       "      <td>1</td>\n",
       "      <td>rural</td>\n",
       "      <td>married</td>\n",
       "      <td>corporate auto</td>\n",
       "      <td>corporate l3</td>\n",
       "      <td>offer1</td>\n",
       "      <td>web</td>\n",
       "      <td>luxury suv</td>\n",
       "      <td>medsize</td>\n",
       "    </tr>\n",
       "    <tr>\n",
       "      <th>10687</th>\n",
       "      <td>2</td>\n",
       "      <td>0</td>\n",
       "      <td>3</td>\n",
       "      <td>1</td>\n",
       "      <td>1</td>\n",
       "      <td>1</td>\n",
       "      <td>urban</td>\n",
       "      <td>divorced</td>\n",
       "      <td>personal auto</td>\n",
       "      <td>personal l1</td>\n",
       "      <td>offer1</td>\n",
       "      <td>branch</td>\n",
       "      <td>suv</td>\n",
       "      <td>medsize</td>\n",
       "    </tr>\n",
       "    <tr>\n",
       "      <th>10688</th>\n",
       "      <td>1</td>\n",
       "      <td>0</td>\n",
       "      <td>1</td>\n",
       "      <td>1</td>\n",
       "      <td>0</td>\n",
       "      <td>0</td>\n",
       "      <td>suburban</td>\n",
       "      <td>single</td>\n",
       "      <td>personal auto</td>\n",
       "      <td>personal l1</td>\n",
       "      <td>offer4</td>\n",
       "      <td>web</td>\n",
       "      <td>suv</td>\n",
       "      <td>medsize</td>\n",
       "    </tr>\n",
       "  </tbody>\n",
       "</table>\n",
       "<p>10689 rows × 14 columns</p>\n",
       "</div>"
      ],
      "text/plain": [
       "       region  response  coverage  education  employment_status  gender  \\\n",
       "0           1         0         1          1                  1       0   \n",
       "1           2         0         1          1                  0       1   \n",
       "2           3         0         1          1                  1       0   \n",
       "3           4         1         2          1                  1       0   \n",
       "4           4         0         3          1                  0       1   \n",
       "...       ...       ...       ...        ...                ...     ...   \n",
       "10684       1         0         3          1                  0       1   \n",
       "10685       4         0         1          1                  1       1   \n",
       "10686       1         0         2          1                  1       1   \n",
       "10687       2         0         3          1                  1       1   \n",
       "10688       1         0         1          1                  0       0   \n",
       "\n",
       "      location_code marital_status     policy_type        policy  \\\n",
       "0          suburban        married  corporate auto  corporate l3   \n",
       "1          suburban         single   personal auto   personal l3   \n",
       "2          suburban         single   personal auto   personal l3   \n",
       "3          suburban         single  corporate auto  corporate l3   \n",
       "4          suburban        married   personal auto   personal l2   \n",
       "...             ...            ...             ...           ...   \n",
       "10684      suburban        married   personal auto   personal l1   \n",
       "10685         urban        married   personal auto   personal l3   \n",
       "10686         rural        married  corporate auto  corporate l3   \n",
       "10687         urban       divorced   personal auto   personal l1   \n",
       "10688      suburban         single   personal auto   personal l1   \n",
       "\n",
       "      renew_offer_type sales_channel  vehicle_class vehicle_size  \n",
       "0               offer3         agent  four-door car      medsize  \n",
       "1               offer4   call center  four-door car      medsize  \n",
       "2               offer3   call center            suv      medsize  \n",
       "3               offer2        branch  four-door car      medsize  \n",
       "4               offer1        branch  four-door car      medsize  \n",
       "...                ...           ...            ...          ...  \n",
       "10684           offer3           web     luxury car      medsize  \n",
       "10685           offer2        branch  four-door car      medsize  \n",
       "10686           offer1           web     luxury suv      medsize  \n",
       "10687           offer1        branch            suv      medsize  \n",
       "10688           offer4           web            suv      medsize  \n",
       "\n",
       "[10689 rows x 14 columns]"
      ]
     },
     "execution_count": 72,
     "metadata": {},
     "output_type": "execute_result"
    }
   ],
   "source": [
    "categorical"
   ]
  },
  {
   "cell_type": "code",
   "execution_count": 74,
   "id": "5aa3722b",
   "metadata": {},
   "outputs": [
    {
     "data": {
      "text/plain": [
       "array(['corporate auto', 'personal auto', 'special auto'], dtype=object)"
      ]
     },
     "execution_count": 74,
     "metadata": {},
     "output_type": "execute_result"
    }
   ],
   "source": [
    "categorical['policy_type'].unique()"
   ]
  },
  {
   "cell_type": "markdown",
   "id": "a27e914d",
   "metadata": {},
   "source": [
    "## Optional"
   ]
  },
  {
   "cell_type": "markdown",
   "id": "70ac0582",
   "metadata": {},
   "source": [
    "* ### Begin by visually examining distributions (histograms) of the numerical features. Select a variable, call it varA, which takes on a wide range of numerical values, and another, varB, which has noticeably large skew (slanted with respect to the mean). For example, you might select customer_lifetime_value as a candidate varB which has skew."
   ]
  },
  {
   "cell_type": "code",
   "execution_count": 6,
   "id": "2f6f0f9c",
   "metadata": {},
   "outputs": [],
   "source": [
    "#varB skew (customer lifetime value)\n",
    "#numeric['customer_lifetime_value'].hist()"
   ]
  },
  {
   "cell_type": "code",
   "execution_count": 7,
   "id": "91441f2e",
   "metadata": {},
   "outputs": [],
   "source": [
    "varA = numeric['income']\n",
    "varB = numeric['customer_lifetime_value']"
   ]
  },
  {
   "cell_type": "markdown",
   "id": "bdd93b1f",
   "metadata": {},
   "source": [
    "* ### (VarA) Use minmax transform to bring varA's values into the range [0,1]."
   ]
  },
  {
   "cell_type": "code",
   "execution_count": 8,
   "id": "d7339419",
   "metadata": {},
   "outputs": [],
   "source": [
    "minmax_varA = minmax_scale(varA)"
   ]
  },
  {
   "cell_type": "markdown",
   "id": "beb124c7",
   "metadata": {},
   "source": [
    "* ### (varA) Check that varA has been rescaled using a distplot or a histagram."
   ]
  },
  {
   "cell_type": "code",
   "execution_count": 9,
   "id": "d40fbc57",
   "metadata": {},
   "outputs": [
    {
     "data": {
      "text/plain": [
       "<seaborn.axisgrid.FacetGrid at 0x7fd21cb383d0>"
      ]
     },
     "execution_count": 9,
     "metadata": {},
     "output_type": "execute_result"
    },
    {
     "data": {
      "image/png": "[encoded data removed]",
      "text/plain": [
       "<Figure size 500x500 with 1 Axes>"
      ]
     },
     "metadata": {},
     "output_type": "display_data"
    }
   ],
   "source": [
    "sns.displot(minmax_varA).set_axis_labels('income', 'count')"
   ]
  },
  {
   "cell_type": "markdown",
   "id": "86ada3e3",
   "metadata": {},
   "source": [
    "* ### (varB) Use StandardScalar or PowerTransform to reduce the skew and standardize varB's distribution."
   ]
  },
  {
   "cell_type": "code",
   "execution_count": 10,
   "id": "bb42e88c",
   "metadata": {},
   "outputs": [
    {
     "data": {
      "text/plain": [
       "array([[-0.33614341],\n",
       "       [-1.86720472],\n",
       "       [ 1.2922699 ],\n",
       "       ...,\n",
       "       [ 1.79973101],\n",
       "       [ 1.0217405 ],\n",
       "       [ 0.24359374]])"
      ]
     },
     "execution_count": 10,
     "metadata": {},
     "output_type": "execute_result"
    }
   ],
   "source": [
    "pt = PowerTransformer()\n",
    "\n",
    "varB = varB.to_numpy()\n",
    "varB = np.reshape(varB, (-1, 1))\n",
    "pt.fit(varB)\n",
    "varB = pt.transform(varB)\n",
    "\n",
    "varB"
   ]
  },
  {
   "cell_type": "markdown",
   "id": "6ea7e4d5",
   "metadata": {},
   "source": [
    "* ### (varB) Check that the result has zero mean, unit variance, and reduced skew using mean(), std(), and a plot of the PDF."
   ]
  },
  {
   "cell_type": "code",
   "execution_count": 11,
   "id": "1dcda54e",
   "metadata": {},
   "outputs": [
    {
     "data": {
      "text/plain": [
       "0.0"
      ]
     },
     "execution_count": 11,
     "metadata": {},
     "output_type": "execute_result"
    }
   ],
   "source": [
    "round(varB.mean(), 1)"
   ]
  },
  {
   "cell_type": "code",
   "execution_count": 12,
   "id": "9778ff66",
   "metadata": {},
   "outputs": [
    {
     "data": {
      "text/plain": [
       "1.0000000000000002"
      ]
     },
     "execution_count": 12,
     "metadata": {},
     "output_type": "execute_result"
    }
   ],
   "source": [
    "np.std(varB)"
   ]
  },
  {
   "cell_type": "code",
   "execution_count": 13,
   "id": "1bbb3f73",
   "metadata": {
    "scrolled": true
   },
   "outputs": [],
   "source": [
    "varB = pd.DataFrame(varB)"
   ]
  },
  {
   "cell_type": "code",
   "execution_count": 17,
   "id": "7ffd4aa4",
   "metadata": {},
   "outputs": [
    {
     "data": {
      "text/plain": [
       "<seaborn.axisgrid.FacetGrid at 0x7fd1e82fd9d0>"
      ]
     },
     "execution_count": 17,
     "metadata": {},
     "output_type": "execute_result"
    },
    {
     "data": {
      "image/png": "[encoded data removed]",
      "text/plain": [
       "<Figure size 500x500 with 1 Axes>"
      ]
     },
     "metadata": {},
     "output_type": "display_data"
    }
   ],
   "source": [
    "sns.displot(varB, legend=False).set_axis_labels('normalized customer lifetime value', 'count')"
   ]
  }
 ],
 "metadata": {
  "kernelspec": {
   "display_name": "Python 3 (ipykernel)",
   "language": "python",
   "name": "python3"
  },
  "language_info": {
   "codemirror_mode": {
    "name": "ipython",
    "version": 3
   },
   "file_extension": ".py",
   "mimetype": "text/x-python",
   "name": "python",
   "nbconvert_exporter": "python",
   "pygments_lexer": "ipython3",
   "version": "3.9.13"
  }
 },
 "nbformat": 4,
 "nbformat_minor": 5
}
