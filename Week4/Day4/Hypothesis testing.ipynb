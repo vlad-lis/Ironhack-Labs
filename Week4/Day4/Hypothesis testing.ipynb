{
 "cells": [
  {
   "cell_type": "markdown",
   "id": "c95b4278",
   "metadata": {},
   "source": [
    "# Lab - hypothesis testing"
   ]
  },
  {
   "cell_type": "code",
   "execution_count": 1,
   "id": "f6c2527a",
   "metadata": {},
   "outputs": [],
   "source": [
    "import numpy as np\n",
    "import pandas as pd\n",
    "import scipy.stats as stats\n",
    "import math"
   ]
  },
  {
   "cell_type": "markdown",
   "id": "c777200c",
   "metadata": {},
   "source": [
    "It is assumed that the mean systolic blood pressure is μ = 120 mm Hg. In the Honolulu Heart Study, a sample of n = 100 people had an average systolic blood pressure of 130.1 mm Hg with a standard deviation of 21.21 mm Hg. Is the group significantly different (with respect to systolic blood pressure!) from the regular population?"
   ]
  },
  {
   "cell_type": "markdown",
   "id": "0b2e1f3d",
   "metadata": {},
   "source": [
    "* Set up the hypothesis test.\n",
    "* Write down all the steps followed for setting up the test.\n",
    "* Calculate the test statistic by hand and also code it in Python. It should be 4.76190. What decision can you make based on this calculated value?"
   ]
  },
  {
   "cell_type": "markdown",
   "id": "8e2b2227",
   "metadata": {},
   "source": [
    "_the null and alternative hypotheses:_\n",
    "\n",
    "H0: μ = 120  \n",
    "H1: μ != 120\n",
    "\n",
    "_the test is two-tailed._  \n",
    "_α = 0.05_"
   ]
  },
  {
   "cell_type": "code",
   "execution_count": 2,
   "id": "e002f31c",
   "metadata": {},
   "outputs": [],
   "source": [
    "#sample and population information\n",
    "pop_mean = 120\n",
    "sample_size = 100\n",
    "sample_std = 21.21\n",
    "sample_mean = 130.1\n"
   ]
  },
  {
   "cell_type": "code",
   "execution_count": 3,
   "id": "14c1eaa2",
   "metadata": {},
   "outputs": [
    {
     "data": {
      "text/plain": [
       "4.761904761904759"
      ]
     },
     "execution_count": 3,
     "metadata": {},
     "output_type": "execute_result"
    }
   ],
   "source": [
    "#t-score\n",
    "t = (sample_mean - pop_mean) / (sample_std/math.sqrt(sample_size))\n",
    "t"
   ]
  },
  {
   "cell_type": "code",
   "execution_count": 4,
   "id": "888e7dce",
   "metadata": {},
   "outputs": [
    {
     "data": {
      "text/plain": [
       "1.9842169515086827"
      ]
     },
     "execution_count": 4,
     "metadata": {},
     "output_type": "execute_result"
    }
   ],
   "source": [
    "#critical value\n",
    "ct = stats.t.ppf(.975, df=99)  #0.975 = 1-(0.05/2) with α = 0.05\n",
    "ct"
   ]
  },
  {
   "cell_type": "markdown",
   "id": "972abd35",
   "metadata": {},
   "source": [
    "**_t > ct (right tail), which means we don't accept the null hypothesis._**"
   ]
  },
  {
   "cell_type": "markdown",
   "id": "0ec74b42",
   "metadata": {},
   "source": [
    "# Optional"
   ]
  },
  {
   "cell_type": "markdown",
   "id": "fa9a8998",
   "metadata": {},
   "source": [
    "In a packing plant, a machine packs cartons with jars. It is supposed that a new machine will pack faster on the average than the machine currently used. To test that hypothesis, the times it takes each machine to pack ten cartons are recorded. The results, in seconds, are shown in the tables in the file Data/machine.txt. Assume that there is sufficient evidence to conduct the t test, does the data provide sufficient evidence to show if one machine is better than the other."
   ]
  },
  {
   "cell_type": "code",
   "execution_count": 5,
   "id": "0319d4c1",
   "metadata": {
    "scrolled": true
   },
   "outputs": [
    {
     "data": {
      "text/html": [
       "<div>\n",
       "<style scoped>\n",
       "    .dataframe tbody tr th:only-of-type {\n",
       "        vertical-align: middle;\n",
       "    }\n",
       "\n",
       "    .dataframe tbody tr th {\n",
       "        vertical-align: top;\n",
       "    }\n",
       "\n",
       "    .dataframe thead th {\n",
       "        text-align: right;\n",
       "    }\n",
       "</style>\n",
       "<table border=\"1\" class=\"dataframe\">\n",
       "  <thead>\n",
       "    <tr style=\"text-align: right;\">\n",
       "      <th></th>\n",
       "      <th>New Machine</th>\n",
       "      <th>Old Machine</th>\n",
       "    </tr>\n",
       "  </thead>\n",
       "  <tbody>\n",
       "    <tr>\n",
       "      <th>0</th>\n",
       "      <td>42.1</td>\n",
       "      <td>42.7</td>\n",
       "    </tr>\n",
       "    <tr>\n",
       "      <th>1</th>\n",
       "      <td>41.0</td>\n",
       "      <td>43.6</td>\n",
       "    </tr>\n",
       "    <tr>\n",
       "      <th>2</th>\n",
       "      <td>41.3</td>\n",
       "      <td>43.8</td>\n",
       "    </tr>\n",
       "    <tr>\n",
       "      <th>3</th>\n",
       "      <td>41.8</td>\n",
       "      <td>43.3</td>\n",
       "    </tr>\n",
       "    <tr>\n",
       "      <th>4</th>\n",
       "      <td>42.4</td>\n",
       "      <td>42.5</td>\n",
       "    </tr>\n",
       "    <tr>\n",
       "      <th>5</th>\n",
       "      <td>42.8</td>\n",
       "      <td>43.5</td>\n",
       "    </tr>\n",
       "    <tr>\n",
       "      <th>6</th>\n",
       "      <td>43.2</td>\n",
       "      <td>43.1</td>\n",
       "    </tr>\n",
       "    <tr>\n",
       "      <th>7</th>\n",
       "      <td>42.3</td>\n",
       "      <td>41.7</td>\n",
       "    </tr>\n",
       "    <tr>\n",
       "      <th>8</th>\n",
       "      <td>41.8</td>\n",
       "      <td>44.0</td>\n",
       "    </tr>\n",
       "    <tr>\n",
       "      <th>9</th>\n",
       "      <td>42.7</td>\n",
       "      <td>44.1</td>\n",
       "    </tr>\n",
       "  </tbody>\n",
       "</table>\n",
       "</div>"
      ],
      "text/plain": [
       "   New Machine    Old Machine\n",
       "0         42.1           42.7\n",
       "1         41.0           43.6\n",
       "2         41.3           43.8\n",
       "3         41.8           43.3\n",
       "4         42.4           42.5\n",
       "5         42.8           43.5\n",
       "6         43.2           43.1\n",
       "7         42.3           41.7\n",
       "8         41.8           44.0\n",
       "9         42.7           44.1"
      ]
     },
     "execution_count": 5,
     "metadata": {},
     "output_type": "execute_result"
    }
   ],
   "source": [
    "data = pd.read_table('./Data_Machine.txt')\n",
    "data"
   ]
  },
  {
   "cell_type": "code",
   "execution_count": 6,
   "id": "26f0dadb",
   "metadata": {},
   "outputs": [
    {
     "name": "stdout",
     "output_type": "stream",
     "text": [
      "       NewMachine\n",
      "count   10.000000\n",
      "mean    42.140000\n",
      "std      0.683455\n",
      "min     41.000000\n",
      "25%     41.800000\n",
      "50%     42.200000\n",
      "75%     42.625000\n",
      "max     43.200000\n",
      "       OldMachine\n",
      "count   10.000000\n",
      "mean    43.230000\n",
      "std      0.749889\n",
      "min     41.700000\n",
      "25%     42.800000\n",
      "50%     43.400000\n",
      "75%     43.750000\n",
      "max     44.100000\n"
     ]
    }
   ],
   "source": [
    "data.columns = data.columns.str.replace(' ', '') #someone put spaces before the 2nd column's name!!\n",
    "\n",
    "new = data[['NewMachine']]\n",
    "old = data[['OldMachine']]\n",
    "\n",
    "new_mean = list(new.mean())[0]\n",
    "new_std = list(new.std())[0]\n",
    "new_count = list(new.count())[0]\n",
    "\n",
    "old_mean = list(old.mean())[0]\n",
    "old_std = list(old.std())[0]\n",
    "old_count = list(old.count())[0]\n",
    "\n",
    "print(new.describe())\n",
    "print(old.describe())"
   ]
  },
  {
   "cell_type": "code",
   "execution_count": 7,
   "id": "992878b7",
   "metadata": {},
   "outputs": [],
   "source": [
    "#t= (sample_mean(x1) - sample_mean(x2)) / sqrt(square(s1)/n1 + square(s2)/n2 )"
   ]
  },
  {
   "cell_type": "code",
   "execution_count": 9,
   "id": "d5970617",
   "metadata": {},
   "outputs": [
    {
     "data": {
      "text/plain": [
       "-3.397230706117603"
      ]
     },
     "execution_count": 9,
     "metadata": {},
     "output_type": "execute_result"
    }
   ],
   "source": [
    "t = (new_mean-old_mean) / math.sqrt(new_std**2/new_count + old_std**2/old_count)\n",
    "t"
   ]
  }
 ],
 "metadata": {
  "kernelspec": {
   "display_name": "Python 3 (ipykernel)",
   "language": "python",
   "name": "python3"
  },
  "language_info": {
   "codemirror_mode": {
    "name": "ipython",
    "version": 3
   },
   "file_extension": ".py",
   "mimetype": "text/x-python",
   "name": "python",
   "nbconvert_exporter": "python",
   "pygments_lexer": "ipython3",
   "version": "3.9.13"
  }
 },
 "nbformat": 4,
 "nbformat_minor": 5
}
