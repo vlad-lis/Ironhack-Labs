{
 "cells": [
  {
   "cell_type": "markdown",
   "id": "f1bd29ad",
   "metadata": {},
   "source": [
    "**1. Import the numpy package under the name `np`**"
   ]
  },
  {
   "cell_type": "code",
   "execution_count": 25,
   "id": "8b2d1f0f",
   "metadata": {},
   "outputs": [],
   "source": [
    "import numpy as np"
   ]
  },
  {
   "cell_type": "markdown",
   "id": "226cc032",
   "metadata": {},
   "source": [
    "**2. Create a null vector of size 10**"
   ]
  },
  {
   "cell_type": "code",
   "execution_count": 26,
   "id": "9b7d06ba",
   "metadata": {},
   "outputs": [
    {
     "data": {
      "text/plain": [
       "array([0., 0., 0., 0., 0., 0., 0., 0., 0., 0.])"
      ]
     },
     "execution_count": 26,
     "metadata": {},
     "output_type": "execute_result"
    }
   ],
   "source": [
    "np.zeros(10)"
   ]
  },
  {
   "cell_type": "markdown",
   "id": "23c92e4f",
   "metadata": {},
   "source": [
    "**3. Create a null vector of size 10 but the fifth value which is 1**"
   ]
  },
  {
   "cell_type": "code",
   "execution_count": 27,
   "id": "8e5ba571",
   "metadata": {},
   "outputs": [
    {
     "data": {
      "text/plain": [
       "array([0., 0., 0., 0., 1., 0., 0., 0., 0., 0.])"
      ]
     },
     "execution_count": 27,
     "metadata": {},
     "output_type": "execute_result"
    }
   ],
   "source": [
    "arr = np.zeros(10)\n",
    "arr[4] = 1\n",
    "\n",
    "arr"
   ]
  },
  {
   "cell_type": "markdown",
   "id": "959ab803",
   "metadata": {},
   "source": [
    "**4. Create a vector with values ranging from 10 to 49**"
   ]
  },
  {
   "cell_type": "code",
   "execution_count": 28,
   "id": "8a397a93",
   "metadata": {},
   "outputs": [
    {
     "data": {
      "text/plain": [
       "array([10, 11, 12, 13, 14, 15, 16, 17, 18, 19, 20, 21, 22, 23, 24, 25, 26,\n",
       "       27, 28, 29, 30, 31, 32, 33, 34, 35, 36, 37, 38, 39, 40, 41, 42, 43,\n",
       "       44, 45, 46, 47, 48, 49])"
      ]
     },
     "execution_count": 28,
     "metadata": {},
     "output_type": "execute_result"
    }
   ],
   "source": [
    "arr = np.arange(10, 50)\n",
    "\n",
    "arr"
   ]
  },
  {
   "cell_type": "markdown",
   "id": "1bf7e0cc",
   "metadata": {},
   "source": [
    "**5. Create a 3x3 matrix with values ranging from 0 to 8**"
   ]
  },
  {
   "cell_type": "code",
   "execution_count": 29,
   "id": "90790bab",
   "metadata": {},
   "outputs": [
    {
     "data": {
      "text/plain": [
       "array([[0, 1, 2],\n",
       "       [3, 4, 5],\n",
       "       [6, 7, 8]])"
      ]
     },
     "execution_count": 29,
     "metadata": {},
     "output_type": "execute_result"
    }
   ],
   "source": [
    "arr = np.arange(0, 9)\n",
    "mt = arr.reshape(3, 3)\n",
    "\n",
    "mt"
   ]
  },
  {
   "cell_type": "markdown",
   "id": "37263a25",
   "metadata": {},
   "source": [
    "**6. Find indices of non-zero elements from [1,2,0,0,4,0]**"
   ]
  },
  {
   "cell_type": "code",
   "execution_count": 30,
   "id": "979ea516",
   "metadata": {},
   "outputs": [
    {
     "data": {
      "text/plain": [
       "(array([0, 1, 4]),)"
      ]
     },
     "execution_count": 30,
     "metadata": {},
     "output_type": "execute_result"
    }
   ],
   "source": [
    "arr = np.array([1,2,0,0,4,0])\n",
    "\n",
    "np.nonzero(arr)"
   ]
  },
  {
   "cell_type": "markdown",
   "id": "7f02d4e1",
   "metadata": {},
   "source": [
    "**7. Create a 3x3 identity matrix**"
   ]
  },
  {
   "cell_type": "code",
   "execution_count": 31,
   "id": "d708edd9",
   "metadata": {},
   "outputs": [
    {
     "data": {
      "text/plain": [
       "array([[1., 0., 0.],\n",
       "       [0., 1., 0.],\n",
       "       [0., 0., 1.]])"
      ]
     },
     "execution_count": 31,
     "metadata": {},
     "output_type": "execute_result"
    }
   ],
   "source": [
    "arr = np.eye(3)\n",
    "\n",
    "arr"
   ]
  },
  {
   "cell_type": "markdown",
   "id": "ec866ab0",
   "metadata": {},
   "source": [
    "**8. Create a 3x3x3 array with random values**"
   ]
  },
  {
   "cell_type": "code",
   "execution_count": 32,
   "id": "8291a9eb",
   "metadata": {},
   "outputs": [
    {
     "data": {
      "text/plain": [
       "array([[0.06792516, 0.84304597, 0.27895386],\n",
       "       [0.35009425, 0.16942533, 0.89380752],\n",
       "       [0.5346463 , 0.34028456, 0.40118302]])"
      ]
     },
     "execution_count": 32,
     "metadata": {},
     "output_type": "execute_result"
    }
   ],
   "source": [
    "arr = np.random.random((3, 3))\n",
    "\n",
    "arr"
   ]
  },
  {
   "cell_type": "markdown",
   "id": "345b09d5",
   "metadata": {},
   "source": [
    "**9. Create a 10x10 array with random values and find the minimum and maximum values**"
   ]
  },
  {
   "cell_type": "code",
   "execution_count": 33,
   "id": "38b38c5c",
   "metadata": {},
   "outputs": [
    {
     "name": "stdout",
     "output_type": "stream",
     "text": [
      "0.008119443684053596\n",
      "0.9974992506891692\n"
     ]
    }
   ],
   "source": [
    "arr = np.random.random((10, 10))\n",
    "\n",
    "print(np.min(arr))\n",
    "print(np.max(arr))"
   ]
  },
  {
   "cell_type": "markdown",
   "id": "df2de085",
   "metadata": {},
   "source": [
    "**10. Create a random vector of size 30 and find the mean value**"
   ]
  },
  {
   "cell_type": "code",
   "execution_count": 34,
   "id": "5fa1db62",
   "metadata": {},
   "outputs": [
    {
     "data": {
      "text/plain": [
       "0.4863599028565041"
      ]
     },
     "execution_count": 34,
     "metadata": {},
     "output_type": "execute_result"
    }
   ],
   "source": [
    "vec = np.random.random(30)\n",
    "\n",
    "np.mean(vec)"
   ]
  },
  {
   "cell_type": "markdown",
   "id": "18c0f9b4",
   "metadata": {},
   "source": [
    "**11. Create a 5x5 matrix with values 1,2,3,4 just below the diagonal**"
   ]
  },
  {
   "cell_type": "code",
   "execution_count": 41,
   "id": "76b810bc",
   "metadata": {},
   "outputs": [
    {
     "data": {
      "text/plain": [
       "array([[0, 0, 0, 0, 0],\n",
       "       [1, 0, 0, 0, 0],\n",
       "       [0, 2, 0, 0, 0],\n",
       "       [0, 0, 3, 0, 0],\n",
       "       [0, 0, 0, 4, 0]])"
      ]
     },
     "execution_count": 41,
     "metadata": {},
     "output_type": "execute_result"
    }
   ],
   "source": [
    "np.diag([1, 2, 3, 4], -1)"
   ]
  },
  {
   "cell_type": "markdown",
   "id": "74cf3f41",
   "metadata": {},
   "source": [
    "**12. Normalize a 5x5 random matrix**"
   ]
  },
  {
   "cell_type": "code",
   "execution_count": 54,
   "id": "3a2226ea",
   "metadata": {},
   "outputs": [
    {
     "name": "stdout",
     "output_type": "stream",
     "text": [
      "[[0.50064137 0.10551689 0.07434226 0.27470224 0.47448077]\n",
      " [0.69268602 0.62464915 0.54787585 0.08183426 0.10718352]\n",
      " [0.30449152 0.38431687 0.2176732  0.15444701 0.7370975 ]\n",
      " [0.6230042  0.2833191  0.76345863 0.93878254 0.59083977]\n",
      " [0.78570079 0.21378128 0.36593992 0.99927579 0.15498364]]\n",
      "[[ 0.2214882  -1.22265078 -1.33659079 -0.60429588  0.1258739 ]\n",
      " [ 0.92339146  0.67472376  0.39412531 -1.30920831 -1.2165594 ]\n",
      " [-0.49541915 -0.20366578 -0.81273109 -1.04381626  1.08571081]\n",
      " [ 0.66871163 -0.57280215  1.18205801  1.82284871  0.55115397]\n",
      " [ 1.2633508  -0.82695567 -0.27083164  2.04394526 -1.04185494]]\n",
      "[[0.46089702 0.03370472 0.         0.21662094 0.43261325]\n",
      " [0.66852778 0.59496912 0.51196499 0.00810004 0.03550662]\n",
      " [0.24882789 0.33513177 0.1549635  0.08660595 0.71654364]\n",
      " [0.59319066 0.22593714 0.74504421 0.93459719 0.55841581]\n",
      " [0.76909152 0.15075571 0.31526336 1.         0.08718613]]\n"
     ]
    }
   ],
   "source": [
    "mt = np.random.random((5, 5))\n",
    "\n",
    "normalized = (mt - np.mean(mt)) / np.std(mt)\n",
    "normalized2 = (mt - np.min(mt)) / (np.max(mt) - np.min(mt))\n",
    "\n",
    "print(mt)\n",
    "print(normalized)\n",
    "print(normalized2)"
   ]
  },
  {
   "cell_type": "markdown",
   "id": "79eae250",
   "metadata": {},
   "source": [
    "**13. How to find common values between two arrays?**"
   ]
  },
  {
   "cell_type": "code",
   "execution_count": 55,
   "id": "a0ff19ae",
   "metadata": {},
   "outputs": [
    {
     "data": {
      "text/plain": [
       "array([5, 6, 7, 8, 9])"
      ]
     },
     "execution_count": 55,
     "metadata": {},
     "output_type": "execute_result"
    }
   ],
   "source": [
    "arr1 = np.arange(1, 10)\n",
    "arr2 = np.arange(5, 15)\n",
    "\n",
    "np.intersect1d(arr1, arr2)"
   ]
  },
  {
   "cell_type": "markdown",
   "id": "17618971",
   "metadata": {},
   "source": [
    "**14. Create a random vector of size 10 and sort it**"
   ]
  },
  {
   "cell_type": "code",
   "execution_count": 59,
   "id": "00c84524",
   "metadata": {},
   "outputs": [
    {
     "data": {
      "text/plain": [
       "array([0.03414026, 0.04231314, 0.37436873, 0.48271383, 0.58542107,\n",
       "       0.68180135, 0.89148186, 0.91021863, 0.94854585, 0.99526637])"
      ]
     },
     "execution_count": 59,
     "metadata": {},
     "output_type": "execute_result"
    }
   ],
   "source": [
    "vec = np.random.random(10)\n",
    "\n",
    "np.sort(vec)"
   ]
  },
  {
   "cell_type": "markdown",
   "id": "2efaa0ed",
   "metadata": {},
   "source": [
    "**15. Create random vector of size 10 and replace the maximum value by 0**"
   ]
  },
  {
   "cell_type": "code",
   "execution_count": 70,
   "id": "730e3aea",
   "metadata": {},
   "outputs": [
    {
     "data": {
      "text/plain": [
       "array([0.42823226, 0.15537368, 0.74026574, 0.30114167, 0.7158887 ,\n",
       "       0.82687405, 0.28532199, 0.07485713, 0.81791309, 0.64344663])"
      ]
     },
     "execution_count": 70,
     "metadata": {},
     "output_type": "execute_result"
    }
   ],
   "source": [
    "vec = np.random.random(10)\n",
    "vec\n"
   ]
  },
  {
   "cell_type": "code",
   "execution_count": 71,
   "id": "b4b30109",
   "metadata": {},
   "outputs": [
    {
     "data": {
      "text/plain": [
       "array([0.42823226, 0.15537368, 0.74026574, 0.30114167, 0.7158887 ,\n",
       "       0.        , 0.28532199, 0.07485713, 0.81791309, 0.64344663])"
      ]
     },
     "execution_count": 71,
     "metadata": {},
     "output_type": "execute_result"
    }
   ],
   "source": [
    "vec[np.argmax(vec)] = 0\n",
    "vec\n"
   ]
  },
  {
   "cell_type": "markdown",
   "id": "db82abda",
   "metadata": {},
   "source": [
    "**16. Subtract the mean of each row of a matrix**"
   ]
  },
  {
   "cell_type": "code",
   "execution_count": 74,
   "id": "e95a0790",
   "metadata": {},
   "outputs": [
    {
     "name": "stdout",
     "output_type": "stream",
     "text": [
      "[[1 2 3]\n",
      " [4 5 6]\n",
      " [7 8 9]]\n"
     ]
    },
    {
     "data": {
      "text/plain": [
       "array([2., 5., 8.])"
      ]
     },
     "execution_count": 74,
     "metadata": {},
     "output_type": "execute_result"
    }
   ],
   "source": [
    "arr = np.arange(1, 10).reshape(3, 3)\n",
    "\n",
    "print(arr)\n",
    "np.mean(arr, axis=1)"
   ]
  },
  {
   "cell_type": "code",
   "execution_count": 76,
   "id": "7ca601de",
   "metadata": {},
   "outputs": [
    {
     "name": "stdout",
     "output_type": "stream",
     "text": [
      "[[2.]\n",
      " [5.]\n",
      " [8.]]\n"
     ]
    }
   ],
   "source": [
    "mean = np.mean(arr, axis=1, keepdims=True)\n",
    "print(mean)"
   ]
  },
  {
   "cell_type": "code",
   "execution_count": 77,
   "id": "02b0a6a8",
   "metadata": {},
   "outputs": [
    {
     "data": {
      "text/plain": [
       "array([[-1.,  0.,  1.],\n",
       "       [-1.,  0.,  1.],\n",
       "       [-1.,  0.,  1.]])"
      ]
     },
     "execution_count": 77,
     "metadata": {},
     "output_type": "execute_result"
    }
   ],
   "source": [
    "subtracted = arr - mean\n",
    "subtracted"
   ]
  },
  {
   "cell_type": "markdown",
   "id": "336c8844",
   "metadata": {},
   "source": [
    "**17. How to get the n largest values of an array**"
   ]
  },
  {
   "cell_type": "code",
   "execution_count": 165,
   "id": "cfb51251",
   "metadata": {},
   "outputs": [],
   "source": [
    "arr = np.arange(10000)\n",
    "np.random.shuffle(arr)\n",
    "n = 5"
   ]
  },
  {
   "cell_type": "code",
   "execution_count": 195,
   "id": "6126f099",
   "metadata": {},
   "outputs": [
    {
     "name": "stdout",
     "output_type": "stream",
     "text": [
      "[9995 9996 9997 9998 9999]\n"
     ]
    }
   ],
   "source": [
    "#np.sort\n",
    "\n",
    "sorted = np.sort(arr)\n",
    "\n",
    "print(sorted[-n:])\n"
   ]
  },
  {
   "cell_type": "code",
   "execution_count": 196,
   "id": "b8568029",
   "metadata": {},
   "outputs": [
    {
     "name": "stdout",
     "output_type": "stream",
     "text": [
      "[9995 9996 9997 9998 9999]\n"
     ]
    }
   ],
   "source": [
    "#np.argsort\n",
    "\n",
    "sorted_indices = np.argsort(arr)\n",
    "n_largest = arr[sorted_indices[-n:]]\n",
    "\n",
    "print(n_largest)\n"
   ]
  },
  {
   "cell_type": "code",
   "execution_count": 197,
   "id": "f73cfbdd",
   "metadata": {},
   "outputs": [
    {
     "name": "stdout",
     "output_type": "stream",
     "text": [
      "[9995 9996 9997 9998 9999]\n"
     ]
    }
   ],
   "source": [
    "#np.argpartition\n",
    "\n",
    "sorted_indices = np.argpartition(arr, range(len(arr)))\n",
    "n_largest = arr[sorted_indices[-n:]]\n",
    "\n",
    "print(n_largest)\n"
   ]
  },
  {
   "cell_type": "markdown",
   "id": "de677fa7",
   "metadata": {},
   "source": [
    "**18. Create a random 5*3 matrix and replace items that are larger than 4 by their squares ( Example:  6 --> 36)**"
   ]
  },
  {
   "cell_type": "code",
   "execution_count": 205,
   "id": "276e0fc2",
   "metadata": {},
   "outputs": [
    {
     "data": {
      "text/plain": [
       "array([[ 7,  8,  9],\n",
       "       [10, 11, 12],\n",
       "       [13, 14, 15],\n",
       "       [ 4,  5,  6],\n",
       "       [ 1,  2,  3]])"
      ]
     },
     "execution_count": 205,
     "metadata": {},
     "output_type": "execute_result"
    }
   ],
   "source": [
    "mt = np.arange(1, 16).reshape(5, 3)\n",
    "np.random.shuffle(mt)\n",
    "\n",
    "mt"
   ]
  },
  {
   "cell_type": "code",
   "execution_count": 207,
   "id": "7586c2a7",
   "metadata": {},
   "outputs": [
    {
     "data": {
      "text/plain": [
       "array([[ 49,  64,  81],\n",
       "       [100, 121, 144],\n",
       "       [169, 196, 225],\n",
       "       [  4,  25,  36],\n",
       "       [  1,   2,   3]])"
      ]
     },
     "execution_count": 207,
     "metadata": {},
     "output_type": "execute_result"
    }
   ],
   "source": [
    "np.where(mt <= 4, mt, mt**2)"
   ]
  },
  {
   "cell_type": "code",
   "execution_count": null,
   "id": "ed2b78b6",
   "metadata": {},
   "outputs": [],
   "source": []
  }
 ],
 "metadata": {
  "kernelspec": {
   "display_name": "Python 3 (ipykernel)",
   "language": "python",
   "name": "python3"
  },
  "language_info": {
   "codemirror_mode": {
    "name": "ipython",
    "version": 3
   },
   "file_extension": ".py",
   "mimetype": "text/x-python",
   "name": "python",
   "nbconvert_exporter": "python",
   "pygments_lexer": "ipython3",
   "version": "3.9.13"
  }
 },
 "nbformat": 4,
 "nbformat_minor": 5
}
