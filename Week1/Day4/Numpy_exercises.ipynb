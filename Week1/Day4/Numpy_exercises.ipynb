{
 "cells": [
  {
   "cell_type": "markdown",
   "id": "f1bd29ad",
   "metadata": {},
   "source": [
    "**1. Import the numpy package under the name `np`**"
   ]
  },
  {
   "cell_type": "code",
   "execution_count": 2,
   "id": "8b2d1f0f",
   "metadata": {},
   "outputs": [],
   "source": [
    "import numpy as np"
   ]
  },
  {
   "cell_type": "markdown",
   "id": "226cc032",
   "metadata": {},
   "source": [
    "**2. Create a null vector of size 10**"
   ]
  },
  {
   "cell_type": "code",
   "execution_count": 3,
   "id": "9b7d06ba",
   "metadata": {},
   "outputs": [
    {
     "data": {
      "text/plain": [
       "array([0., 0., 0., 0., 0., 0., 0., 0., 0., 0.])"
      ]
     },
     "execution_count": 3,
     "metadata": {},
     "output_type": "execute_result"
    }
   ],
   "source": [
    "np.zeros(10)"
   ]
  },
  {
   "cell_type": "markdown",
   "id": "23c92e4f",
   "metadata": {},
   "source": [
    "**3. Create a null vector of size 10 but the fifth value which is 1**"
   ]
  },
  {
   "cell_type": "code",
   "execution_count": 4,
   "id": "8e5ba571",
   "metadata": {},
   "outputs": [
    {
     "data": {
      "text/plain": [
       "array([0., 0., 0., 0., 1., 0., 0., 0., 0., 0.])"
      ]
     },
     "execution_count": 4,
     "metadata": {},
     "output_type": "execute_result"
    }
   ],
   "source": [
    "arr = np.zeros(10)\n",
    "arr[4] = 1\n",
    "\n",
    "arr"
   ]
  },
  {
   "cell_type": "markdown",
   "id": "959ab803",
   "metadata": {},
   "source": [
    "**4. Create a vector with values ranging from 10 to 49**"
   ]
  },
  {
   "cell_type": "code",
   "execution_count": 5,
   "id": "8a397a93",
   "metadata": {},
   "outputs": [
    {
     "data": {
      "text/plain": [
       "array([10, 11, 12, 13, 14, 15, 16, 17, 18, 19, 20, 21, 22, 23, 24, 25, 26,\n",
       "       27, 28, 29, 30, 31, 32, 33, 34, 35, 36, 37, 38, 39, 40, 41, 42, 43,\n",
       "       44, 45, 46, 47, 48, 49])"
      ]
     },
     "execution_count": 5,
     "metadata": {},
     "output_type": "execute_result"
    }
   ],
   "source": [
    "arr = np.arange(10, 50)\n",
    "\n",
    "arr"
   ]
  },
  {
   "cell_type": "markdown",
   "id": "1bf7e0cc",
   "metadata": {},
   "source": [
    "**5. Create a 3x3 matrix with values ranging from 0 to 8**"
   ]
  },
  {
   "cell_type": "code",
   "execution_count": 6,
   "id": "90790bab",
   "metadata": {},
   "outputs": [
    {
     "data": {
      "text/plain": [
       "array([[0, 1, 2],\n",
       "       [3, 4, 5],\n",
       "       [6, 7, 8]])"
      ]
     },
     "execution_count": 6,
     "metadata": {},
     "output_type": "execute_result"
    }
   ],
   "source": [
    "arr = np.arange(0, 9)\n",
    "mt = arr.reshape(3, 3)\n",
    "\n",
    "mt"
   ]
  },
  {
   "cell_type": "markdown",
   "id": "37263a25",
   "metadata": {},
   "source": [
    "**6. Find indices of non-zero elements from [1,2,0,0,4,0]**"
   ]
  },
  {
   "cell_type": "code",
   "execution_count": 7,
   "id": "979ea516",
   "metadata": {},
   "outputs": [
    {
     "data": {
      "text/plain": [
       "(array([0, 1, 4]),)"
      ]
     },
     "execution_count": 7,
     "metadata": {},
     "output_type": "execute_result"
    }
   ],
   "source": [
    "arr = np.array([1,2,0,0,4,0])\n",
    "\n",
    "np.nonzero(arr)"
   ]
  },
  {
   "cell_type": "markdown",
   "id": "7f02d4e1",
   "metadata": {},
   "source": [
    "**7. Create a 3x3 identity matrix**"
   ]
  },
  {
   "cell_type": "code",
   "execution_count": 8,
   "id": "d708edd9",
   "metadata": {},
   "outputs": [
    {
     "data": {
      "text/plain": [
       "array([[1., 0., 0.],\n",
       "       [0., 1., 0.],\n",
       "       [0., 0., 1.]])"
      ]
     },
     "execution_count": 8,
     "metadata": {},
     "output_type": "execute_result"
    }
   ],
   "source": [
    "arr = np.eye(3)\n",
    "\n",
    "arr"
   ]
  },
  {
   "cell_type": "markdown",
   "id": "ec866ab0",
   "metadata": {},
   "source": [
    "**8. Create a 3x3x3 array with random values**"
   ]
  },
  {
   "cell_type": "code",
   "execution_count": 9,
   "id": "8291a9eb",
   "metadata": {},
   "outputs": [
    {
     "data": {
      "text/plain": [
       "array([[0.58558688, 0.01001567, 0.59981359],\n",
       "       [0.64967225, 0.2166347 , 0.40849001],\n",
       "       [0.94632269, 0.94595991, 0.26356627]])"
      ]
     },
     "execution_count": 9,
     "metadata": {},
     "output_type": "execute_result"
    }
   ],
   "source": [
    "arr = np.random.random((3, 3))\n",
    "\n",
    "arr"
   ]
  },
  {
   "cell_type": "markdown",
   "id": "345b09d5",
   "metadata": {},
   "source": [
    "**9. Create a 10x10 array with random values and find the minimum and maximum values**"
   ]
  },
  {
   "cell_type": "code",
   "execution_count": 10,
   "id": "38b38c5c",
   "metadata": {},
   "outputs": [
    {
     "name": "stdout",
     "output_type": "stream",
     "text": [
      "0.024440157890954883\n",
      "0.9824880529219735\n"
     ]
    }
   ],
   "source": [
    "arr = np.random.random((10, 10))\n",
    "\n",
    "print(np.min(arr))\n",
    "print(np.max(arr))"
   ]
  },
  {
   "cell_type": "markdown",
   "id": "df2de085",
   "metadata": {},
   "source": [
    "**10. Create a random vector of size 30 and find the mean value**"
   ]
  },
  {
   "cell_type": "code",
   "execution_count": 11,
   "id": "5fa1db62",
   "metadata": {},
   "outputs": [
    {
     "data": {
      "text/plain": [
       "0.5173281538412275"
      ]
     },
     "execution_count": 11,
     "metadata": {},
     "output_type": "execute_result"
    }
   ],
   "source": [
    "vec = np.random.random(30)\n",
    "\n",
    "np.mean(vec)"
   ]
  },
  {
   "cell_type": "markdown",
   "id": "18c0f9b4",
   "metadata": {},
   "source": [
    "**11. Create a 5x5 matrix with values 1,2,3,4 just below the diagonal**"
   ]
  },
  {
   "cell_type": "code",
   "execution_count": 12,
   "id": "76b810bc",
   "metadata": {},
   "outputs": [
    {
     "data": {
      "text/plain": [
       "array([[0, 0, 0, 0, 0],\n",
       "       [1, 0, 0, 0, 0],\n",
       "       [0, 2, 0, 0, 0],\n",
       "       [0, 0, 3, 0, 0],\n",
       "       [0, 0, 0, 4, 0]])"
      ]
     },
     "execution_count": 12,
     "metadata": {},
     "output_type": "execute_result"
    }
   ],
   "source": [
    "np.diag([1, 2, 3, 4], -1)"
   ]
  },
  {
   "cell_type": "markdown",
   "id": "74cf3f41",
   "metadata": {},
   "source": [
    "**12. Normalize a 5x5 random matrix**"
   ]
  },
  {
   "cell_type": "code",
   "execution_count": 13,
   "id": "3a2226ea",
   "metadata": {},
   "outputs": [
    {
     "name": "stdout",
     "output_type": "stream",
     "text": [
      "[[0.69607151 0.48998825 0.24780944 0.34766045 0.35499118]\n",
      " [0.70730663 0.23415507 0.57113437 0.79680667 0.68971314]\n",
      " [0.73401513 0.18097136 0.49629146 0.46768926 0.93251888]\n",
      " [0.2088738  0.24490518 0.32800137 0.78666951 0.70061111]\n",
      " [0.13968448 0.0478209  0.39678166 0.48775324 0.23900142]]\n",
      "[[ 0.98908716  0.12164249 -0.89773539 -0.47744299 -0.44658653]\n",
      " [ 1.03637797 -0.95520927  0.46320234  1.41310111  0.96232356]\n",
      " [ 1.14879925 -1.17906989  0.14817397  0.02778172  1.9843403 ]\n",
      " [-1.06162307 -0.90995995 -0.56019189  1.37043183  1.00819523]\n",
      " [-1.35285444 -1.73952616 -0.27068222  0.1122349  -0.93481004]]\n"
     ]
    }
   ],
   "source": [
    "mt = np.random.random((5, 5))\n",
    "normalized = (mt - np.mean(mt)) / np.std(mt)\n",
    "\n",
    "print(mt)\n",
    "print(normalized)"
   ]
  },
  {
   "cell_type": "markdown",
   "id": "79eae250",
   "metadata": {},
   "source": [
    "**13. How to find common values between two arrays?**"
   ]
  },
  {
   "cell_type": "code",
   "execution_count": 14,
   "id": "a0ff19ae",
   "metadata": {},
   "outputs": [
    {
     "data": {
      "text/plain": [
       "array([5, 6, 7, 8, 9])"
      ]
     },
     "execution_count": 14,
     "metadata": {},
     "output_type": "execute_result"
    }
   ],
   "source": [
    "arr1 = np.arange(1, 10)\n",
    "arr2 = np.arange(5, 15)\n",
    "\n",
    "np.intersect1d(arr1, arr2)"
   ]
  },
  {
   "cell_type": "markdown",
   "id": "17618971",
   "metadata": {},
   "source": [
    "**14. Create a random vector of size 10 and sort it**"
   ]
  },
  {
   "cell_type": "code",
   "execution_count": 15,
   "id": "00c84524",
   "metadata": {},
   "outputs": [
    {
     "data": {
      "text/plain": [
       "array([0.16272223, 0.16574747, 0.21799502, 0.37716795, 0.49953909,\n",
       "       0.76670459, 0.81099773, 0.89568657, 0.90899869, 0.91773759])"
      ]
     },
     "execution_count": 15,
     "metadata": {},
     "output_type": "execute_result"
    }
   ],
   "source": [
    "vec = np.random.random(10)\n",
    "np.sort(vec)\n"
   ]
  },
  {
   "cell_type": "markdown",
   "id": "2efaa0ed",
   "metadata": {},
   "source": [
    "**15. Create random vector of size 10 and replace the maximum value by 0**"
   ]
  },
  {
   "cell_type": "code",
   "execution_count": 16,
   "id": "730e3aea",
   "metadata": {},
   "outputs": [
    {
     "data": {
      "text/plain": [
       "array([0.72098238, 0.04726804, 0.58471496, 0.76411127, 0.46587328,\n",
       "       0.74968058, 0.81951319, 0.40507876, 0.98793966, 0.43852703])"
      ]
     },
     "execution_count": 16,
     "metadata": {},
     "output_type": "execute_result"
    }
   ],
   "source": [
    "vec = np.random.random(10)\n",
    "vec\n"
   ]
  },
  {
   "cell_type": "code",
   "execution_count": 17,
   "id": "b4b30109",
   "metadata": {},
   "outputs": [
    {
     "data": {
      "text/plain": [
       "array([0.72098238, 0.04726804, 0.58471496, 0.76411127, 0.46587328,\n",
       "       0.74968058, 0.81951319, 0.40507876, 0.        , 0.43852703])"
      ]
     },
     "execution_count": 17,
     "metadata": {},
     "output_type": "execute_result"
    }
   ],
   "source": [
    "vec[np.argmax(vec)] = 0\n",
    "vec\n"
   ]
  },
  {
   "cell_type": "markdown",
   "id": "db82abda",
   "metadata": {},
   "source": [
    "**16. Subtract the mean of each row of a matrix**"
   ]
  },
  {
   "cell_type": "code",
   "execution_count": 18,
   "id": "e95a0790",
   "metadata": {},
   "outputs": [
    {
     "name": "stdout",
     "output_type": "stream",
     "text": [
      "[[1 2 3]\n",
      " [4 5 6]\n",
      " [7 8 9]]\n"
     ]
    },
    {
     "data": {
      "text/plain": [
       "array([2., 5., 8.])"
      ]
     },
     "execution_count": 18,
     "metadata": {},
     "output_type": "execute_result"
    }
   ],
   "source": [
    "arr = np.arange(1, 10).reshape(3, 3)\n",
    "\n",
    "print(arr)\n",
    "np.mean(arr, axis=1)"
   ]
  },
  {
   "cell_type": "code",
   "execution_count": 19,
   "id": "7ca601de",
   "metadata": {},
   "outputs": [
    {
     "name": "stdout",
     "output_type": "stream",
     "text": [
      "[[2.]\n",
      " [5.]\n",
      " [8.]]\n"
     ]
    }
   ],
   "source": [
    "mean = np.mean(arr, axis=1, keepdims=True)\n",
    "print(mean)"
   ]
  },
  {
   "cell_type": "code",
   "execution_count": 20,
   "id": "02b0a6a8",
   "metadata": {},
   "outputs": [
    {
     "data": {
      "text/plain": [
       "array([[-1.,  0.,  1.],\n",
       "       [-1.,  0.,  1.],\n",
       "       [-1.,  0.,  1.]])"
      ]
     },
     "execution_count": 20,
     "metadata": {},
     "output_type": "execute_result"
    }
   ],
   "source": [
    "subtracted = arr - mean\n",
    "subtracted"
   ]
  },
  {
   "cell_type": "markdown",
   "id": "336c8844",
   "metadata": {},
   "source": [
    "**17. How to get the n largest values of an array**"
   ]
  },
  {
   "cell_type": "code",
   "execution_count": 21,
   "id": "cfb51251",
   "metadata": {},
   "outputs": [],
   "source": [
    "arr = np.arange(10000)\n",
    "np.random.shuffle(arr)\n",
    "n = 5"
   ]
  },
  {
   "cell_type": "code",
   "execution_count": 22,
   "id": "6126f099",
   "metadata": {},
   "outputs": [
    {
     "name": "stdout",
     "output_type": "stream",
     "text": [
      "[9995 9996 9997 9998 9999]\n"
     ]
    }
   ],
   "source": [
    "#np.sort\n",
    "\n",
    "sorted = np.sort(arr)\n",
    "\n",
    "print(sorted[-n:])\n"
   ]
  },
  {
   "cell_type": "code",
   "execution_count": 23,
   "id": "b8568029",
   "metadata": {},
   "outputs": [
    {
     "name": "stdout",
     "output_type": "stream",
     "text": [
      "[9995 9996 9997 9998 9999]\n"
     ]
    }
   ],
   "source": [
    "#np.argsort\n",
    "\n",
    "sorted_indices = np.argsort(arr)\n",
    "n_largest = arr[sorted_indices[-n:]]\n",
    "\n",
    "print(n_largest)\n"
   ]
  },
  {
   "cell_type": "code",
   "execution_count": 24,
   "id": "f73cfbdd",
   "metadata": {},
   "outputs": [
    {
     "name": "stdout",
     "output_type": "stream",
     "text": [
      "[9995 9996 9997 9998 9999]\n"
     ]
    }
   ],
   "source": [
    "#np.argpartition\n",
    "\n",
    "sorted_indices = np.argpartition(arr, range(len(arr)))\n",
    "n_largest = arr[sorted_indices[-n:]]\n",
    "\n",
    "print(n_largest)\n"
   ]
  },
  {
   "cell_type": "markdown",
   "id": "de677fa7",
   "metadata": {},
   "source": [
    "**18. Create a random 5*3 matrix and replace items that are larger than 4 by their squares ( Example:  6 --> 36)**"
   ]
  },
  {
   "cell_type": "code",
   "execution_count": 25,
   "id": "276e0fc2",
   "metadata": {},
   "outputs": [
    {
     "data": {
      "text/plain": [
       "array([[ 4,  5,  6],\n",
       "       [ 1,  2,  3],\n",
       "       [ 7,  8,  9],\n",
       "       [10, 11, 12],\n",
       "       [13, 14, 15]])"
      ]
     },
     "execution_count": 25,
     "metadata": {},
     "output_type": "execute_result"
    }
   ],
   "source": [
    "mt = np.arange(1, 16).reshape(5, 3)\n",
    "np.random.shuffle(mt)\n",
    "\n",
    "mt"
   ]
  },
  {
   "cell_type": "code",
   "execution_count": 26,
   "id": "7586c2a7",
   "metadata": {},
   "outputs": [
    {
     "data": {
      "text/plain": [
       "array([[  4,  25,  36],\n",
       "       [  1,   2,   3],\n",
       "       [ 49,  64,  81],\n",
       "       [100, 121, 144],\n",
       "       [169, 196, 225]])"
      ]
     },
     "execution_count": 26,
     "metadata": {},
     "output_type": "execute_result"
    }
   ],
   "source": [
    "np.where(mt <= 4, mt, mt**2)"
   ]
  }
 ],
 "metadata": {
  "kernelspec": {
   "display_name": "Python 3 (ipykernel)",
   "language": "python",
   "name": "python3"
  },
  "language_info": {
   "codemirror_mode": {
    "name": "ipython",
    "version": 3
   },
   "file_extension": ".py",
   "mimetype": "text/x-python",
   "name": "python",
   "nbconvert_exporter": "python",
   "pygments_lexer": "ipython3",
   "version": "3.9.13"
  }
 },
 "nbformat": 4,
 "nbformat_minor": 5
}
