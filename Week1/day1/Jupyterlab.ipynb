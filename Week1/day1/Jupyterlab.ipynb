{
 "cells": [
  {
   "cell_type": "markdown",
   "id": "dba8922d",
   "metadata": {
    "slideshow": {
     "slide_type": "slide"
    }
   },
   "source": [
    "# Holiday"
   ]
  },
  {
   "cell_type": "markdown",
   "id": "086c412d",
   "metadata": {
    "slideshow": {
     "slide_type": "slide"
    }
   },
   "source": [
    "_**Contents:**_  \n",
    "\n",
    "* [destination photo](#holiday-destination)  \n",
    "\n",
    "* [what you can do there](#At-this-destination-you-can)  \n",
    "\n",
    "* [video](#video-of-the-destination)"
   ]
  },
  {
   "cell_type": "markdown",
   "id": "cf8d5060",
   "metadata": {
    "slideshow": {
     "slide_type": "slide"
    }
   },
   "source": [
    "_**The purpose of this notebook it to familiarize yourself with markdown language**_"
   ]
  },
  {
   "cell_type": "code",
   "execution_count": 6,
   "id": "e404dadb",
   "metadata": {
    "scrolled": true,
    "slideshow": {
     "slide_type": "slide"
    }
   },
   "outputs": [
    {
     "name": "stdout",
     "output_type": "stream",
     "text": [
      "Enter your name: Vlad\n",
      "The name is Vlad\n"
     ]
    }
   ],
   "source": [
    "def takeInput():\n",
    "    name = input('Enter your name: ')\n",
    "    print('The name is', name)\n",
    "\n",
    "takeInput()\n"
   ]
  },
  {
   "cell_type": "markdown",
   "id": "a64e60a5",
   "metadata": {
    "slideshow": {
     "slide_type": "slide"
    }
   },
   "source": [
    "_**uploaded photo:**_"
   ]
  },
  {
   "cell_type": "markdown",
   "id": "97d693c4",
   "metadata": {
    "slideshow": {
     "slide_type": "subslide"
    }
   },
   "source": [
    "![failed to load](https://avatars.githubusercontent.com/u/48622600?v=4) "
   ]
  },
  {
   "cell_type": "markdown",
   "id": "0a9fd3b2",
   "metadata": {
    "slideshow": {
     "slide_type": "slide"
    }
   },
   "source": [
    "### _**holiday destination:**_"
   ]
  },
  {
   "cell_type": "markdown",
   "id": "4dfffa39",
   "metadata": {
    "slideshow": {
     "slide_type": "subslide"
    }
   },
   "source": [
    "![nope](https://images.unsplash.com/photo-1653162568334-21a6d74c567f?ixlib=rb-4.0.3&ixid=MnwxMjA3fDB8MHx0b3BpYy1mZWVkfDJ8NnNNVmpUTFNrZVF8fGVufDB8fHx8&auto=format&fit=crop&w=800&q=60)"
   ]
  },
  {
   "cell_type": "markdown",
   "id": "cea9d031",
   "metadata": {
    "slideshow": {
     "slide_type": "slide"
    }
   },
   "source": [
    "### _**At this destination you can:**_"
   ]
  },
  {
   "cell_type": "markdown",
   "id": "374bd91a",
   "metadata": {
    "slideshow": {
     "slide_type": "subslide"
    }
   },
   "source": [
    "<font color = green>* Gather some moondust</font>  \n",
    "\n",
    "<font color = pink>* Enjoy the view of the Earth</font>  \n",
    "\n",
    "<font color = teal>* Do some low gravity jumping around</font>"
   ]
  },
  {
   "cell_type": "markdown",
   "id": "b1fd408f",
   "metadata": {
    "slideshow": {
     "slide_type": "slide"
    }
   },
   "source": [
    "### _**video of the destination:**_  \n",
    "\n",
    "https://www.youtube.com/watch?v=dQw4w9WgXcQ"
   ]
  }
 ],
 "metadata": {
  "celltoolbar": "Slideshow",
  "kernelspec": {
   "display_name": "Python 3 (ipykernel)",
   "language": "python",
   "name": "python3"
  },
  "language_info": {
   "codemirror_mode": {
    "name": "ipython",
    "version": 3
   },
   "file_extension": ".py",
   "mimetype": "text/x-python",
   "name": "python",
   "nbconvert_exporter": "python",
   "pygments_lexer": "ipython3",
   "version": "3.9.13"
  }
 },
 "nbformat": 4,
 "nbformat_minor": 5
}
