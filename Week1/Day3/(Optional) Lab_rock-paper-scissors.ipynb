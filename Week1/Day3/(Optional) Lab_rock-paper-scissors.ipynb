{
 "cells": [
  {
   "cell_type": "markdown",
   "metadata": {},
   "source": [
    "<img src=\"https://bit.ly/2VnXWr2\" width=\"100\" align=\"left\">"
   ]
  },
  {
   "cell_type": "markdown",
   "metadata": {},
   "source": [
    "# Rock, Paper & Scissors\n",
    "\n",
    "Let's play the famous game against our computer. You can check the rules [here](https://en.wikipedia.org/wiki/Rock%E2%80%93paper%E2%80%93scissors). \n",
    "\n",
    "## Task\n",
    "Create a program that imitates the playability of the well known game of rock, paper, scissors. Follow the guidelines provided.\n",
    "\n",
    "## Tools\n",
    "1. Loop: **for/while**\n",
    "2. Functions: **input(), print()...**\n",
    "3. Conditional statements: **if, elif, else**\n",
    "4. Definition of functions. Modular programming\n",
    "5. Import modules\n",
    "\n",
    "- **To solve this challenge, the use of functions is recommended.**\n",
    "- <b>Hint: You dont need necessarily to follow the instructions in this notebook to solve the tasks. simply just get the job done effeciently ;) \n",
    "\n",
    "#### 1. Import the choice function of the random module."
   ]
  },
  {
   "cell_type": "code",
   "execution_count": 1,
   "metadata": {},
   "outputs": [],
   "source": [
    "import random"
   ]
  },
  {
   "cell_type": "markdown",
   "metadata": {},
   "source": [
    "#### 2. Create a list that includes the 3 possible gesture options of the game: 'rock', 'paper' or 'scissors'. Store the list in a variable called `gestures`."
   ]
  },
  {
   "cell_type": "code",
   "execution_count": 2,
   "metadata": {},
   "outputs": [],
   "source": [
    "gestures = ['rock', 'paper', 'scissors']"
   ]
  },
  {
   "cell_type": "markdown",
   "metadata": {},
   "source": [
    "#### 3. Create a variable called `n_rounds` to store the maximum number of rounds to play in a game. \n",
    "Remember that the number of rounds must be odd: 1, 3, 5, ..."
   ]
  },
  {
   "cell_type": "code",
   "execution_count": 3,
   "metadata": {},
   "outputs": [],
   "source": [
    "def number_of_rounds():\n",
    "    while True:\n",
    "        prompt = int(input('Choose a number of rounds: '))\n",
    "        \n",
    "        if prompt % 2 == 0:\n",
    "            print('Please enter an odd number')\n",
    "        else:\n",
    "            return prompt\n",
    "    "
   ]
  },
  {
   "cell_type": "markdown",
   "metadata": {},
   "source": [
    "#### 4. Create a variable called `rounds_to_win` to store the number of rounds that a player must win to win the game.\n",
    "**Hint**: the value stored in `rounds_to_win` depends on the value of `n_rounds`. "
   ]
  },
  {
   "cell_type": "code",
   "execution_count": 4,
   "metadata": {},
   "outputs": [],
   "source": [
    "#made local\n"
   ]
  },
  {
   "cell_type": "markdown",
   "metadata": {},
   "source": [
    "#### 5. Create two variables to store the number of rounds that the computer and the player have won. Call these variables `cpu_score` and `player_score`."
   ]
  },
  {
   "cell_type": "code",
   "execution_count": 5,
   "metadata": {},
   "outputs": [],
   "source": [
    "#made local\n"
   ]
  },
  {
   "cell_type": "markdown",
   "metadata": {},
   "source": [
    "#### 6. Define a function that randomly returns one of the 3 gesture options.\n",
    "You will use this function to simulate the gesture choice of the computer. "
   ]
  },
  {
   "cell_type": "code",
   "execution_count": 6,
   "metadata": {},
   "outputs": [],
   "source": [
    "def cpu_choice(gestures):\n",
    "    return random.choice(gestures)\n"
   ]
  },
  {
   "cell_type": "markdown",
   "metadata": {},
   "source": [
    "#### 7. Define a function that asks the player which is the gesture he or she wants to show: 'rock', 'paper' or 'scissors'.\n",
    "The player should only be allowed to choose one of the 3 gesture options. If the player's choice is not rock, paper or scissors, keep asking until it is."
   ]
  },
  {
   "cell_type": "code",
   "execution_count": 7,
   "metadata": {},
   "outputs": [],
   "source": [
    "def player_choice(gestures):\n",
    "    while True:\n",
    "        prompt = input(f'Please choose one of these: {gestures} ')\n",
    "        \n",
    "        if prompt not in gestures:\n",
    "            print('Please choose again')\n",
    "        else:\n",
    "            return prompt\n"
   ]
  },
  {
   "cell_type": "markdown",
   "metadata": {},
   "source": [
    "#### 8. Define a function that checks who won a round. \n",
    "The function should return 0 if there is a tie, 1 if the computer wins and 2 if the player wins."
   ]
  },
  {
   "cell_type": "code",
   "execution_count": 8,
   "metadata": {},
   "outputs": [],
   "source": [
    "def check_round_winner(player_move, cpu_move):\n",
    "\n",
    "    if player_move == 'rock':\n",
    "        if cpu_move == 'rock':\n",
    "            return 0\n",
    "        elif cpu_move == 'paper':\n",
    "            return 1\n",
    "        elif cpu_move == 'scissors':\n",
    "            return 2\n",
    "        \n",
    "    elif player_move == 'paper':\n",
    "        if cpu_move == 'rock':\n",
    "            return 2\n",
    "        elif cpu_move == 'paper':\n",
    "            return 0\n",
    "        elif cpu_move == 'scissors':\n",
    "            return 1\n",
    "        \n",
    "    elif player_move == 'scissors':\n",
    "        if cpu_move == 'rock':\n",
    "            return 1\n",
    "        elif cpu_move == 'paper':\n",
    "            return 2\n",
    "        elif cpu_move == 'scissors':\n",
    "            return 0\n"
   ]
  },
  {
   "cell_type": "markdown",
   "metadata": {},
   "source": [
    "#### 9. Define a function that prints the choice of the computer, the choice of the player and a message that announces who won the current round. \n",
    "You should also use this function to update the variables that count the number of rounds that the computer and the player have won. The score of the winner increases by one point. If there is a tie, the score does not increase."
   ]
  },
  {
   "cell_type": "code",
   "execution_count": 9,
   "metadata": {},
   "outputs": [],
   "source": [
    "'''announcer expects the third argument <check_round_winner>\n",
    "to be a function that compares the first two arguments (made moves)\n",
    "and returns a value depending on who won (0, 1, 2)'''\n",
    "\n",
    "def announcer(player_move, cpu_move, check_round_winner):\n",
    "    \n",
    "    print(f\"- Player's move: {player_move}\")\n",
    "    print(f\"- Computer's move: {cpu_move}\")\n",
    "    \n",
    "    if check_round_winner(player_move, cpu_move) == 0:\n",
    "        print('The round is a tie')\n",
    "        print('******************')\n",
    "    elif check_round_winner(player_move, cpu_move) == 1:\n",
    "        print('Computer wins the round')\n",
    "        print('******************')\n",
    "    elif check_round_winner(player_move, cpu_move) == 2:\n",
    "        print('Player wins the round')\n",
    "        print('******************')\n",
    "        "
   ]
  },
  {
   "cell_type": "markdown",
   "metadata": {},
   "source": [
    "#### 10. Now it's time to code the execution of the game using the functions and variables you defined above. \n",
    "\n",
    "First, create a loop structure that repeats while no player reaches the minimum score necessary to win and the number of rounds is less than the maximum number of rounds to play in a game.  \n",
    "\n",
    "Inside the loop, use the functions and variables above to create the execution of a round: ask for the player's choice, generate the random choice of the computer, show the round results, update the scores, etc. "
   ]
  },
  {
   "cell_type": "code",
   "execution_count": 10,
   "metadata": {},
   "outputs": [],
   "source": [
    "'''game_on expects the second argument <check_round_winner>\n",
    "to be a function that compares player's and computer's moves\n",
    "and returns a value depending on who won (0, 1, 2)'''\n",
    "\n",
    "def game_on(gestures, check_round_winner):\n",
    "    \n",
    "    cpu_score = 0\n",
    "    player_score = 0\n",
    "    n_rounds = number_of_rounds()\n",
    "    rounds_to_win = n_rounds//2 + 1\n",
    "    played_rounds = 0\n",
    "    \n",
    "    while played_rounds < n_rounds:\n",
    "        player_move = player_choice(gestures)\n",
    "        cpu_move = cpu_choice(gestures)\n",
    "        announcer(player_move, cpu_move, check_round_winner)\n",
    "        check_round_winner(player_move, cpu_move)\n",
    "        played_rounds += 1\n",
    "        \n",
    "        if check_round_winner(player_move, cpu_move) == 0:\n",
    "            pass\n",
    "        elif check_round_winner(player_move, cpu_move) == 1: \n",
    "            cpu_score += 1\n",
    "        elif check_round_winner(player_move, cpu_move) == 2:\n",
    "            player_score += 1 \n",
    "        \n",
    "        \n",
    "        if cpu_score == rounds_to_win or player_score == rounds_to_win or played_rounds == n_rounds:\n",
    "            if cpu_score > player_score:\n",
    "                print(f'Computer wins with the score of {cpu_score} to {player_score}')\n",
    "                break\n",
    "            elif cpu_score < player_score:\n",
    "                print(f'Player wins with the score of {player_score} to {cpu_score}')\n",
    "                break\n",
    "            else:\n",
    "                print(f'Tie with the score of {player_score} to {cpu_score}')\n",
    "                "
   ]
  },
  {
   "cell_type": "code",
   "execution_count": 11,
   "metadata": {},
   "outputs": [
    {
     "name": "stdout",
     "output_type": "stream",
     "text": [
      "Choose a number of rounds: 3\n",
      "Please choose one of these: ['rock', 'paper', 'scissors'] rock\n",
      "- Player's move: rock\n",
      "- Computer's move: rock\n",
      "The round is a tie\n",
      "******************\n",
      "Please choose one of these: ['rock', 'paper', 'scissors'] paper\n",
      "- Player's move: paper\n",
      "- Computer's move: rock\n",
      "Player wins the round\n",
      "******************\n",
      "Please choose one of these: ['rock', 'paper', 'scissors'] paper\n",
      "- Player's move: paper\n",
      "- Computer's move: paper\n",
      "The round is a tie\n",
      "******************\n",
      "Player wins with the score of 1 to 0\n"
     ]
    }
   ],
   "source": [
    "game_on(gestures, check_round_winner)"
   ]
  },
  {
   "cell_type": "code",
   "execution_count": 12,
   "metadata": {},
   "outputs": [
    {
     "name": "stdout",
     "output_type": "stream",
     "text": [
      "Want to play? yes\n"
     ]
    }
   ],
   "source": [
    "def wrapper(function, *args):\n",
    "    answer = input('Want to play? ')\n",
    "    if answer == 'Yes':\n",
    "        function(*args)\n",
    "        wrapper(function, *args)\n",
    "    elif answer == 'No':\n",
    "        print('Done')\n",
    "\n",
    "wrapper(game_on, gestures, check_round_winner)"
   ]
  },
  {
   "cell_type": "markdown",
   "metadata": {},
   "source": [
    "#### 11. Print the winner of the game based on who won more rounds.\n",
    "Remember that the game might be tied. "
   ]
  },
  {
   "cell_type": "code",
   "execution_count": 13,
   "metadata": {},
   "outputs": [
    {
     "ename": "KeyboardInterrupt",
     "evalue": "Interrupted by user",
     "output_type": "error",
     "traceback": [
      "\u001b[0;31m---------------------------------------------------------------------------\u001b[0m",
      "\u001b[0;31mKeyboardInterrupt\u001b[0m                         Traceback (most recent call last)",
      "\u001b[0;32m/var/folders/_s/52sxqdgx6vz_jhkj_h0kr5800000gn/T/ipykernel_54047/1305091174.py\u001b[0m in \u001b[0;36m<module>\u001b[0;34m\u001b[0m\n\u001b[0;32m----> 1\u001b[0;31m \u001b[0mgame_on\u001b[0m\u001b[0;34m(\u001b[0m\u001b[0mgestures\u001b[0m\u001b[0;34m,\u001b[0m \u001b[0mcheck_round_winner\u001b[0m\u001b[0;34m)\u001b[0m\u001b[0;34m\u001b[0m\u001b[0;34m\u001b[0m\u001b[0m\n\u001b[0m",
      "\u001b[0;32m/var/folders/_s/52sxqdgx6vz_jhkj_h0kr5800000gn/T/ipykernel_54047/874614631.py\u001b[0m in \u001b[0;36mgame_on\u001b[0;34m(gestures, check_round_winner)\u001b[0m\n\u001b[1;32m      7\u001b[0m     \u001b[0mcpu_score\u001b[0m \u001b[0;34m=\u001b[0m \u001b[0;36m0\u001b[0m\u001b[0;34m\u001b[0m\u001b[0;34m\u001b[0m\u001b[0m\n\u001b[1;32m      8\u001b[0m     \u001b[0mplayer_score\u001b[0m \u001b[0;34m=\u001b[0m \u001b[0;36m0\u001b[0m\u001b[0;34m\u001b[0m\u001b[0;34m\u001b[0m\u001b[0m\n\u001b[0;32m----> 9\u001b[0;31m     \u001b[0mn_rounds\u001b[0m \u001b[0;34m=\u001b[0m \u001b[0mnumber_of_rounds\u001b[0m\u001b[0;34m(\u001b[0m\u001b[0;34m)\u001b[0m\u001b[0;34m\u001b[0m\u001b[0;34m\u001b[0m\u001b[0m\n\u001b[0m\u001b[1;32m     10\u001b[0m     \u001b[0mrounds_to_win\u001b[0m \u001b[0;34m=\u001b[0m \u001b[0mn_rounds\u001b[0m\u001b[0;34m//\u001b[0m\u001b[0;36m2\u001b[0m \u001b[0;34m+\u001b[0m \u001b[0;36m1\u001b[0m\u001b[0;34m\u001b[0m\u001b[0;34m\u001b[0m\u001b[0m\n\u001b[1;32m     11\u001b[0m     \u001b[0mplayed_rounds\u001b[0m \u001b[0;34m=\u001b[0m \u001b[0;36m0\u001b[0m\u001b[0;34m\u001b[0m\u001b[0;34m\u001b[0m\u001b[0m\n",
      "\u001b[0;32m/var/folders/_s/52sxqdgx6vz_jhkj_h0kr5800000gn/T/ipykernel_54047/1173317890.py\u001b[0m in \u001b[0;36mnumber_of_rounds\u001b[0;34m()\u001b[0m\n\u001b[1;32m      1\u001b[0m \u001b[0;32mdef\u001b[0m \u001b[0mnumber_of_rounds\u001b[0m\u001b[0;34m(\u001b[0m\u001b[0;34m)\u001b[0m\u001b[0;34m:\u001b[0m\u001b[0;34m\u001b[0m\u001b[0;34m\u001b[0m\u001b[0m\n\u001b[1;32m      2\u001b[0m     \u001b[0;32mwhile\u001b[0m \u001b[0;32mTrue\u001b[0m\u001b[0;34m:\u001b[0m\u001b[0;34m\u001b[0m\u001b[0;34m\u001b[0m\u001b[0m\n\u001b[0;32m----> 3\u001b[0;31m         \u001b[0mprompt\u001b[0m \u001b[0;34m=\u001b[0m \u001b[0mint\u001b[0m\u001b[0;34m(\u001b[0m\u001b[0minput\u001b[0m\u001b[0;34m(\u001b[0m\u001b[0;34m'Choose a number of rounds: '\u001b[0m\u001b[0;34m)\u001b[0m\u001b[0;34m)\u001b[0m\u001b[0;34m\u001b[0m\u001b[0;34m\u001b[0m\u001b[0m\n\u001b[0m\u001b[1;32m      4\u001b[0m \u001b[0;34m\u001b[0m\u001b[0m\n\u001b[1;32m      5\u001b[0m         \u001b[0;32mif\u001b[0m \u001b[0mprompt\u001b[0m \u001b[0;34m%\u001b[0m \u001b[0;36m2\u001b[0m \u001b[0;34m==\u001b[0m \u001b[0;36m0\u001b[0m\u001b[0;34m:\u001b[0m\u001b[0;34m\u001b[0m\u001b[0;34m\u001b[0m\u001b[0m\n",
      "\u001b[0;32m~/opt/anaconda3/lib/python3.9/site-packages/ipykernel/kernelbase.py\u001b[0m in \u001b[0;36mraw_input\u001b[0;34m(self, prompt)\u001b[0m\n\u001b[1;32m   1175\u001b[0m                 \u001b[0;34m\"raw_input was called, but this frontend does not support input requests.\"\u001b[0m\u001b[0;34m\u001b[0m\u001b[0;34m\u001b[0m\u001b[0m\n\u001b[1;32m   1176\u001b[0m             )\n\u001b[0;32m-> 1177\u001b[0;31m         return self._input_request(\n\u001b[0m\u001b[1;32m   1178\u001b[0m             \u001b[0mstr\u001b[0m\u001b[0;34m(\u001b[0m\u001b[0mprompt\u001b[0m\u001b[0;34m)\u001b[0m\u001b[0;34m,\u001b[0m\u001b[0;34m\u001b[0m\u001b[0;34m\u001b[0m\u001b[0m\n\u001b[1;32m   1179\u001b[0m             \u001b[0mself\u001b[0m\u001b[0;34m.\u001b[0m\u001b[0m_parent_ident\u001b[0m\u001b[0;34m[\u001b[0m\u001b[0;34m\"shell\"\u001b[0m\u001b[0;34m]\u001b[0m\u001b[0;34m,\u001b[0m\u001b[0;34m\u001b[0m\u001b[0;34m\u001b[0m\u001b[0m\n",
      "\u001b[0;32m~/opt/anaconda3/lib/python3.9/site-packages/ipykernel/kernelbase.py\u001b[0m in \u001b[0;36m_input_request\u001b[0;34m(self, prompt, ident, parent, password)\u001b[0m\n\u001b[1;32m   1217\u001b[0m             \u001b[0;32mexcept\u001b[0m \u001b[0mKeyboardInterrupt\u001b[0m\u001b[0;34m:\u001b[0m\u001b[0;34m\u001b[0m\u001b[0;34m\u001b[0m\u001b[0m\n\u001b[1;32m   1218\u001b[0m                 \u001b[0;31m# re-raise KeyboardInterrupt, to truncate traceback\u001b[0m\u001b[0;34m\u001b[0m\u001b[0;34m\u001b[0m\u001b[0m\n\u001b[0;32m-> 1219\u001b[0;31m                 \u001b[0;32mraise\u001b[0m \u001b[0mKeyboardInterrupt\u001b[0m\u001b[0;34m(\u001b[0m\u001b[0;34m\"Interrupted by user\"\u001b[0m\u001b[0;34m)\u001b[0m \u001b[0;32mfrom\u001b[0m \u001b[0;32mNone\u001b[0m\u001b[0;34m\u001b[0m\u001b[0;34m\u001b[0m\u001b[0m\n\u001b[0m\u001b[1;32m   1220\u001b[0m             \u001b[0;32mexcept\u001b[0m \u001b[0mException\u001b[0m\u001b[0;34m:\u001b[0m\u001b[0;34m\u001b[0m\u001b[0;34m\u001b[0m\u001b[0m\n\u001b[1;32m   1221\u001b[0m                 \u001b[0mself\u001b[0m\u001b[0;34m.\u001b[0m\u001b[0mlog\u001b[0m\u001b[0;34m.\u001b[0m\u001b[0mwarning\u001b[0m\u001b[0;34m(\u001b[0m\u001b[0;34m\"Invalid Message:\"\u001b[0m\u001b[0;34m,\u001b[0m \u001b[0mexc_info\u001b[0m\u001b[0;34m=\u001b[0m\u001b[0;32mTrue\u001b[0m\u001b[0;34m)\u001b[0m\u001b[0;34m\u001b[0m\u001b[0;34m\u001b[0m\u001b[0m\n",
      "\u001b[0;31mKeyboardInterrupt\u001b[0m: Interrupted by user"
     ]
    }
   ],
   "source": [
    "game_on(gestures, check_round_winner)"
   ]
  },
  {
   "cell_type": "raw",
   "metadata": {},
   "source": [
    "# (Optional) Rock, Paper, Scissors, Lizard & Spock\n",
    "![](images/rpsls.jpg)\n",
    "\n",
    "In this challenge, you need to improve the previous game by adding two new options. To know more about the rules of the improved version of rock, paper, scissors, check this [link](http://www.samkass.com/theories/RPSSL.html). \n",
    "\n",
    "In addition, you will also need to improve how the game interacts with the player: the number of rounds to play, which must be an odd number, will be requested to the user until a valid number is entered. Define a new function to make that request.\n",
    "\n",
    "**Hint**: Try to reuse the code that you already coded in the previous challenge. If your code is efficient, this bonus will only consist of simple modifications to the original game."
   ]
  },
  {
   "cell_type": "code",
   "execution_count": 15,
   "metadata": {},
   "outputs": [],
   "source": [
    "gestures_spock = ['rock', 'paper', 'scissors', 'lizard', 'spock']"
   ]
  },
  {
   "cell_type": "code",
   "execution_count": 16,
   "metadata": {},
   "outputs": [],
   "source": [
    "def check_round_winner_spock(player_move, cpu_move):\n",
    "\n",
    "    if player_move == 'rock':\n",
    "        if cpu_move == 'rock':\n",
    "            return 0\n",
    "        elif cpu_move == 'paper':\n",
    "            return 1\n",
    "        elif cpu_move == 'scissors':\n",
    "            return 2\n",
    "        elif cpu_move == 'lizard':\n",
    "            return 2\n",
    "        elif cpu_move == 'spock':\n",
    "            return 1\n",
    "        \n",
    "    elif player_move == 'paper':\n",
    "        if cpu_move == 'rock':\n",
    "            return 2\n",
    "        elif cpu_move == 'paper':\n",
    "            return 0\n",
    "        elif cpu_move == 'scissors':\n",
    "            return 1\n",
    "        elif cpu_move == 'lizard':\n",
    "            return 1\n",
    "        elif cpu_move == 'spock':\n",
    "            return 2\n",
    "        \n",
    "    elif player_move == 'scissors':\n",
    "        if cpu_move == 'rock':\n",
    "            return 1\n",
    "        elif cpu_move == 'paper':\n",
    "            return 2\n",
    "        elif cpu_move == 'scissors':\n",
    "            return 0\n",
    "        elif cpu_move == 'lizard':\n",
    "            return 2\n",
    "        elif cpu_move == 'spock':\n",
    "            return 1\n",
    "    \n",
    "    elif player_move == 'lizard':\n",
    "        if cpu_move == 'rock':\n",
    "            return 1\n",
    "        elif cpu_move == 'paper':\n",
    "            return 2\n",
    "        elif cpu_move == 'scissors':\n",
    "            return 1\n",
    "        elif cpu_move == 'lizard':\n",
    "            return 0\n",
    "        elif cpu_move == 'spock':\n",
    "            return 2\n",
    "    \n",
    "    elif player_move == 'spock':\n",
    "        if cpu_move == 'rock':\n",
    "            return 2\n",
    "        elif cpu_move == 'paper':\n",
    "            return 1\n",
    "        elif cpu_move == 'scissors':\n",
    "            return 2\n",
    "        elif cpu_move == 'lizard':\n",
    "            return 1\n",
    "        elif cpu_move == 'spock':\n",
    "            return 0"
   ]
  },
  {
   "cell_type": "code",
   "execution_count": 17,
   "metadata": {},
   "outputs": [
    {
     "name": "stdout",
     "output_type": "stream",
     "text": [
      "Choose a number of rounds: 5\n",
      "Please choose one of these: ['rock', 'paper', 'scissors', 'lizard', 'spock'] rock\n",
      "- Player's move: rock\n",
      "- Computer's move: spock\n",
      "Computer wins the round\n",
      "******************\n",
      "Please choose one of these: ['rock', 'paper', 'scissors', 'lizard', 'spock'] paper\n",
      "- Player's move: paper\n",
      "- Computer's move: scissors\n",
      "Computer wins the round\n",
      "******************\n",
      "Please choose one of these: ['rock', 'paper', 'scissors', 'lizard', 'spock'] spock\n",
      "- Player's move: spock\n",
      "- Computer's move: scissors\n",
      "Player wins the round\n",
      "******************\n",
      "Please choose one of these: ['rock', 'paper', 'scissors', 'lizard', 'spock'] rock\n",
      "- Player's move: rock\n",
      "- Computer's move: scissors\n",
      "Player wins the round\n",
      "******************\n",
      "Please choose one of these: ['rock', 'paper', 'scissors', 'lizard', 'spock'] rock\n",
      "- Player's move: rock\n",
      "- Computer's move: scissors\n",
      "Player wins the round\n",
      "******************\n",
      "Player wins with the score of 3 to 2\n"
     ]
    }
   ],
   "source": [
    "game_on(gestures_spock, check_round_winner_spock)"
   ]
  },
  {
   "cell_type": "code",
   "execution_count": null,
   "metadata": {},
   "outputs": [],
   "source": []
  }
 ],
 "metadata": {
  "kernelspec": {
   "display_name": "Python 3 (ipykernel)",
   "language": "python",
   "name": "python3"
  },
  "language_info": {
   "codemirror_mode": {
    "name": "ipython",
    "version": 3
   },
   "file_extension": ".py",
   "mimetype": "text/x-python",
   "name": "python",
   "nbconvert_exporter": "python",
   "pygments_lexer": "ipython3",
   "version": "3.9.13"
  },
  "toc": {
   "base_numbering": 1,
   "nav_menu": {},
   "number_sections": true,
   "sideBar": true,
   "skip_h1_title": false,
   "title_cell": "Table of Contents",
   "title_sidebar": "Contents",
   "toc_cell": false,
   "toc_position": {},
   "toc_section_display": true,
   "toc_window_display": false
  }
 },
 "nbformat": 4,
 "nbformat_minor": 2
}
